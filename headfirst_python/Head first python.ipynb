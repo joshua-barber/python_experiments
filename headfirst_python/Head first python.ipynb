{
 "cells": [
  {
   "cell_type": "markdown",
   "metadata": {},
   "source": [
    "# Headfirst python"
   ]
  },
  {
   "cell_type": "markdown",
   "metadata": {},
   "source": [
    "##### Chapter 1\n",
    "Python is a lot like any other general-purpose programming language with statements, expressions, operators, functions, modules, methods, and classes.  \n",
    "\n",
    "Lists are like arrays yet don't need to be typed, and in fact can be mixed type. They are Python \"Collection objects\" and accordingly come with their own built in functions (BIFs)."
   ]
  },
  {
   "cell_type": "code",
   "execution_count": 36,
   "metadata": {
    "collapsed": false
   },
   "outputs": [
    {
     "name": "stdout",
     "output_type": "stream",
     "text": [
      "['The Holy Grail', 'The Life of Brian', 'The Meaning of Life']\n",
      "The Life of Brian\n",
      "3\n",
      "17\n",
      "\n",
      "Lists can be altered using BIFs:\n",
      "['The Holy Grail', 'The Life of Brian', 'The Meaning of Life']\n",
      "The Meaning of Life\n",
      "['The Holy Grail', 'The Life of Brian']\n",
      "['The Holy Grail', 'The Life of Brian', 'Flying Circus']\n",
      "['The Holy Grail', 'Flying Circus']\n",
      "['The Holy Grail', 'The Life of Brian', 'Flying Circus']\n",
      "['The Holy Grail', 1975, 'The Life of Brian', 1979, 'The Meaning of Life', 1983]\n"
     ]
    }
   ],
   "source": [
    "#Enter list values\n",
    "movies = [\"The Holy Grail\", \"The Life of Brian\", \"The Meaning of Life\"]\n",
    "print(movies)\n",
    "#Print the 2nd (index = 1) item in the list\n",
    "print(movies[1])\n",
    "#Return and print the length of the list (i.e. number of items)\n",
    "print(len(movies))\n",
    "#Print the length of a specific list item\n",
    "print(len(movies[1]))\n",
    "\n",
    "print(\"\\nLists can be altered using BIFs:\")\n",
    "print(movies)\n",
    "print(movies.pop())\n",
    "print(movies)\n",
    "movies.extend([\"Flying Circus\"])\n",
    "print(movies)\n",
    "movies.remove(\"The Life of Brian\")\n",
    "print(movies)\n",
    "movies.insert(1,\"The Life of Brian\")\n",
    "print(movies)\n",
    "movies = [\"The Holy Grail\", 1975, \"The Life of Brian\", 1979, \"The Meaning of Life\", 1983]\n",
    "print(movies)"
   ]
  },
  {
   "cell_type": "markdown",
   "metadata": {},
   "source": [
    "For loops are used to iterate through lists. List processing code is referred to as the 'suite'. The 'target identifier' is assigned each list element, in order, for the duration of the entire list.\n",
    "\n",
    "While loops work similarly but "
   ]
  },
  {
   "cell_type": "code",
   "execution_count": 37,
   "metadata": {
    "collapsed": false
   },
   "outputs": [
    {
     "name": "stdout",
     "output_type": "stream",
     "text": [
      "The Holy Grail\n",
      "The Life of Brian\n"
     ]
    }
   ],
   "source": [
    "fav_movies = [\"The Holy Grail\", \"The Life of Brian\"]\n",
    "#for [target identifier] in [list]:\n",
    "#    [list processing code]\n",
    "for each_flick in fav_movies:\n",
    "    print(each_flick)"
   ]
  },
  {
   "cell_type": "code",
   "execution_count": null,
   "metadata": {
    "collapsed": true
   },
   "outputs": [],
   "source": [
    "fav"
   ]
  }
 ],
 "metadata": {
  "kernelspec": {
   "display_name": "Python 3",
   "language": "python",
   "name": "python3"
  },
  "language_info": {
   "codemirror_mode": {
    "name": "ipython",
    "version": 3
   },
   "file_extension": ".py",
   "mimetype": "text/x-python",
   "name": "python",
   "nbconvert_exporter": "python",
   "pygments_lexer": "ipython3",
   "version": "3.5.2"
  }
 },
 "nbformat": 4,
 "nbformat_minor": 0
}
