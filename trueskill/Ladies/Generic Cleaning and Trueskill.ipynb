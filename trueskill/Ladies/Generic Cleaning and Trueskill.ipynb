{
 "cells": [
  {
   "cell_type": "markdown",
   "metadata": {},
   "source": [
    "# Imports"
   ]
  },
  {
   "cell_type": "code",
   "execution_count": 1,
   "metadata": {
    "collapsed": false
   },
   "outputs": [],
   "source": [
    "import pandas as pd\n",
    "import numpy as np\n",
    "import trueskill\n",
    "\n",
    "from pandas import Series, DataFrame\n",
    "\n",
    "from trueskill import Rating, quality_1vs1, rate_1vs1"
   ]
  },
  {
   "cell_type": "markdown",
   "metadata": {},
   "source": [
    "# Source and Destination Files"
   ]
  },
  {
   "cell_type": "code",
   "execution_count": 2,
   "metadata": {
    "collapsed": false
   },
   "outputs": [],
   "source": [
    "# Place source and destination files here\n",
    "# Imports first\n",
    "# Write the current season here so you get the correct csvs\n",
    "season = '2016a'\n",
    "#season_year = = ''.join(x for x in season if x.isdigit())\n",
    "#season_year = int(season_year)\n",
    "#season_ab = season[-1]\n",
    "results_csv = '2016a_results_ladies.csv'\n",
    "oldskill_csv = 'skill ratings 2015b.csv'\n",
    "\n",
    "# Outputs second\n",
    "winloss_csv = '2016a winloss.csv'\n",
    "teams_csv = '2016a_teams.csv'\n",
    "newskill_csv = 'skill ratings 2016a.csv'"
   ]
  },
  {
   "cell_type": "code",
   "execution_count": 3,
   "metadata": {
    "collapsed": false
   },
   "outputs": [
    {
     "data": {
      "text/html": [
       "<div>\n",
       "<table border=\"1\" class=\"dataframe\">\n",
       "  <thead>\n",
       "    <tr style=\"text-align: right;\">\n",
       "      <th></th>\n",
       "      <th>ROUND</th>\n",
       "      <th>HOME</th>\n",
       "      <th>SCORE</th>\n",
       "      <th>SCORE.1</th>\n",
       "      <th>AWAY</th>\n",
       "      <th>OT</th>\n",
       "    </tr>\n",
       "  </thead>\n",
       "  <tbody>\n",
       "    <tr>\n",
       "      <th>0</th>\n",
       "      <td>1</td>\n",
       "      <td>Bayswatermelon Breezers</td>\n",
       "      <td>8.0</td>\n",
       "      <td>14.0</td>\n",
       "      <td>Ardross A-rerollers</td>\n",
       "      <td>NaN</td>\n",
       "    </tr>\n",
       "    <tr>\n",
       "      <th>1</th>\n",
       "      <td>1</td>\n",
       "      <td>Chick Park</td>\n",
       "      <td>7.0</td>\n",
       "      <td>9.0</td>\n",
       "      <td>Como Cunstables</td>\n",
       "      <td>NaN</td>\n",
       "    </tr>\n",
       "    <tr>\n",
       "      <th>2</th>\n",
       "      <td>1</td>\n",
       "      <td>Dianella Dirty Street Pies</td>\n",
       "      <td>5.0</td>\n",
       "      <td>20.0</td>\n",
       "      <td>Coolbinia Cruisers</td>\n",
       "      <td>NaN</td>\n",
       "    </tr>\n",
       "    <tr>\n",
       "      <th>3</th>\n",
       "      <td>1</td>\n",
       "      <td>Freopian tubes</td>\n",
       "      <td>6.0</td>\n",
       "      <td>5.0</td>\n",
       "      <td>Jolimont Flying Vs</td>\n",
       "      <td>NaN</td>\n",
       "    </tr>\n",
       "    <tr>\n",
       "      <th>4</th>\n",
       "      <td>1</td>\n",
       "      <td>Freovaries</td>\n",
       "      <td>6.0</td>\n",
       "      <td>9.0</td>\n",
       "      <td>Applecross Dressers</td>\n",
       "      <td>NaN</td>\n",
       "    </tr>\n",
       "  </tbody>\n",
       "</table>\n",
       "</div>"
      ],
      "text/plain": [
       "   ROUND                        HOME  SCORE  SCORE.1                 AWAY  OT\n",
       "0      1     Bayswatermelon Breezers    8.0     14.0  Ardross A-rerollers NaN\n",
       "1      1                  Chick Park    7.0      9.0      Como Cunstables NaN\n",
       "2      1  Dianella Dirty Street Pies    5.0     20.0   Coolbinia Cruisers NaN\n",
       "3      1              Freopian tubes    6.0      5.0   Jolimont Flying Vs NaN\n",
       "4      1                  Freovaries    6.0      9.0  Applecross Dressers NaN"
      ]
     },
     "execution_count": 3,
     "metadata": {},
     "output_type": "execute_result"
    }
   ],
   "source": [
    "results = pd.read_csv(results_csv)\n",
    "results.head()"
   ]
  },
  {
   "cell_type": "code",
   "execution_count": 4,
   "metadata": {
    "collapsed": false
   },
   "outputs": [
    {
     "name": "stderr",
     "output_type": "stream",
     "text": [
      "C:\\Anaconda2\\lib\\site-packages\\ipykernel\\__main__.py:2: SettingWithCopyWarning: \n",
      "A value is trying to be set on a copy of a slice from a DataFrame\n",
      "\n",
      "See the caveats in the documentation: http://pandas.pydata.org/pandas-docs/stable/indexing.html#indexing-view-versus-copy\n",
      "  from ipykernel import kernelapp as app\n"
     ]
    },
    {
     "data": {
      "text/html": [
       "<div>\n",
       "<table border=\"1\" class=\"dataframe\">\n",
       "  <thead>\n",
       "    <tr style=\"text-align: right;\">\n",
       "      <th></th>\n",
       "      <th>ROUND</th>\n",
       "      <th>HOME</th>\n",
       "      <th>SCORE</th>\n",
       "      <th>SCORE.1</th>\n",
       "      <th>AWAY</th>\n",
       "      <th>OT</th>\n",
       "    </tr>\n",
       "  </thead>\n",
       "  <tbody>\n",
       "    <tr>\n",
       "      <th>0</th>\n",
       "      <td>1</td>\n",
       "      <td>Bayswatermelon Breezers</td>\n",
       "      <td>8.0</td>\n",
       "      <td>14.0</td>\n",
       "      <td>Ardross A-rerollers</td>\n",
       "      <td>0.0</td>\n",
       "    </tr>\n",
       "    <tr>\n",
       "      <th>1</th>\n",
       "      <td>1</td>\n",
       "      <td>Chick Park</td>\n",
       "      <td>7.0</td>\n",
       "      <td>9.0</td>\n",
       "      <td>Como Cunstables</td>\n",
       "      <td>0.0</td>\n",
       "    </tr>\n",
       "    <tr>\n",
       "      <th>2</th>\n",
       "      <td>1</td>\n",
       "      <td>Dianella Dirty Street Pies</td>\n",
       "      <td>5.0</td>\n",
       "      <td>20.0</td>\n",
       "      <td>Coolbinia Cruisers</td>\n",
       "      <td>0.0</td>\n",
       "    </tr>\n",
       "    <tr>\n",
       "      <th>3</th>\n",
       "      <td>1</td>\n",
       "      <td>Freopian tubes</td>\n",
       "      <td>6.0</td>\n",
       "      <td>5.0</td>\n",
       "      <td>Jolimont Flying Vs</td>\n",
       "      <td>0.0</td>\n",
       "    </tr>\n",
       "    <tr>\n",
       "      <th>4</th>\n",
       "      <td>1</td>\n",
       "      <td>Freovaries</td>\n",
       "      <td>6.0</td>\n",
       "      <td>9.0</td>\n",
       "      <td>Applecross Dressers</td>\n",
       "      <td>0.0</td>\n",
       "    </tr>\n",
       "  </tbody>\n",
       "</table>\n",
       "</div>"
      ],
      "text/plain": [
       "   ROUND                        HOME  SCORE  SCORE.1                 AWAY   OT\n",
       "0      1     Bayswatermelon Breezers    8.0     14.0  Ardross A-rerollers  0.0\n",
       "1      1                  Chick Park    7.0      9.0      Como Cunstables  0.0\n",
       "2      1  Dianella Dirty Street Pies    5.0     20.0   Coolbinia Cruisers  0.0\n",
       "3      1              Freopian tubes    6.0      5.0   Jolimont Flying Vs  0.0\n",
       "4      1                  Freovaries    6.0      9.0  Applecross Dressers  0.0"
      ]
     },
     "execution_count": 4,
     "metadata": {},
     "output_type": "execute_result"
    }
   ],
   "source": [
    "for i in range(0,len(results)):\n",
    "    results['OT'][i] = results['OT'][i] == \"OT\"\n",
    "\n",
    "results.head()"
   ]
  },
  {
   "cell_type": "code",
   "execution_count": 5,
   "metadata": {
    "collapsed": false
   },
   "outputs": [
    {
     "data": {
      "text/html": [
       "<div>\n",
       "<table border=\"1\" class=\"dataframe\">\n",
       "  <thead>\n",
       "    <tr style=\"text-align: right;\">\n",
       "      <th></th>\n",
       "      <th>ROUND</th>\n",
       "      <th>HOME</th>\n",
       "      <th>SCORE</th>\n",
       "      <th>SCORE.1</th>\n",
       "      <th>AWAY</th>\n",
       "      <th>OT</th>\n",
       "      <th>IsDraw</th>\n",
       "    </tr>\n",
       "  </thead>\n",
       "  <tbody>\n",
       "    <tr>\n",
       "      <th>0</th>\n",
       "      <td>1</td>\n",
       "      <td>Bayswatermelon Breezers</td>\n",
       "      <td>8.0</td>\n",
       "      <td>14.0</td>\n",
       "      <td>Ardross A-rerollers</td>\n",
       "      <td>0.0</td>\n",
       "      <td>False</td>\n",
       "    </tr>\n",
       "    <tr>\n",
       "      <th>1</th>\n",
       "      <td>1</td>\n",
       "      <td>Chick Park</td>\n",
       "      <td>7.0</td>\n",
       "      <td>9.0</td>\n",
       "      <td>Como Cunstables</td>\n",
       "      <td>0.0</td>\n",
       "      <td>False</td>\n",
       "    </tr>\n",
       "    <tr>\n",
       "      <th>2</th>\n",
       "      <td>1</td>\n",
       "      <td>Dianella Dirty Street Pies</td>\n",
       "      <td>5.0</td>\n",
       "      <td>20.0</td>\n",
       "      <td>Coolbinia Cruisers</td>\n",
       "      <td>0.0</td>\n",
       "      <td>False</td>\n",
       "    </tr>\n",
       "    <tr>\n",
       "      <th>3</th>\n",
       "      <td>1</td>\n",
       "      <td>Freopian tubes</td>\n",
       "      <td>6.0</td>\n",
       "      <td>5.0</td>\n",
       "      <td>Jolimont Flying Vs</td>\n",
       "      <td>0.0</td>\n",
       "      <td>False</td>\n",
       "    </tr>\n",
       "    <tr>\n",
       "      <th>4</th>\n",
       "      <td>1</td>\n",
       "      <td>Freovaries</td>\n",
       "      <td>6.0</td>\n",
       "      <td>9.0</td>\n",
       "      <td>Applecross Dressers</td>\n",
       "      <td>0.0</td>\n",
       "      <td>False</td>\n",
       "    </tr>\n",
       "  </tbody>\n",
       "</table>\n",
       "</div>"
      ],
      "text/plain": [
       "   ROUND                        HOME  SCORE  SCORE.1                 AWAY  \\\n",
       "0      1     Bayswatermelon Breezers    8.0     14.0  Ardross A-rerollers   \n",
       "1      1                  Chick Park    7.0      9.0      Como Cunstables   \n",
       "2      1  Dianella Dirty Street Pies    5.0     20.0   Coolbinia Cruisers   \n",
       "3      1              Freopian tubes    6.0      5.0   Jolimont Flying Vs   \n",
       "4      1                  Freovaries    6.0      9.0  Applecross Dressers   \n",
       "\n",
       "    OT IsDraw  \n",
       "0  0.0  False  \n",
       "1  0.0  False  \n",
       "2  0.0  False  \n",
       "3  0.0  False  \n",
       "4  0.0  False  "
      ]
     },
     "execution_count": 5,
     "metadata": {},
     "output_type": "execute_result"
    }
   ],
   "source": [
    "results['IsDraw'] = results['SCORE'] == results['SCORE.1']\n",
    "\n",
    "for i in range(0,len(results)):\n",
    "    if results['OT'][i]:\n",
    "        results['IsDraw'][i] = True\n",
    "        \n",
    "results.head()"
   ]
  },
  {
   "cell_type": "code",
   "execution_count": 6,
   "metadata": {
    "collapsed": false
   },
   "outputs": [
    {
     "name": "stderr",
     "output_type": "stream",
     "text": [
      "C:\\Anaconda2\\lib\\site-packages\\ipykernel\\__main__.py:8: SettingWithCopyWarning: \n",
      "A value is trying to be set on a copy of a slice from a DataFrame\n",
      "\n",
      "See the caveats in the documentation: http://pandas.pydata.org/pandas-docs/stable/indexing.html#indexing-view-versus-copy\n",
      "C:\\Anaconda2\\lib\\site-packages\\ipykernel\\__main__.py:14: SettingWithCopyWarning: \n",
      "A value is trying to be set on a copy of a slice from a DataFrame\n",
      "\n",
      "See the caveats in the documentation: http://pandas.pydata.org/pandas-docs/stable/indexing.html#indexing-view-versus-copy\n",
      "C:\\Anaconda2\\lib\\site-packages\\pandas\\core\\indexing.py:132: SettingWithCopyWarning: \n",
      "A value is trying to be set on a copy of a slice from a DataFrame\n",
      "\n",
      "See the caveats in the documentation: http://pandas.pydata.org/pandas-docs/stable/indexing.html#indexing-view-versus-copy\n",
      "  self._setitem_with_indexer(indexer, value)\n",
      "C:\\Anaconda2\\lib\\site-packages\\ipykernel\\__main__.py:15: SettingWithCopyWarning: \n",
      "A value is trying to be set on a copy of a slice from a DataFrame\n",
      "\n",
      "See the caveats in the documentation: http://pandas.pydata.org/pandas-docs/stable/indexing.html#indexing-view-versus-copy\n",
      "C:\\Anaconda2\\lib\\site-packages\\ipykernel\\__main__.py:11: SettingWithCopyWarning: \n",
      "A value is trying to be set on a copy of a slice from a DataFrame\n",
      "\n",
      "See the caveats in the documentation: http://pandas.pydata.org/pandas-docs/stable/indexing.html#indexing-view-versus-copy\n",
      "C:\\Anaconda2\\lib\\site-packages\\ipykernel\\__main__.py:12: SettingWithCopyWarning: \n",
      "A value is trying to be set on a copy of a slice from a DataFrame\n",
      "\n",
      "See the caveats in the documentation: http://pandas.pydata.org/pandas-docs/stable/indexing.html#indexing-view-versus-copy\n"
     ]
    },
    {
     "data": {
      "text/html": [
       "<div>\n",
       "<table border=\"1\" class=\"dataframe\">\n",
       "  <thead>\n",
       "    <tr style=\"text-align: right;\">\n",
       "      <th></th>\n",
       "      <th>ROUND</th>\n",
       "      <th>HOME</th>\n",
       "      <th>homescore</th>\n",
       "      <th>awayscore</th>\n",
       "      <th>AWAY</th>\n",
       "      <th>OT</th>\n",
       "      <th>IsDraw</th>\n",
       "      <th>Winteam</th>\n",
       "      <th>Lossteam</th>\n",
       "      <th>gameplayed</th>\n",
       "    </tr>\n",
       "  </thead>\n",
       "  <tbody>\n",
       "    <tr>\n",
       "      <th>0</th>\n",
       "      <td>1</td>\n",
       "      <td>Bayswatermelon Breezers</td>\n",
       "      <td>8.0</td>\n",
       "      <td>14.0</td>\n",
       "      <td>Ardross A-rerollers</td>\n",
       "      <td>0.0</td>\n",
       "      <td>False</td>\n",
       "      <td>Ardross A-rerollers</td>\n",
       "      <td>Bayswatermelon Breezers</td>\n",
       "      <td>1.0</td>\n",
       "    </tr>\n",
       "    <tr>\n",
       "      <th>1</th>\n",
       "      <td>1</td>\n",
       "      <td>Chick Park</td>\n",
       "      <td>7.0</td>\n",
       "      <td>9.0</td>\n",
       "      <td>Como Cunstables</td>\n",
       "      <td>0.0</td>\n",
       "      <td>False</td>\n",
       "      <td>Como Cunstables</td>\n",
       "      <td>Chick Park</td>\n",
       "      <td>1.0</td>\n",
       "    </tr>\n",
       "    <tr>\n",
       "      <th>2</th>\n",
       "      <td>1</td>\n",
       "      <td>Dianella Dirty Street Pies</td>\n",
       "      <td>5.0</td>\n",
       "      <td>20.0</td>\n",
       "      <td>Coolbinia Cruisers</td>\n",
       "      <td>0.0</td>\n",
       "      <td>False</td>\n",
       "      <td>Coolbinia Cruisers</td>\n",
       "      <td>Dianella Dirty Street Pies</td>\n",
       "      <td>1.0</td>\n",
       "    </tr>\n",
       "    <tr>\n",
       "      <th>3</th>\n",
       "      <td>1</td>\n",
       "      <td>Freopian tubes</td>\n",
       "      <td>6.0</td>\n",
       "      <td>5.0</td>\n",
       "      <td>Jolimont Flying Vs</td>\n",
       "      <td>0.0</td>\n",
       "      <td>False</td>\n",
       "      <td>Freopian tubes</td>\n",
       "      <td>Jolimont Flying Vs</td>\n",
       "      <td>1.0</td>\n",
       "    </tr>\n",
       "    <tr>\n",
       "      <th>4</th>\n",
       "      <td>1</td>\n",
       "      <td>Freovaries</td>\n",
       "      <td>6.0</td>\n",
       "      <td>9.0</td>\n",
       "      <td>Applecross Dressers</td>\n",
       "      <td>0.0</td>\n",
       "      <td>False</td>\n",
       "      <td>Applecross Dressers</td>\n",
       "      <td>Freovaries</td>\n",
       "      <td>1.0</td>\n",
       "    </tr>\n",
       "  </tbody>\n",
       "</table>\n",
       "</div>"
      ],
      "text/plain": [
       "   ROUND                        HOME  homescore  awayscore  \\\n",
       "0      1     Bayswatermelon Breezers        8.0       14.0   \n",
       "1      1                  Chick Park        7.0        9.0   \n",
       "2      1  Dianella Dirty Street Pies        5.0       20.0   \n",
       "3      1              Freopian tubes        6.0        5.0   \n",
       "4      1                  Freovaries        6.0        9.0   \n",
       "\n",
       "                  AWAY   OT IsDraw              Winteam  \\\n",
       "0  Ardross A-rerollers  0.0  False  Ardross A-rerollers   \n",
       "1      Como Cunstables  0.0  False      Como Cunstables   \n",
       "2   Coolbinia Cruisers  0.0  False   Coolbinia Cruisers   \n",
       "3   Jolimont Flying Vs  0.0  False       Freopian tubes   \n",
       "4  Applecross Dressers  0.0  False  Applecross Dressers   \n",
       "\n",
       "                     Lossteam  gameplayed  \n",
       "0     Bayswatermelon Breezers         1.0  \n",
       "1                  Chick Park         1.0  \n",
       "2  Dianella Dirty Street Pies         1.0  \n",
       "3          Jolimont Flying Vs         1.0  \n",
       "4                  Freovaries         1.0  "
      ]
     },
     "execution_count": 6,
     "metadata": {},
     "output_type": "execute_result"
    }
   ],
   "source": [
    "# Work out if a game was actually played, and if so who won\n",
    "\n",
    "results['Winteam']=np.NaN\n",
    "results['Lossteam']=np.NaN\n",
    "results['gameplayed']=np.NaN\n",
    "results = results.rename(columns = {\"SCORE\":\"homescore\",\"SCORE.1\":\"awayscore\"})\n",
    "for i in range(0,len(results)):\n",
    "    results['gameplayed'][i] = results['homescore'][i] != 0 and results['awayscore'][i] != 0\n",
    "    # If home score is greater than away score\n",
    "    if results['homescore'][i]>=results['awayscore'][i]:\n",
    "        results['Winteam'][i]=results['HOME'][i]\n",
    "        results['Lossteam'][i]=results['AWAY'][i]\n",
    "    else:\n",
    "        results['Winteam'][i]=results['AWAY'][i]\n",
    "        results['Lossteam'][i]=results['HOME'][i]\n",
    "\n",
    "    \n",
    "results.head()"
   ]
  },
  {
   "cell_type": "code",
   "execution_count": 7,
   "metadata": {
    "collapsed": false
   },
   "outputs": [],
   "source": [
    "results = results.drop(results.columns[[0,1,2,3,4,5]],axis=1)\n",
    "winloss = results[results[\"gameplayed\"] == 1]"
   ]
  },
  {
   "cell_type": "code",
   "execution_count": 8,
   "metadata": {
    "collapsed": false
   },
   "outputs": [
    {
     "data": {
      "text/plain": [
       "4                Applecross Dressers\n",
       "0                Ardross A-rerollers\n",
       "12           Bayswatermelon Breezers\n",
       "10              Beachside Belle Ends\n",
       "9                         Chick Park\n",
       "1                    Como Cunstables\n",
       "2                 Coolbinia Cruisers\n",
       "8         Dianella Dirty Street Pies\n",
       "11               Dirty Herdy Birdies\n",
       "7     Fremantle Cappuccino Strippers\n",
       "15                    Freopian Tubes\n",
       "3                     Freopian tubes\n",
       "14                        Freovaries\n",
       "13                Jolimont Flying Vs\n",
       "5           Joondnanna Jerryhatricks\n",
       "6                      Perth On Heat\n",
       "dtype: object"
      ]
     },
     "execution_count": 8,
     "metadata": {},
     "output_type": "execute_result"
    }
   ],
   "source": [
    "x = Series(winloss['Winteam'].unique())\n",
    "y = Series(winloss['Lossteam'].unique())\n",
    "x=x.append(y)\n",
    "x=Series(x.unique())\n",
    "x=x.dropna()\n",
    "x.sort_values()\n"
   ]
  },
  {
   "cell_type": "code",
   "execution_count": 9,
   "metadata": {
    "collapsed": false
   },
   "outputs": [],
   "source": [
    "#winloss.head()\n"
   ]
  },
  {
   "cell_type": "code",
   "execution_count": 10,
   "metadata": {
    "collapsed": false
   },
   "outputs": [],
   "source": [
    "x=Series(x.unique())\n",
    "x=x.sort_values()\n",
    "#teams_lower = Series([])\n",
    "#x = Series(winloss['Winteam'].unique())\n",
    "#y = Series(winloss['Lossteam'].unique())\n",
    "#x=x.append(y)\n",
    "#x=Series(x.unique())\n",
    "\n",
    "#teams = x.sort_values()\n",
    "for i in range(0,len(x)):\n",
    "    x[i]=x[i].lower()\n",
    "teams = x"
   ]
  },
  {
   "cell_type": "code",
   "execution_count": 11,
   "metadata": {
    "collapsed": false
   },
   "outputs": [
    {
     "data": {
      "text/plain": [
       "array(['applecross dressers', 'ardross a-rerollers',\n",
       "       'bayswatermelon breezers', 'beachside belle ends', 'chick park',\n",
       "       'como cunstables', 'coolbinia cruisers',\n",
       "       'dianella dirty street pies', 'dirty herdy birdies',\n",
       "       'fremantle cappuccino strippers', 'freopian tubes', 'freovaries',\n",
       "       'jolimont flying vs', 'joondnanna jerryhatricks', 'perth on heat'], dtype=object)"
      ]
     },
     "execution_count": 11,
     "metadata": {},
     "output_type": "execute_result"
    }
   ],
   "source": [
    "teams.unique()"
   ]
  },
  {
   "cell_type": "code",
   "execution_count": 12,
   "metadata": {
    "collapsed": false
   },
   "outputs": [],
   "source": [
    "# Write to CSV, manually apply lower() to the winteam and lossteam\n",
    "winloss.to_csv(winloss_csv)\n",
    "teams.to_csv(teams_csv)"
   ]
  },
  {
   "cell_type": "code",
   "execution_count": 13,
   "metadata": {
    "collapsed": false
   },
   "outputs": [],
   "source": [
    "#teams_lower = pd.read_csv(teams_csv)\n",
    "#teams = teams_lower['team']\n",
    "\n",
    "# Reread the manually fixed stuff\n",
    "winloss = pd.read_csv(winloss_csv)"
   ]
  },
  {
   "cell_type": "code",
   "execution_count": null,
   "metadata": {
    "collapsed": false
   },
   "outputs": [],
   "source": []
  },
  {
   "cell_type": "code",
   "execution_count": 14,
   "metadata": {
    "collapsed": false
   },
   "outputs": [
    {
     "name": "stderr",
     "output_type": "stream",
     "text": [
      "C:\\Anaconda2\\lib\\site-packages\\ipykernel\\__main__.py:3: SettingWithCopyWarning: \n",
      "A value is trying to be set on a copy of a slice from a DataFrame\n",
      "\n",
      "See the caveats in the documentation: http://pandas.pydata.org/pandas-docs/stable/indexing.html#indexing-view-versus-copy\n",
      "  app.launch_new_instance()\n",
      "C:\\Anaconda2\\lib\\site-packages\\ipykernel\\__main__.py:4: SettingWithCopyWarning: \n",
      "A value is trying to be set on a copy of a slice from a DataFrame\n",
      "\n",
      "See the caveats in the documentation: http://pandas.pydata.org/pandas-docs/stable/indexing.html#indexing-view-versus-copy\n"
     ]
    },
    {
     "data": {
      "text/html": [
       "<div>\n",
       "<table border=\"1\" class=\"dataframe\">\n",
       "  <thead>\n",
       "    <tr style=\"text-align: right;\">\n",
       "      <th></th>\n",
       "      <th>Unnamed: 0</th>\n",
       "      <th>IsDraw</th>\n",
       "      <th>Winteam</th>\n",
       "      <th>Lossteam</th>\n",
       "      <th>gameplayed</th>\n",
       "    </tr>\n",
       "  </thead>\n",
       "  <tbody>\n",
       "    <tr>\n",
       "      <th>0</th>\n",
       "      <td>0</td>\n",
       "      <td>False</td>\n",
       "      <td>ardross a-rerollers</td>\n",
       "      <td>bayswatermelon breezers</td>\n",
       "      <td>1.0</td>\n",
       "    </tr>\n",
       "    <tr>\n",
       "      <th>1</th>\n",
       "      <td>1</td>\n",
       "      <td>False</td>\n",
       "      <td>como cunstables</td>\n",
       "      <td>chick park</td>\n",
       "      <td>1.0</td>\n",
       "    </tr>\n",
       "    <tr>\n",
       "      <th>2</th>\n",
       "      <td>2</td>\n",
       "      <td>False</td>\n",
       "      <td>coolbinia cruisers</td>\n",
       "      <td>dianella dirty street pies</td>\n",
       "      <td>1.0</td>\n",
       "    </tr>\n",
       "    <tr>\n",
       "      <th>3</th>\n",
       "      <td>3</td>\n",
       "      <td>False</td>\n",
       "      <td>freopian tubes</td>\n",
       "      <td>jolimont flying vs</td>\n",
       "      <td>1.0</td>\n",
       "    </tr>\n",
       "    <tr>\n",
       "      <th>4</th>\n",
       "      <td>4</td>\n",
       "      <td>False</td>\n",
       "      <td>applecross dressers</td>\n",
       "      <td>freovaries</td>\n",
       "      <td>1.0</td>\n",
       "    </tr>\n",
       "  </tbody>\n",
       "</table>\n",
       "</div>"
      ],
      "text/plain": [
       "   Unnamed: 0 IsDraw              Winteam                    Lossteam  \\\n",
       "0           0  False  ardross a-rerollers     bayswatermelon breezers   \n",
       "1           1  False      como cunstables                  chick park   \n",
       "2           2  False   coolbinia cruisers  dianella dirty street pies   \n",
       "3           3  False       freopian tubes          jolimont flying vs   \n",
       "4           4  False  applecross dressers                  freovaries   \n",
       "\n",
       "   gameplayed  \n",
       "0         1.0  \n",
       "1         1.0  \n",
       "2         1.0  \n",
       "3         1.0  \n",
       "4         1.0  "
      ]
     },
     "execution_count": 14,
     "metadata": {},
     "output_type": "execute_result"
    }
   ],
   "source": [
    "winloss = winloss.dropna()\n",
    "for i in range(0,len(winloss)):\n",
    "    winloss['Winteam'][i] = winloss['Winteam'][i].lower()\n",
    "    winloss['Lossteam'][i] = winloss['Lossteam'][i].lower()\n",
    "    \n",
    "winloss.head()"
   ]
  },
  {
   "cell_type": "code",
   "execution_count": 15,
   "metadata": {
    "collapsed": false
   },
   "outputs": [
    {
     "name": "stdout",
     "output_type": "stream",
     "text": [
      "0                applecross dressers\n",
      "1                ardross a-rerollers\n",
      "2            bayswatermelon breezers\n",
      "3               beachside belle ends\n",
      "4                         chick park\n",
      "5                    como cunstables\n",
      "6                 coolbinia cruisers\n",
      "7         dianella dirty street pies\n",
      "8                dirty herdy birdies\n",
      "9     fremantle cappuccino strippers\n",
      "10                    freopian tubes\n",
      "11                        freovaries\n",
      "12                jolimont flying vs\n",
      "13          joondnanna jerryhatricks\n",
      "14                     perth on heat\n",
      "dtype: object\n",
      "15 teams\n"
     ]
    }
   ],
   "source": [
    "#winteams = Series(winloss['Winteam'].unique())\n",
    "#lossteams = Series(winloss['Lossteam'].unique())\n",
    "#teams = winteams\n",
    "#teams = teams.append(lossteams)\n",
    "teams = Series(teams.unique())\n",
    "print(teams);\n",
    "print len(teams), \"teams\";"
   ]
  },
  {
   "cell_type": "markdown",
   "metadata": {},
   "source": [
    "# Create skill from lower(teams), update skill"
   ]
  },
  {
   "cell_type": "code",
   "execution_count": 16,
   "metadata": {
    "collapsed": false
   },
   "outputs": [
    {
     "data": {
      "text/plain": [
       "{'applecross dressers': trueskill.Rating(mu=25.000, sigma=8.333),\n",
       " 'ardross a-rerollers': trueskill.Rating(mu=25.000, sigma=8.333),\n",
       " 'bayswatermelon breezers': trueskill.Rating(mu=25.000, sigma=8.333),\n",
       " 'beachside belle ends': trueskill.Rating(mu=25.000, sigma=8.333),\n",
       " 'chick park': trueskill.Rating(mu=25.000, sigma=8.333),\n",
       " 'como cunstables': trueskill.Rating(mu=25.000, sigma=8.333),\n",
       " 'coolbinia cruisers': trueskill.Rating(mu=25.000, sigma=8.333),\n",
       " 'dianella dirty street pies': trueskill.Rating(mu=25.000, sigma=8.333),\n",
       " 'dirty herdy birdies': trueskill.Rating(mu=25.000, sigma=8.333),\n",
       " 'fremantle cappuccino strippers': trueskill.Rating(mu=25.000, sigma=8.333),\n",
       " 'freopian tubes': trueskill.Rating(mu=25.000, sigma=8.333),\n",
       " 'freovaries': trueskill.Rating(mu=25.000, sigma=8.333),\n",
       " 'jolimont flying vs': trueskill.Rating(mu=25.000, sigma=8.333),\n",
       " 'joondnanna jerryhatricks': trueskill.Rating(mu=25.000, sigma=8.333),\n",
       " 'perth on heat': trueskill.Rating(mu=25.000, sigma=8.333)}"
      ]
     },
     "execution_count": 16,
     "metadata": {},
     "output_type": "execute_result"
    }
   ],
   "source": [
    "skill = {name:Rating() for name in teams}\n",
    "skill"
   ]
  },
  {
   "cell_type": "code",
   "execution_count": 17,
   "metadata": {
    "collapsed": false
   },
   "outputs": [
    {
     "name": "stderr",
     "output_type": "stream",
     "text": [
      "C:\\Anaconda2\\lib\\site-packages\\ipykernel\\__main__.py:4: SettingWithCopyWarning: \n",
      "A value is trying to be set on a copy of a slice from a DataFrame\n",
      "\n",
      "See the caveats in the documentation: http://pandas.pydata.org/pandas-docs/stable/indexing.html#indexing-view-versus-copy\n"
     ]
    },
    {
     "data": {
      "text/html": [
       "<div>\n",
       "<table border=\"1\" class=\"dataframe\">\n",
       "  <thead>\n",
       "    <tr style=\"text-align: right;\">\n",
       "      <th></th>\n",
       "      <th>Unnamed: 0</th>\n",
       "      <th>Team</th>\n",
       "      <th>Rating</th>\n",
       "      <th>mu</th>\n",
       "      <th>sigma</th>\n",
       "    </tr>\n",
       "  </thead>\n",
       "  <tbody>\n",
       "    <tr>\n",
       "      <th>0</th>\n",
       "      <td>0</td>\n",
       "      <td>applecross dressers</td>\n",
       "      <td>trueskill.Rating(mu=21.785, sigma=8.333)</td>\n",
       "      <td>21.784672</td>\n",
       "      <td>2.955955</td>\n",
       "    </tr>\n",
       "    <tr>\n",
       "      <th>1</th>\n",
       "      <td>1</td>\n",
       "      <td>como cunstables</td>\n",
       "      <td>trueskill.Rating(mu=29.029, sigma=8.333)</td>\n",
       "      <td>29.028743</td>\n",
       "      <td>3.063469</td>\n",
       "    </tr>\n",
       "    <tr>\n",
       "      <th>2</th>\n",
       "      <td>2</td>\n",
       "      <td>fremantle cappuccino strippers</td>\n",
       "      <td>trueskill.Rating(mu=26.050, sigma=8.333)</td>\n",
       "      <td>26.050444</td>\n",
       "      <td>2.832910</td>\n",
       "    </tr>\n",
       "    <tr>\n",
       "      <th>3</th>\n",
       "      <td>3</td>\n",
       "      <td>freopian tubes</td>\n",
       "      <td>trueskill.Rating(mu=32.085, sigma=8.333)</td>\n",
       "      <td>32.084832</td>\n",
       "      <td>2.831814</td>\n",
       "    </tr>\n",
       "    <tr>\n",
       "      <th>4</th>\n",
       "      <td>4</td>\n",
       "      <td>jolimont flying vs</td>\n",
       "      <td>trueskill.Rating(mu=25.420, sigma=8.333)</td>\n",
       "      <td>25.420201</td>\n",
       "      <td>2.833605</td>\n",
       "    </tr>\n",
       "  </tbody>\n",
       "</table>\n",
       "</div>"
      ],
      "text/plain": [
       "   Unnamed: 0                            Team  \\\n",
       "0           0             applecross dressers   \n",
       "1           1                 como cunstables   \n",
       "2           2  fremantle cappuccino strippers   \n",
       "3           3                  freopian tubes   \n",
       "4           4              jolimont flying vs   \n",
       "\n",
       "                                     Rating         mu     sigma  \n",
       "0  trueskill.Rating(mu=21.785, sigma=8.333)  21.784672  2.955955  \n",
       "1  trueskill.Rating(mu=29.029, sigma=8.333)  29.028743  3.063469  \n",
       "2  trueskill.Rating(mu=26.050, sigma=8.333)  26.050444  2.832910  \n",
       "3  trueskill.Rating(mu=32.085, sigma=8.333)  32.084832  2.831814  \n",
       "4  trueskill.Rating(mu=25.420, sigma=8.333)  25.420201  2.833605  "
      ]
     },
     "execution_count": 17,
     "metadata": {},
     "output_type": "execute_result"
    }
   ],
   "source": [
    "# Read in the old ratings from csv, make sure they're init'd as Rating() objects\n",
    "ratings_past = pd.read_csv(oldskill_csv)\n",
    "for i in range(0,len(ratings_past)):\n",
    "               ratings_past['Rating'][i] = Rating(mu=ratings_past['mu'][i],)\n",
    "                                                  #sigma=ratings_past['sigma'][i]#)\n",
    "                                                    # This is commented out because we want to try starting from default sigma values\n",
    "                                                    # Because new teams enter the mix, we are not as certain of each team's skill\n",
    "ratings_past.head()"
   ]
  },
  {
   "cell_type": "code",
   "execution_count": 18,
   "metadata": {
    "collapsed": false
   },
   "outputs": [],
   "source": [
    "# Get the old ratings (last season), send them to a new dictionary\n",
    "oldratings=ratings_past.set_index('Team')['Rating'].to_dict()\n",
    "oldratings;"
   ]
  },
  {
   "cell_type": "code",
   "execution_count": 19,
   "metadata": {
    "collapsed": false
   },
   "outputs": [
    {
     "data": {
      "text/plain": [
       "{'applecross dressers': trueskill.Rating(mu=21.785, sigma=8.333),\n",
       " 'ardross a-rerollers': trueskill.Rating(mu=25.000, sigma=8.333),\n",
       " 'bayswatermelon breezers': trueskill.Rating(mu=25.000, sigma=8.333),\n",
       " 'beachside belle ends': trueskill.Rating(mu=25.000, sigma=8.333),\n",
       " 'beachside bellends': trueskill.Rating(mu=32.798, sigma=8.333),\n",
       " 'chick park': trueskill.Rating(mu=30.466, sigma=8.333),\n",
       " 'como cunstables': trueskill.Rating(mu=29.029, sigma=8.333),\n",
       " 'coolbinia cruisers': trueskill.Rating(mu=16.244, sigma=8.333),\n",
       " 'dianella dirty street pies': trueskill.Rating(mu=9.484, sigma=8.333),\n",
       " 'dirty herdy birdies': trueskill.Rating(mu=25.000, sigma=8.333),\n",
       " 'fremantle cappuccino strippers': trueskill.Rating(mu=26.050, sigma=8.333),\n",
       " 'freopian tubes': trueskill.Rating(mu=32.085, sigma=8.333),\n",
       " 'freovaries': trueskill.Rating(mu=18.209, sigma=8.333),\n",
       " 'jolimont flying vs': trueskill.Rating(mu=25.420, sigma=8.333),\n",
       " 'joondnanna jerryhatricks': trueskill.Rating(mu=27.852, sigma=8.333),\n",
       " 'nedlands yung puccboiz': trueskill.Rating(mu=24.154, sigma=8.333),\n",
       " 'perth on heat': trueskill.Rating(mu=28.694, sigma=8.333)}"
      ]
     },
     "execution_count": 19,
     "metadata": {},
     "output_type": "execute_result"
    }
   ],
   "source": [
    "# Get the old ratings and the ratings for the new teams\n",
    "# Merge the two\n",
    "mergedratings = skill.copy()\n",
    "mergedratings.update(oldratings)\n",
    "mergedratings"
   ]
  },
  {
   "cell_type": "code",
   "execution_count": 20,
   "metadata": {
    "collapsed": false
   },
   "outputs": [
    {
     "data": {
      "text/plain": [
       "{'applecross dressers': trueskill.Rating(mu=20.873, sigma=3.298),\n",
       " 'ardross a-rerollers': trueskill.Rating(mu=26.882, sigma=2.786),\n",
       " 'bayswatermelon breezers': trueskill.Rating(mu=16.727, sigma=3.299),\n",
       " 'beachside belle ends': trueskill.Rating(mu=26.839, sigma=2.991),\n",
       " 'beachside bellends': trueskill.Rating(mu=32.798, sigma=8.333),\n",
       " 'chick park': trueskill.Rating(mu=37.260, sigma=3.511),\n",
       " 'como cunstables': trueskill.Rating(mu=29.613, sigma=3.348),\n",
       " 'coolbinia cruisers': trueskill.Rating(mu=27.736, sigma=3.011),\n",
       " 'dianella dirty street pies': trueskill.Rating(mu=17.740, sigma=3.440),\n",
       " 'dirty herdy birdies': trueskill.Rating(mu=31.676, sigma=2.946),\n",
       " 'fremantle cappuccino strippers': trueskill.Rating(mu=27.388, sigma=3.181),\n",
       " 'freopian tubes': trueskill.Rating(mu=29.393, sigma=2.742),\n",
       " 'freovaries': trueskill.Rating(mu=18.832, sigma=3.443),\n",
       " 'jolimont flying vs': trueskill.Rating(mu=20.735, sigma=3.343),\n",
       " 'joondnanna jerryhatricks': trueskill.Rating(mu=25.782, sigma=3.020),\n",
       " 'nedlands yung puccboiz': trueskill.Rating(mu=24.154, sigma=8.333),\n",
       " 'perth on heat': trueskill.Rating(mu=21.974, sigma=2.640)}"
      ]
     },
     "execution_count": 20,
     "metadata": {},
     "output_type": "execute_result"
    }
   ],
   "source": [
    "# Update the ratings\n",
    "# Go through each row in winloss results, update the ratings of both teams\n",
    "# Rating(TeamWhoWon, TeamWhoLost, DidTheGameDraw)\n",
    "for i in range(0,len(winloss)):\n",
    "    mergedratings[winloss['Winteam'][i]],mergedratings[winloss['Lossteam'][i]] = rate_1vs1(mergedratings[winloss['Winteam'][i]],\n",
    "                                                                                      mergedratings[winloss['Lossteam'][i]],\n",
    "                                                                                      drawn=winloss['IsDraw'][i])\n",
    "\n",
    "mergedratings"
   ]
  },
  {
   "cell_type": "markdown",
   "metadata": {
    "collapsed": false
   },
   "source": []
  },
  {
   "cell_type": "code",
   "execution_count": 21,
   "metadata": {
    "collapsed": false
   },
   "outputs": [
    {
     "data": {
      "text/html": [
       "<div>\n",
       "<table border=\"1\" class=\"dataframe\">\n",
       "  <thead>\n",
       "    <tr style=\"text-align: right;\">\n",
       "      <th></th>\n",
       "      <th>Team</th>\n",
       "      <th>Rating</th>\n",
       "      <th>mu</th>\n",
       "      <th>sigma</th>\n",
       "    </tr>\n",
       "  </thead>\n",
       "  <tbody>\n",
       "    <tr>\n",
       "      <th>0</th>\n",
       "      <td>como cunstables</td>\n",
       "      <td>trueskill.Rating(mu=29.613, sigma=3.348)</td>\n",
       "      <td>29.6131</td>\n",
       "      <td>3.34799</td>\n",
       "    </tr>\n",
       "    <tr>\n",
       "      <th>1</th>\n",
       "      <td>beachside belle ends</td>\n",
       "      <td>trueskill.Rating(mu=26.839, sigma=2.991)</td>\n",
       "      <td>26.8387</td>\n",
       "      <td>2.99118</td>\n",
       "    </tr>\n",
       "    <tr>\n",
       "      <th>2</th>\n",
       "      <td>joondnanna jerryhatricks</td>\n",
       "      <td>trueskill.Rating(mu=25.782, sigma=3.020)</td>\n",
       "      <td>25.7816</td>\n",
       "      <td>3.01983</td>\n",
       "    </tr>\n",
       "    <tr>\n",
       "      <th>3</th>\n",
       "      <td>jolimont flying vs</td>\n",
       "      <td>trueskill.Rating(mu=20.735, sigma=3.343)</td>\n",
       "      <td>20.7353</td>\n",
       "      <td>3.34288</td>\n",
       "    </tr>\n",
       "    <tr>\n",
       "      <th>4</th>\n",
       "      <td>bayswatermelon breezers</td>\n",
       "      <td>trueskill.Rating(mu=16.727, sigma=3.299)</td>\n",
       "      <td>16.7266</td>\n",
       "      <td>3.29853</td>\n",
       "    </tr>\n",
       "  </tbody>\n",
       "</table>\n",
       "</div>"
      ],
      "text/plain": [
       "                       Team                                    Rating  \\\n",
       "0           como cunstables  trueskill.Rating(mu=29.613, sigma=3.348)   \n",
       "1      beachside belle ends  trueskill.Rating(mu=26.839, sigma=2.991)   \n",
       "2  joondnanna jerryhatricks  trueskill.Rating(mu=25.782, sigma=3.020)   \n",
       "3        jolimont flying vs  trueskill.Rating(mu=20.735, sigma=3.343)   \n",
       "4   bayswatermelon breezers  trueskill.Rating(mu=16.727, sigma=3.299)   \n",
       "\n",
       "        mu    sigma  \n",
       "0  29.6131  3.34799  \n",
       "1  26.8387  2.99118  \n",
       "2  25.7816  3.01983  \n",
       "3  20.7353  3.34288  \n",
       "4  16.7266  3.29853  "
      ]
     },
     "execution_count": 21,
     "metadata": {},
     "output_type": "execute_result"
    }
   ],
   "source": [
    "# Convert the new ratings from a dict to a dataframe\n",
    "# Make sure to extract mu and sigma values for each team for ease of importing the rating objects\n",
    "# Storing as a csv will turn the rating objects back in to text\n",
    "\n",
    "skill_df = DataFrame(mergedratings.items(),columns=['Team','Rating'])\n",
    "\n",
    "skill_df['mu'] = None\n",
    "skill_df['sigma'] = None\n",
    "for i in range(0,len(skill_df)):\n",
    "    skill_df['mu'][i]=skill_df['Rating'][i].mu\n",
    "    skill_df['sigma'][i]=skill_df['Rating'][i].sigma\n",
    "    #skill_df['Team'][i] = skill_df['Team'][i].lower()\n",
    "\n",
    "# Write the newskill results to wherever was specified\n",
    "skill_df.to_csv(newskill_csv)\n",
    "skill_df.head()"
   ]
  },
  {
   "cell_type": "code",
   "execution_count": 102,
   "metadata": {
    "collapsed": false
   },
   "outputs": [
    {
     "name": "stderr",
     "output_type": "stream",
     "text": [
      "C:\\Anaconda2\\lib\\site-packages\\ipykernel\\__main__.py:7: SettingWithCopyWarning: \n",
      "A value is trying to be set on a copy of a slice from a DataFrame\n",
      "\n",
      "See the caveats in the documentation: http://pandas.pydata.org/pandas-docs/stable/indexing.html#indexing-view-versus-copy\n"
     ]
    },
    {
     "data": {
      "text/html": [
       "<div>\n",
       "<table border=\"1\" class=\"dataframe\">\n",
       "  <thead>\n",
       "    <tr style=\"text-align: right;\">\n",
       "      <th></th>\n",
       "      <th>Unnamed: 0</th>\n",
       "      <th>Team</th>\n",
       "      <th>Rating</th>\n",
       "      <th>mu</th>\n",
       "      <th>sigma</th>\n",
       "    </tr>\n",
       "  </thead>\n",
       "  <tbody>\n",
       "    <tr>\n",
       "      <th>0</th>\n",
       "      <td>0</td>\n",
       "      <td>mosman park milkmen</td>\n",
       "      <td>trueskill.Rating(mu=25.650, sigma=8.333)</td>\n",
       "      <td>25.650328</td>\n",
       "      <td>8.333333</td>\n",
       "    </tr>\n",
       "    <tr>\n",
       "      <th>1</th>\n",
       "      <td>1</td>\n",
       "      <td>south perth major blazers</td>\n",
       "      <td>trueskill.Rating(mu=19.111, sigma=2.775)</td>\n",
       "      <td>19.111039</td>\n",
       "      <td>2.775426</td>\n",
       "    </tr>\n",
       "    <tr>\n",
       "      <th>2</th>\n",
       "      <td>2</td>\n",
       "      <td>gmla jurassic pucks</td>\n",
       "      <td>trueskill.Rating(mu=19.049, sigma=3.090)</td>\n",
       "      <td>19.048920</td>\n",
       "      <td>3.090409</td>\n",
       "    </tr>\n",
       "    <tr>\n",
       "      <th>3</th>\n",
       "      <td>3</td>\n",
       "      <td>creepy crawleys</td>\n",
       "      <td>trueskill.Rating(mu=23.973, sigma=8.333)</td>\n",
       "      <td>23.972845</td>\n",
       "      <td>8.333333</td>\n",
       "    </tr>\n",
       "    <tr>\n",
       "      <th>4</th>\n",
       "      <td>4</td>\n",
       "      <td>mt pleasant mounties</td>\n",
       "      <td>trueskill.Rating(mu=30.027, sigma=3.203)</td>\n",
       "      <td>30.026670</td>\n",
       "      <td>3.203453</td>\n",
       "    </tr>\n",
       "  </tbody>\n",
       "</table>\n",
       "</div>"
      ],
      "text/plain": [
       "   Unnamed: 0                       Team  \\\n",
       "0           0        mosman park milkmen   \n",
       "1           1  south perth major blazers   \n",
       "2           2        gmla jurassic pucks   \n",
       "3           3            creepy crawleys   \n",
       "4           4       mt pleasant mounties   \n",
       "\n",
       "                                     Rating         mu     sigma  \n",
       "0  trueskill.Rating(mu=25.650, sigma=8.333)  25.650328  8.333333  \n",
       "1  trueskill.Rating(mu=19.111, sigma=2.775)  19.111039  2.775426  \n",
       "2  trueskill.Rating(mu=19.049, sigma=3.090)  19.048920  3.090409  \n",
       "3  trueskill.Rating(mu=23.973, sigma=8.333)  23.972845  8.333333  \n",
       "4  trueskill.Rating(mu=30.027, sigma=3.203)  30.026670  3.203453  "
      ]
     },
     "execution_count": 102,
     "metadata": {},
     "output_type": "execute_result"
    }
   ],
   "source": [
    "# Use this to re init the ratings from text back in to rating objects\n",
    "# Doesn't necessarily need to run\n",
    "\n",
    "skill_df = pd.read_csv(newskill_csv)\n",
    "for i in range(0,len(skill_df)):\n",
    "               skill_df['Rating'][i] = Rating(mu=skill_df['mu'][i],\n",
    "                                                sigma=skill_df['sigma'][i])\n",
    "skill_df.head()"
   ]
  },
  {
   "cell_type": "code",
   "execution_count": 106,
   "metadata": {
    "collapsed": false
   },
   "outputs": [],
   "source": [
    "import winsound\n",
    "winsound.Beep(2000,500)"
   ]
  },
  {
   "cell_type": "code",
   "execution_count": null,
   "metadata": {
    "collapsed": false
   },
   "outputs": [],
   "source": []
  },
  {
   "cell_type": "code",
   "execution_count": null,
   "metadata": {
    "collapsed": false
   },
   "outputs": [],
   "source": []
  }
 ],
 "metadata": {
  "anaconda-cloud": {},
  "kernelspec": {
   "display_name": "Python [Root]",
   "language": "python",
   "name": "Python [Root]"
  },
  "language_info": {
   "codemirror_mode": {
    "name": "ipython",
    "version": 2
   },
   "file_extension": ".py",
   "mimetype": "text/x-python",
   "name": "python",
   "nbconvert_exporter": "python",
   "pygments_lexer": "ipython2",
   "version": "2.7.12"
  },
  "nav_menu": {},
  "notify_time": "5",
  "toc": {
   "navigate_menu": true,
   "number_sections": true,
   "sideBar": false,
   "threshold": 6,
   "toc_cell": false,
   "toc_section_display": "block",
   "toc_window_display": true
  },
  "toc_position": {
   "height": "855px",
   "left": "1463px",
   "right": "20px",
   "top": "247px",
   "width": "152px"
  }
 },
 "nbformat": 4,
 "nbformat_minor": 0
}
