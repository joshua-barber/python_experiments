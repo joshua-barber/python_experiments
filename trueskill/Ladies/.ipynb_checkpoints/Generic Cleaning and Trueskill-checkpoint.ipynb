{
 "cells": [
  {
   "cell_type": "markdown",
   "metadata": {},
   "source": [
    "# Imports"
   ]
  },
  {
   "cell_type": "code",
   "execution_count": 1,
   "metadata": {
    "collapsed": false
   },
   "outputs": [],
   "source": [
    "import pandas as pd\n",
    "import numpy as np\n",
    "import trueskill\n",
    "\n",
    "from pandas import Series, DataFrame\n",
    "\n",
    "from trueskill import Rating, quality_1vs1, rate_1vs1"
   ]
  },
  {
   "cell_type": "markdown",
   "metadata": {},
   "source": [
    "# Source and Destination Files"
   ]
  },
  {
   "cell_type": "code",
   "execution_count": 4,
   "metadata": {
    "collapsed": false
   },
   "outputs": [],
   "source": [
    "# Place source and destination files here\n",
    "# Imports first\n",
    "# Write the current season here so you get the correct csvs\n",
    "season = '2015b'\n",
    "#season_year = = ''.join(x for x in season if x.isdigit())\n",
    "#season_year = int(season_year)\n",
    "#season_ab = season[-1]\n",
    "results_csv = '2015b_results_ladies.csv'\n",
    "oldskill_csv = 'skill ratings 2015a.csv'\n",
    "\n",
    "# Outputs second\n",
    "winloss_csv = '2015b winloss.csv'\n",
    "teams_csv = '2015b_teams.csv'\n",
    "newskill_csv = 'skill ratings 2015b.csv'"
   ]
  },
  {
   "cell_type": "code",
   "execution_count": 5,
   "metadata": {
    "collapsed": false
   },
   "outputs": [
    {
     "data": {
      "text/html": [
       "<div>\n",
       "<table border=\"1\" class=\"dataframe\">\n",
       "  <thead>\n",
       "    <tr style=\"text-align: right;\">\n",
       "      <th></th>\n",
       "      <th>ROUND</th>\n",
       "      <th>HOME</th>\n",
       "      <th>SCORE</th>\n",
       "      <th>SCORE.1</th>\n",
       "      <th>AWAY</th>\n",
       "      <th>OT</th>\n",
       "    </tr>\n",
       "  </thead>\n",
       "  <tbody>\n",
       "    <tr>\n",
       "      <th>0</th>\n",
       "      <td>1</td>\n",
       "      <td>Chick Park</td>\n",
       "      <td>9.0</td>\n",
       "      <td>4.0</td>\n",
       "      <td>Perth On Heat</td>\n",
       "      <td>NaN</td>\n",
       "    </tr>\n",
       "    <tr>\n",
       "      <th>1</th>\n",
       "      <td>1</td>\n",
       "      <td>Fremantle Cappuccino Strippers</td>\n",
       "      <td>12.0</td>\n",
       "      <td>25.0</td>\n",
       "      <td>Nedlands Yung Puccboiz</td>\n",
       "      <td>NaN</td>\n",
       "    </tr>\n",
       "    <tr>\n",
       "      <th>2</th>\n",
       "      <td>1</td>\n",
       "      <td>Applecross Dressers</td>\n",
       "      <td>13.0</td>\n",
       "      <td>14.0</td>\n",
       "      <td>Como Cunstables</td>\n",
       "      <td>OT</td>\n",
       "    </tr>\n",
       "    <tr>\n",
       "      <th>3</th>\n",
       "      <td>1</td>\n",
       "      <td>Coolbinia Cruisers</td>\n",
       "      <td>7.0</td>\n",
       "      <td>13.0</td>\n",
       "      <td>Jolimont Flying Vs</td>\n",
       "      <td>NaN</td>\n",
       "    </tr>\n",
       "    <tr>\n",
       "      <th>4</th>\n",
       "      <td>1</td>\n",
       "      <td>Freopian Tubes</td>\n",
       "      <td>9.0</td>\n",
       "      <td>3.0</td>\n",
       "      <td>Freovaries</td>\n",
       "      <td>NaN</td>\n",
       "    </tr>\n",
       "  </tbody>\n",
       "</table>\n",
       "</div>"
      ],
      "text/plain": [
       "   ROUND                            HOME  SCORE  SCORE.1  \\\n",
       "0      1                      Chick Park    9.0      4.0   \n",
       "1      1  Fremantle Cappuccino Strippers   12.0     25.0   \n",
       "2      1             Applecross Dressers   13.0     14.0   \n",
       "3      1              Coolbinia Cruisers    7.0     13.0   \n",
       "4      1                  Freopian Tubes    9.0      3.0   \n",
       "\n",
       "                     AWAY   OT  \n",
       "0           Perth On Heat  NaN  \n",
       "1  Nedlands Yung Puccboiz  NaN  \n",
       "2         Como Cunstables   OT  \n",
       "3      Jolimont Flying Vs  NaN  \n",
       "4              Freovaries  NaN  "
      ]
     },
     "execution_count": 5,
     "metadata": {},
     "output_type": "execute_result"
    }
   ],
   "source": [
    "results = pd.read_csv(results_csv)\n",
    "results.head()"
   ]
  },
  {
   "cell_type": "code",
   "execution_count": 6,
   "metadata": {
    "collapsed": false
   },
   "outputs": [
    {
     "name": "stderr",
     "output_type": "stream",
     "text": [
      "C:\\Anaconda2\\lib\\site-packages\\ipykernel\\__main__.py:2: SettingWithCopyWarning: \n",
      "A value is trying to be set on a copy of a slice from a DataFrame\n",
      "\n",
      "See the caveats in the documentation: http://pandas.pydata.org/pandas-docs/stable/indexing.html#indexing-view-versus-copy\n",
      "  from ipykernel import kernelapp as app\n"
     ]
    },
    {
     "data": {
      "text/html": [
       "<div>\n",
       "<table border=\"1\" class=\"dataframe\">\n",
       "  <thead>\n",
       "    <tr style=\"text-align: right;\">\n",
       "      <th></th>\n",
       "      <th>ROUND</th>\n",
       "      <th>HOME</th>\n",
       "      <th>SCORE</th>\n",
       "      <th>SCORE.1</th>\n",
       "      <th>AWAY</th>\n",
       "      <th>OT</th>\n",
       "    </tr>\n",
       "  </thead>\n",
       "  <tbody>\n",
       "    <tr>\n",
       "      <th>0</th>\n",
       "      <td>1</td>\n",
       "      <td>Chick Park</td>\n",
       "      <td>9.0</td>\n",
       "      <td>4.0</td>\n",
       "      <td>Perth On Heat</td>\n",
       "      <td>False</td>\n",
       "    </tr>\n",
       "    <tr>\n",
       "      <th>1</th>\n",
       "      <td>1</td>\n",
       "      <td>Fremantle Cappuccino Strippers</td>\n",
       "      <td>12.0</td>\n",
       "      <td>25.0</td>\n",
       "      <td>Nedlands Yung Puccboiz</td>\n",
       "      <td>False</td>\n",
       "    </tr>\n",
       "    <tr>\n",
       "      <th>2</th>\n",
       "      <td>1</td>\n",
       "      <td>Applecross Dressers</td>\n",
       "      <td>13.0</td>\n",
       "      <td>14.0</td>\n",
       "      <td>Como Cunstables</td>\n",
       "      <td>True</td>\n",
       "    </tr>\n",
       "    <tr>\n",
       "      <th>3</th>\n",
       "      <td>1</td>\n",
       "      <td>Coolbinia Cruisers</td>\n",
       "      <td>7.0</td>\n",
       "      <td>13.0</td>\n",
       "      <td>Jolimont Flying Vs</td>\n",
       "      <td>False</td>\n",
       "    </tr>\n",
       "    <tr>\n",
       "      <th>4</th>\n",
       "      <td>1</td>\n",
       "      <td>Freopian Tubes</td>\n",
       "      <td>9.0</td>\n",
       "      <td>3.0</td>\n",
       "      <td>Freovaries</td>\n",
       "      <td>False</td>\n",
       "    </tr>\n",
       "  </tbody>\n",
       "</table>\n",
       "</div>"
      ],
      "text/plain": [
       "   ROUND                            HOME  SCORE  SCORE.1  \\\n",
       "0      1                      Chick Park    9.0      4.0   \n",
       "1      1  Fremantle Cappuccino Strippers   12.0     25.0   \n",
       "2      1             Applecross Dressers   13.0     14.0   \n",
       "3      1              Coolbinia Cruisers    7.0     13.0   \n",
       "4      1                  Freopian Tubes    9.0      3.0   \n",
       "\n",
       "                     AWAY     OT  \n",
       "0           Perth On Heat  False  \n",
       "1  Nedlands Yung Puccboiz  False  \n",
       "2         Como Cunstables   True  \n",
       "3      Jolimont Flying Vs  False  \n",
       "4              Freovaries  False  "
      ]
     },
     "execution_count": 6,
     "metadata": {},
     "output_type": "execute_result"
    }
   ],
   "source": [
    "for i in range(0,len(results)):\n",
    "    results['OT'][i] = results['OT'][i] == \"OT\"\n",
    "\n",
    "results.head()"
   ]
  },
  {
   "cell_type": "code",
   "execution_count": 7,
   "metadata": {
    "collapsed": false
   },
   "outputs": [
    {
     "name": "stderr",
     "output_type": "stream",
     "text": [
      "C:\\Anaconda2\\lib\\site-packages\\ipykernel\\__main__.py:5: SettingWithCopyWarning: \n",
      "A value is trying to be set on a copy of a slice from a DataFrame\n",
      "\n",
      "See the caveats in the documentation: http://pandas.pydata.org/pandas-docs/stable/indexing.html#indexing-view-versus-copy\n"
     ]
    },
    {
     "data": {
      "text/html": [
       "<div>\n",
       "<table border=\"1\" class=\"dataframe\">\n",
       "  <thead>\n",
       "    <tr style=\"text-align: right;\">\n",
       "      <th></th>\n",
       "      <th>ROUND</th>\n",
       "      <th>HOME</th>\n",
       "      <th>SCORE</th>\n",
       "      <th>SCORE.1</th>\n",
       "      <th>AWAY</th>\n",
       "      <th>OT</th>\n",
       "      <th>IsDraw</th>\n",
       "    </tr>\n",
       "  </thead>\n",
       "  <tbody>\n",
       "    <tr>\n",
       "      <th>0</th>\n",
       "      <td>1</td>\n",
       "      <td>Chick Park</td>\n",
       "      <td>9.0</td>\n",
       "      <td>4.0</td>\n",
       "      <td>Perth On Heat</td>\n",
       "      <td>False</td>\n",
       "      <td>False</td>\n",
       "    </tr>\n",
       "    <tr>\n",
       "      <th>1</th>\n",
       "      <td>1</td>\n",
       "      <td>Fremantle Cappuccino Strippers</td>\n",
       "      <td>12.0</td>\n",
       "      <td>25.0</td>\n",
       "      <td>Nedlands Yung Puccboiz</td>\n",
       "      <td>False</td>\n",
       "      <td>False</td>\n",
       "    </tr>\n",
       "    <tr>\n",
       "      <th>2</th>\n",
       "      <td>1</td>\n",
       "      <td>Applecross Dressers</td>\n",
       "      <td>13.0</td>\n",
       "      <td>14.0</td>\n",
       "      <td>Como Cunstables</td>\n",
       "      <td>True</td>\n",
       "      <td>True</td>\n",
       "    </tr>\n",
       "    <tr>\n",
       "      <th>3</th>\n",
       "      <td>1</td>\n",
       "      <td>Coolbinia Cruisers</td>\n",
       "      <td>7.0</td>\n",
       "      <td>13.0</td>\n",
       "      <td>Jolimont Flying Vs</td>\n",
       "      <td>False</td>\n",
       "      <td>False</td>\n",
       "    </tr>\n",
       "    <tr>\n",
       "      <th>4</th>\n",
       "      <td>1</td>\n",
       "      <td>Freopian Tubes</td>\n",
       "      <td>9.0</td>\n",
       "      <td>3.0</td>\n",
       "      <td>Freovaries</td>\n",
       "      <td>False</td>\n",
       "      <td>False</td>\n",
       "    </tr>\n",
       "  </tbody>\n",
       "</table>\n",
       "</div>"
      ],
      "text/plain": [
       "   ROUND                            HOME  SCORE  SCORE.1  \\\n",
       "0      1                      Chick Park    9.0      4.0   \n",
       "1      1  Fremantle Cappuccino Strippers   12.0     25.0   \n",
       "2      1             Applecross Dressers   13.0     14.0   \n",
       "3      1              Coolbinia Cruisers    7.0     13.0   \n",
       "4      1                  Freopian Tubes    9.0      3.0   \n",
       "\n",
       "                     AWAY     OT IsDraw  \n",
       "0           Perth On Heat  False  False  \n",
       "1  Nedlands Yung Puccboiz  False  False  \n",
       "2         Como Cunstables   True   True  \n",
       "3      Jolimont Flying Vs  False  False  \n",
       "4              Freovaries  False  False  "
      ]
     },
     "execution_count": 7,
     "metadata": {},
     "output_type": "execute_result"
    }
   ],
   "source": [
    "results['IsDraw'] = results['SCORE'] == results['SCORE.1']\n",
    "\n",
    "for i in range(0,len(results)):\n",
    "    if results['OT'][i]:\n",
    "        results['IsDraw'][i] = True\n",
    "        \n",
    "results.head()"
   ]
  },
  {
   "cell_type": "code",
   "execution_count": 8,
   "metadata": {
    "collapsed": false
   },
   "outputs": [
    {
     "name": "stderr",
     "output_type": "stream",
     "text": [
      "C:\\Anaconda2\\lib\\site-packages\\ipykernel\\__main__.py:8: SettingWithCopyWarning: \n",
      "A value is trying to be set on a copy of a slice from a DataFrame\n",
      "\n",
      "See the caveats in the documentation: http://pandas.pydata.org/pandas-docs/stable/indexing.html#indexing-view-versus-copy\n",
      "C:\\Anaconda2\\lib\\site-packages\\ipykernel\\__main__.py:11: SettingWithCopyWarning: \n",
      "A value is trying to be set on a copy of a slice from a DataFrame\n",
      "\n",
      "See the caveats in the documentation: http://pandas.pydata.org/pandas-docs/stable/indexing.html#indexing-view-versus-copy\n",
      "C:\\Anaconda2\\lib\\site-packages\\pandas\\core\\indexing.py:132: SettingWithCopyWarning: \n",
      "A value is trying to be set on a copy of a slice from a DataFrame\n",
      "\n",
      "See the caveats in the documentation: http://pandas.pydata.org/pandas-docs/stable/indexing.html#indexing-view-versus-copy\n",
      "  self._setitem_with_indexer(indexer, value)\n",
      "C:\\Anaconda2\\lib\\site-packages\\ipykernel\\__main__.py:12: SettingWithCopyWarning: \n",
      "A value is trying to be set on a copy of a slice from a DataFrame\n",
      "\n",
      "See the caveats in the documentation: http://pandas.pydata.org/pandas-docs/stable/indexing.html#indexing-view-versus-copy\n",
      "C:\\Anaconda2\\lib\\site-packages\\ipykernel\\__main__.py:14: SettingWithCopyWarning: \n",
      "A value is trying to be set on a copy of a slice from a DataFrame\n",
      "\n",
      "See the caveats in the documentation: http://pandas.pydata.org/pandas-docs/stable/indexing.html#indexing-view-versus-copy\n",
      "C:\\Anaconda2\\lib\\site-packages\\ipykernel\\__main__.py:15: SettingWithCopyWarning: \n",
      "A value is trying to be set on a copy of a slice from a DataFrame\n",
      "\n",
      "See the caveats in the documentation: http://pandas.pydata.org/pandas-docs/stable/indexing.html#indexing-view-versus-copy\n"
     ]
    },
    {
     "data": {
      "text/html": [
       "<div>\n",
       "<table border=\"1\" class=\"dataframe\">\n",
       "  <thead>\n",
       "    <tr style=\"text-align: right;\">\n",
       "      <th></th>\n",
       "      <th>ROUND</th>\n",
       "      <th>HOME</th>\n",
       "      <th>homescore</th>\n",
       "      <th>awayscore</th>\n",
       "      <th>AWAY</th>\n",
       "      <th>OT</th>\n",
       "      <th>IsDraw</th>\n",
       "      <th>Winteam</th>\n",
       "      <th>Lossteam</th>\n",
       "      <th>gameplayed</th>\n",
       "    </tr>\n",
       "  </thead>\n",
       "  <tbody>\n",
       "    <tr>\n",
       "      <th>0</th>\n",
       "      <td>1</td>\n",
       "      <td>Chick Park</td>\n",
       "      <td>9.0</td>\n",
       "      <td>4.0</td>\n",
       "      <td>Perth On Heat</td>\n",
       "      <td>False</td>\n",
       "      <td>False</td>\n",
       "      <td>Chick Park</td>\n",
       "      <td>Perth On Heat</td>\n",
       "      <td>1.0</td>\n",
       "    </tr>\n",
       "    <tr>\n",
       "      <th>1</th>\n",
       "      <td>1</td>\n",
       "      <td>Fremantle Cappuccino Strippers</td>\n",
       "      <td>12.0</td>\n",
       "      <td>25.0</td>\n",
       "      <td>Nedlands Yung Puccboiz</td>\n",
       "      <td>False</td>\n",
       "      <td>False</td>\n",
       "      <td>Nedlands Yung Puccboiz</td>\n",
       "      <td>Fremantle Cappuccino Strippers</td>\n",
       "      <td>1.0</td>\n",
       "    </tr>\n",
       "    <tr>\n",
       "      <th>2</th>\n",
       "      <td>1</td>\n",
       "      <td>Applecross Dressers</td>\n",
       "      <td>13.0</td>\n",
       "      <td>14.0</td>\n",
       "      <td>Como Cunstables</td>\n",
       "      <td>True</td>\n",
       "      <td>True</td>\n",
       "      <td>Como Cunstables</td>\n",
       "      <td>Applecross Dressers</td>\n",
       "      <td>1.0</td>\n",
       "    </tr>\n",
       "    <tr>\n",
       "      <th>3</th>\n",
       "      <td>1</td>\n",
       "      <td>Coolbinia Cruisers</td>\n",
       "      <td>7.0</td>\n",
       "      <td>13.0</td>\n",
       "      <td>Jolimont Flying Vs</td>\n",
       "      <td>False</td>\n",
       "      <td>False</td>\n",
       "      <td>Jolimont Flying Vs</td>\n",
       "      <td>Coolbinia Cruisers</td>\n",
       "      <td>1.0</td>\n",
       "    </tr>\n",
       "    <tr>\n",
       "      <th>4</th>\n",
       "      <td>1</td>\n",
       "      <td>Freopian Tubes</td>\n",
       "      <td>9.0</td>\n",
       "      <td>3.0</td>\n",
       "      <td>Freovaries</td>\n",
       "      <td>False</td>\n",
       "      <td>False</td>\n",
       "      <td>Freopian Tubes</td>\n",
       "      <td>Freovaries</td>\n",
       "      <td>1.0</td>\n",
       "    </tr>\n",
       "  </tbody>\n",
       "</table>\n",
       "</div>"
      ],
      "text/plain": [
       "   ROUND                            HOME  homescore  awayscore  \\\n",
       "0      1                      Chick Park        9.0        4.0   \n",
       "1      1  Fremantle Cappuccino Strippers       12.0       25.0   \n",
       "2      1             Applecross Dressers       13.0       14.0   \n",
       "3      1              Coolbinia Cruisers        7.0       13.0   \n",
       "4      1                  Freopian Tubes        9.0        3.0   \n",
       "\n",
       "                     AWAY     OT IsDraw                 Winteam  \\\n",
       "0           Perth On Heat  False  False              Chick Park   \n",
       "1  Nedlands Yung Puccboiz  False  False  Nedlands Yung Puccboiz   \n",
       "2         Como Cunstables   True   True         Como Cunstables   \n",
       "3      Jolimont Flying Vs  False  False      Jolimont Flying Vs   \n",
       "4              Freovaries  False  False          Freopian Tubes   \n",
       "\n",
       "                         Lossteam  gameplayed  \n",
       "0                   Perth On Heat         1.0  \n",
       "1  Fremantle Cappuccino Strippers         1.0  \n",
       "2             Applecross Dressers         1.0  \n",
       "3              Coolbinia Cruisers         1.0  \n",
       "4                      Freovaries         1.0  "
      ]
     },
     "execution_count": 8,
     "metadata": {},
     "output_type": "execute_result"
    }
   ],
   "source": [
    "# Work out if a game was actually played, and if so who won\n",
    "\n",
    "results['Winteam']=np.NaN\n",
    "results['Lossteam']=np.NaN\n",
    "results['gameplayed']=np.NaN\n",
    "results = results.rename(columns = {\"SCORE\":\"homescore\",\"SCORE.1\":\"awayscore\"})\n",
    "for i in range(0,len(results)):\n",
    "    results['gameplayed'][i] = results['homescore'][i] != 0 and results['awayscore'][i] != 0\n",
    "    # If home score is greater than away score\n",
    "    if results['homescore'][i]>=results['awayscore'][i]:\n",
    "        results['Winteam'][i]=results['HOME'][i]\n",
    "        results['Lossteam'][i]=results['AWAY'][i]\n",
    "    else:\n",
    "        results['Winteam'][i]=results['AWAY'][i]\n",
    "        results['Lossteam'][i]=results['HOME'][i]\n",
    "\n",
    "    \n",
    "results.head()"
   ]
  },
  {
   "cell_type": "code",
   "execution_count": 9,
   "metadata": {
    "collapsed": false
   },
   "outputs": [],
   "source": [
    "results = results.drop(results.columns[[0,1,2,3,4,5]],axis=1)\n",
    "winloss = results[results[\"gameplayed\"] == 1]"
   ]
  },
  {
   "cell_type": "code",
   "execution_count": 10,
   "metadata": {
    "collapsed": false
   },
   "outputs": [
    {
     "data": {
      "text/plain": [
       "7                Applecross Dressers\n",
       "9                 Beachside Bellends\n",
       "0                         Chick Park\n",
       "2                    Como Cunstables\n",
       "10                Coolbinia Cruisers\n",
       "12        Dianella Dirty Street Pies\n",
       "6     Fremantle Cappuccino Strippers\n",
       "4                     Freopian Tubes\n",
       "11                        Freovaries\n",
       "3                 Jolimont Flying Vs\n",
       "5           Joondnanna Jerryhatricks\n",
       "1             Nedlands Yung Puccboiz\n",
       "8                      Perth On Heat\n",
       "dtype: object"
      ]
     },
     "execution_count": 10,
     "metadata": {},
     "output_type": "execute_result"
    }
   ],
   "source": [
    "x = Series(winloss['Winteam'].unique())\n",
    "y = Series(winloss['Lossteam'].unique())\n",
    "x=x.append(y)\n",
    "x=Series(x.unique())\n",
    "x=x.dropna()\n",
    "x.sort_values()\n"
   ]
  },
  {
   "cell_type": "code",
   "execution_count": 11,
   "metadata": {
    "collapsed": false
   },
   "outputs": [],
   "source": [
    "#winloss.head()\n"
   ]
  },
  {
   "cell_type": "code",
   "execution_count": 12,
   "metadata": {
    "collapsed": false
   },
   "outputs": [],
   "source": [
    "x=Series(x.unique())\n",
    "x=x.sort_values()\n",
    "#teams_lower = Series([])\n",
    "#x = Series(winloss['Winteam'].unique())\n",
    "#y = Series(winloss['Lossteam'].unique())\n",
    "#x=x.append(y)\n",
    "#x=Series(x.unique())\n",
    "\n",
    "#teams = x.sort_values()\n",
    "for i in range(0,len(x)):\n",
    "    x[i]=x[i].lower()\n",
    "teams = x"
   ]
  },
  {
   "cell_type": "code",
   "execution_count": 13,
   "metadata": {
    "collapsed": false
   },
   "outputs": [
    {
     "data": {
      "text/plain": [
       "array(['applecross dressers', 'beachside bellends', 'chick park',\n",
       "       'como cunstables', 'coolbinia cruisers',\n",
       "       'dianella dirty street pies', 'fremantle cappuccino strippers',\n",
       "       'freopian tubes', 'freovaries', 'jolimont flying vs',\n",
       "       'joondnanna jerryhatricks', 'nedlands yung puccboiz',\n",
       "       'perth on heat'], dtype=object)"
      ]
     },
     "execution_count": 13,
     "metadata": {},
     "output_type": "execute_result"
    }
   ],
   "source": [
    "teams.unique()"
   ]
  },
  {
   "cell_type": "code",
   "execution_count": 14,
   "metadata": {
    "collapsed": false
   },
   "outputs": [],
   "source": [
    "# Write to CSV, manually apply lower() to the winteam and lossteam\n",
    "winloss.to_csv(winloss_csv)\n",
    "teams.to_csv(teams_csv)"
   ]
  },
  {
   "cell_type": "code",
   "execution_count": 15,
   "metadata": {
    "collapsed": false
   },
   "outputs": [],
   "source": [
    "#teams_lower = pd.read_csv(teams_csv)\n",
    "#teams = teams_lower['team']\n",
    "\n",
    "# Reread the manually fixed stuff\n",
    "winloss = pd.read_csv(winloss_csv)"
   ]
  },
  {
   "cell_type": "code",
   "execution_count": null,
   "metadata": {
    "collapsed": false
   },
   "outputs": [],
   "source": []
  },
  {
   "cell_type": "code",
   "execution_count": 16,
   "metadata": {
    "collapsed": false
   },
   "outputs": [
    {
     "name": "stderr",
     "output_type": "stream",
     "text": [
      "C:\\Anaconda2\\lib\\site-packages\\ipykernel\\__main__.py:3: SettingWithCopyWarning: \n",
      "A value is trying to be set on a copy of a slice from a DataFrame\n",
      "\n",
      "See the caveats in the documentation: http://pandas.pydata.org/pandas-docs/stable/indexing.html#indexing-view-versus-copy\n",
      "  app.launch_new_instance()\n",
      "C:\\Anaconda2\\lib\\site-packages\\ipykernel\\__main__.py:4: SettingWithCopyWarning: \n",
      "A value is trying to be set on a copy of a slice from a DataFrame\n",
      "\n",
      "See the caveats in the documentation: http://pandas.pydata.org/pandas-docs/stable/indexing.html#indexing-view-versus-copy\n"
     ]
    },
    {
     "data": {
      "text/html": [
       "<div>\n",
       "<table border=\"1\" class=\"dataframe\">\n",
       "  <thead>\n",
       "    <tr style=\"text-align: right;\">\n",
       "      <th></th>\n",
       "      <th>Unnamed: 0</th>\n",
       "      <th>IsDraw</th>\n",
       "      <th>Winteam</th>\n",
       "      <th>Lossteam</th>\n",
       "      <th>gameplayed</th>\n",
       "    </tr>\n",
       "  </thead>\n",
       "  <tbody>\n",
       "    <tr>\n",
       "      <th>0</th>\n",
       "      <td>0</td>\n",
       "      <td>False</td>\n",
       "      <td>chick park</td>\n",
       "      <td>perth on heat</td>\n",
       "      <td>1.0</td>\n",
       "    </tr>\n",
       "    <tr>\n",
       "      <th>1</th>\n",
       "      <td>1</td>\n",
       "      <td>False</td>\n",
       "      <td>nedlands yung puccboiz</td>\n",
       "      <td>fremantle cappuccino strippers</td>\n",
       "      <td>1.0</td>\n",
       "    </tr>\n",
       "    <tr>\n",
       "      <th>2</th>\n",
       "      <td>2</td>\n",
       "      <td>True</td>\n",
       "      <td>como cunstables</td>\n",
       "      <td>applecross dressers</td>\n",
       "      <td>1.0</td>\n",
       "    </tr>\n",
       "    <tr>\n",
       "      <th>3</th>\n",
       "      <td>3</td>\n",
       "      <td>False</td>\n",
       "      <td>jolimont flying vs</td>\n",
       "      <td>coolbinia cruisers</td>\n",
       "      <td>1.0</td>\n",
       "    </tr>\n",
       "    <tr>\n",
       "      <th>4</th>\n",
       "      <td>4</td>\n",
       "      <td>False</td>\n",
       "      <td>freopian tubes</td>\n",
       "      <td>freovaries</td>\n",
       "      <td>1.0</td>\n",
       "    </tr>\n",
       "  </tbody>\n",
       "</table>\n",
       "</div>"
      ],
      "text/plain": [
       "   Unnamed: 0 IsDraw                 Winteam                        Lossteam  \\\n",
       "0           0  False              chick park                   perth on heat   \n",
       "1           1  False  nedlands yung puccboiz  fremantle cappuccino strippers   \n",
       "2           2   True         como cunstables             applecross dressers   \n",
       "3           3  False      jolimont flying vs              coolbinia cruisers   \n",
       "4           4  False          freopian tubes                      freovaries   \n",
       "\n",
       "   gameplayed  \n",
       "0         1.0  \n",
       "1         1.0  \n",
       "2         1.0  \n",
       "3         1.0  \n",
       "4         1.0  "
      ]
     },
     "execution_count": 16,
     "metadata": {},
     "output_type": "execute_result"
    }
   ],
   "source": [
    "winloss = winloss.dropna()\n",
    "for i in range(0,len(winloss)):\n",
    "    winloss['Winteam'][i] = winloss['Winteam'][i].lower()\n",
    "    winloss['Lossteam'][i] = winloss['Lossteam'][i].lower()\n",
    "    \n",
    "winloss.head()"
   ]
  },
  {
   "cell_type": "code",
   "execution_count": 17,
   "metadata": {
    "collapsed": false
   },
   "outputs": [
    {
     "name": "stdout",
     "output_type": "stream",
     "text": [
      "0                applecross dressers\n",
      "1                 beachside bellends\n",
      "2                         chick park\n",
      "3                    como cunstables\n",
      "4                 coolbinia cruisers\n",
      "5         dianella dirty street pies\n",
      "6     fremantle cappuccino strippers\n",
      "7                     freopian tubes\n",
      "8                         freovaries\n",
      "9                 jolimont flying vs\n",
      "10          joondnanna jerryhatricks\n",
      "11            nedlands yung puccboiz\n",
      "12                     perth on heat\n",
      "dtype: object\n",
      "13 teams\n"
     ]
    }
   ],
   "source": [
    "#winteams = Series(winloss['Winteam'].unique())\n",
    "#lossteams = Series(winloss['Lossteam'].unique())\n",
    "#teams = winteams\n",
    "#teams = teams.append(lossteams)\n",
    "teams = Series(teams.unique())\n",
    "print(teams);\n",
    "print len(teams), \"teams\";"
   ]
  },
  {
   "cell_type": "markdown",
   "metadata": {},
   "source": [
    "# Create skill from lower(teams), update skill"
   ]
  },
  {
   "cell_type": "code",
   "execution_count": 18,
   "metadata": {
    "collapsed": false
   },
   "outputs": [
    {
     "data": {
      "text/plain": [
       "{'applecross dressers': trueskill.Rating(mu=25.000, sigma=8.333),\n",
       " 'beachside bellends': trueskill.Rating(mu=25.000, sigma=8.333),\n",
       " 'chick park': trueskill.Rating(mu=25.000, sigma=8.333),\n",
       " 'como cunstables': trueskill.Rating(mu=25.000, sigma=8.333),\n",
       " 'coolbinia cruisers': trueskill.Rating(mu=25.000, sigma=8.333),\n",
       " 'dianella dirty street pies': trueskill.Rating(mu=25.000, sigma=8.333),\n",
       " 'fremantle cappuccino strippers': trueskill.Rating(mu=25.000, sigma=8.333),\n",
       " 'freopian tubes': trueskill.Rating(mu=25.000, sigma=8.333),\n",
       " 'freovaries': trueskill.Rating(mu=25.000, sigma=8.333),\n",
       " 'jolimont flying vs': trueskill.Rating(mu=25.000, sigma=8.333),\n",
       " 'joondnanna jerryhatricks': trueskill.Rating(mu=25.000, sigma=8.333),\n",
       " 'nedlands yung puccboiz': trueskill.Rating(mu=25.000, sigma=8.333),\n",
       " 'perth on heat': trueskill.Rating(mu=25.000, sigma=8.333)}"
      ]
     },
     "execution_count": 18,
     "metadata": {},
     "output_type": "execute_result"
    }
   ],
   "source": [
    "skill = {name:Rating() for name in teams}\n",
    "skill"
   ]
  },
  {
   "cell_type": "code",
   "execution_count": 19,
   "metadata": {
    "collapsed": false
   },
   "outputs": [
    {
     "ename": "CParserError",
     "evalue": "Error tokenizing data. C error: Expected 1 fields in line 27, saw 2\n",
     "output_type": "error",
     "traceback": [
      "\u001b[1;31m---------------------------------------------------------------------------\u001b[0m",
      "\u001b[1;31mCParserError\u001b[0m                              Traceback (most recent call last)",
      "\u001b[1;32m<ipython-input-19-6626f1d68f9d>\u001b[0m in \u001b[0;36m<module>\u001b[1;34m()\u001b[0m\n\u001b[0;32m      1\u001b[0m \u001b[1;31m# Read in the old ratings from csv, make sure they're init'd as Rating() objects\u001b[0m\u001b[1;33m\u001b[0m\u001b[1;33m\u001b[0m\u001b[0m\n\u001b[1;32m----> 2\u001b[1;33m \u001b[0mratings_past\u001b[0m \u001b[1;33m=\u001b[0m \u001b[0mpd\u001b[0m\u001b[1;33m.\u001b[0m\u001b[0mread_csv\u001b[0m\u001b[1;33m(\u001b[0m\u001b[0moldskill_csv\u001b[0m\u001b[1;33m)\u001b[0m\u001b[1;33m\u001b[0m\u001b[0m\n\u001b[0m\u001b[0;32m      3\u001b[0m \u001b[1;32mfor\u001b[0m \u001b[0mi\u001b[0m \u001b[1;32min\u001b[0m \u001b[0mrange\u001b[0m\u001b[1;33m(\u001b[0m\u001b[1;36m0\u001b[0m\u001b[1;33m,\u001b[0m\u001b[0mlen\u001b[0m\u001b[1;33m(\u001b[0m\u001b[0mratings_past\u001b[0m\u001b[1;33m)\u001b[0m\u001b[1;33m)\u001b[0m\u001b[1;33m:\u001b[0m\u001b[1;33m\u001b[0m\u001b[0m\n\u001b[0;32m      4\u001b[0m                \u001b[0mratings_past\u001b[0m\u001b[1;33m[\u001b[0m\u001b[1;34m'Rating'\u001b[0m\u001b[1;33m]\u001b[0m\u001b[1;33m[\u001b[0m\u001b[0mi\u001b[0m\u001b[1;33m]\u001b[0m \u001b[1;33m=\u001b[0m \u001b[0mRating\u001b[0m\u001b[1;33m(\u001b[0m\u001b[0mmu\u001b[0m\u001b[1;33m=\u001b[0m\u001b[0mratings_past\u001b[0m\u001b[1;33m[\u001b[0m\u001b[1;34m'mu'\u001b[0m\u001b[1;33m]\u001b[0m\u001b[1;33m[\u001b[0m\u001b[0mi\u001b[0m\u001b[1;33m]\u001b[0m\u001b[1;33m,\u001b[0m\u001b[1;33m)\u001b[0m\u001b[1;33m\u001b[0m\u001b[0m\n\u001b[0;32m      5\u001b[0m                                                   \u001b[1;31m#sigma=ratings_past['sigma'][i]#)\u001b[0m\u001b[1;33m\u001b[0m\u001b[1;33m\u001b[0m\u001b[0m\n",
      "\u001b[1;32mC:\\Anaconda2\\lib\\site-packages\\pandas\\io\\parsers.pyc\u001b[0m in \u001b[0;36mparser_f\u001b[1;34m(filepath_or_buffer, sep, delimiter, header, names, index_col, usecols, squeeze, prefix, mangle_dupe_cols, dtype, engine, converters, true_values, false_values, skipinitialspace, skiprows, skipfooter, nrows, na_values, keep_default_na, na_filter, verbose, skip_blank_lines, parse_dates, infer_datetime_format, keep_date_col, date_parser, dayfirst, iterator, chunksize, compression, thousands, decimal, lineterminator, quotechar, quoting, escapechar, comment, encoding, dialect, tupleize_cols, error_bad_lines, warn_bad_lines, skip_footer, doublequote, delim_whitespace, as_recarray, compact_ints, use_unsigned, low_memory, buffer_lines, memory_map, float_precision)\u001b[0m\n\u001b[0;32m    560\u001b[0m                     skip_blank_lines=skip_blank_lines)\n\u001b[0;32m    561\u001b[0m \u001b[1;33m\u001b[0m\u001b[0m\n\u001b[1;32m--> 562\u001b[1;33m         \u001b[1;32mreturn\u001b[0m \u001b[0m_read\u001b[0m\u001b[1;33m(\u001b[0m\u001b[0mfilepath_or_buffer\u001b[0m\u001b[1;33m,\u001b[0m \u001b[0mkwds\u001b[0m\u001b[1;33m)\u001b[0m\u001b[1;33m\u001b[0m\u001b[0m\n\u001b[0m\u001b[0;32m    563\u001b[0m \u001b[1;33m\u001b[0m\u001b[0m\n\u001b[0;32m    564\u001b[0m     \u001b[0mparser_f\u001b[0m\u001b[1;33m.\u001b[0m\u001b[0m__name__\u001b[0m \u001b[1;33m=\u001b[0m \u001b[0mname\u001b[0m\u001b[1;33m\u001b[0m\u001b[0m\n",
      "\u001b[1;32mC:\\Anaconda2\\lib\\site-packages\\pandas\\io\\parsers.pyc\u001b[0m in \u001b[0;36m_read\u001b[1;34m(filepath_or_buffer, kwds)\u001b[0m\n\u001b[0;32m    323\u001b[0m         \u001b[1;32mreturn\u001b[0m \u001b[0mparser\u001b[0m\u001b[1;33m\u001b[0m\u001b[0m\n\u001b[0;32m    324\u001b[0m \u001b[1;33m\u001b[0m\u001b[0m\n\u001b[1;32m--> 325\u001b[1;33m     \u001b[1;32mreturn\u001b[0m \u001b[0mparser\u001b[0m\u001b[1;33m.\u001b[0m\u001b[0mread\u001b[0m\u001b[1;33m(\u001b[0m\u001b[1;33m)\u001b[0m\u001b[1;33m\u001b[0m\u001b[0m\n\u001b[0m\u001b[0;32m    326\u001b[0m \u001b[1;33m\u001b[0m\u001b[0m\n\u001b[0;32m    327\u001b[0m _parser_defaults = {\n",
      "\u001b[1;32mC:\\Anaconda2\\lib\\site-packages\\pandas\\io\\parsers.pyc\u001b[0m in \u001b[0;36mread\u001b[1;34m(self, nrows)\u001b[0m\n\u001b[0;32m    813\u001b[0m                 \u001b[1;32mraise\u001b[0m \u001b[0mValueError\u001b[0m\u001b[1;33m(\u001b[0m\u001b[1;34m'skip_footer not supported for iteration'\u001b[0m\u001b[1;33m)\u001b[0m\u001b[1;33m\u001b[0m\u001b[0m\n\u001b[0;32m    814\u001b[0m \u001b[1;33m\u001b[0m\u001b[0m\n\u001b[1;32m--> 815\u001b[1;33m         \u001b[0mret\u001b[0m \u001b[1;33m=\u001b[0m \u001b[0mself\u001b[0m\u001b[1;33m.\u001b[0m\u001b[0m_engine\u001b[0m\u001b[1;33m.\u001b[0m\u001b[0mread\u001b[0m\u001b[1;33m(\u001b[0m\u001b[0mnrows\u001b[0m\u001b[1;33m)\u001b[0m\u001b[1;33m\u001b[0m\u001b[0m\n\u001b[0m\u001b[0;32m    816\u001b[0m \u001b[1;33m\u001b[0m\u001b[0m\n\u001b[0;32m    817\u001b[0m         \u001b[1;32mif\u001b[0m \u001b[0mself\u001b[0m\u001b[1;33m.\u001b[0m\u001b[0moptions\u001b[0m\u001b[1;33m.\u001b[0m\u001b[0mget\u001b[0m\u001b[1;33m(\u001b[0m\u001b[1;34m'as_recarray'\u001b[0m\u001b[1;33m)\u001b[0m\u001b[1;33m:\u001b[0m\u001b[1;33m\u001b[0m\u001b[0m\n",
      "\u001b[1;32mC:\\Anaconda2\\lib\\site-packages\\pandas\\io\\parsers.pyc\u001b[0m in \u001b[0;36mread\u001b[1;34m(self, nrows)\u001b[0m\n\u001b[0;32m   1312\u001b[0m     \u001b[1;32mdef\u001b[0m \u001b[0mread\u001b[0m\u001b[1;33m(\u001b[0m\u001b[0mself\u001b[0m\u001b[1;33m,\u001b[0m \u001b[0mnrows\u001b[0m\u001b[1;33m=\u001b[0m\u001b[0mNone\u001b[0m\u001b[1;33m)\u001b[0m\u001b[1;33m:\u001b[0m\u001b[1;33m\u001b[0m\u001b[0m\n\u001b[0;32m   1313\u001b[0m         \u001b[1;32mtry\u001b[0m\u001b[1;33m:\u001b[0m\u001b[1;33m\u001b[0m\u001b[0m\n\u001b[1;32m-> 1314\u001b[1;33m             \u001b[0mdata\u001b[0m \u001b[1;33m=\u001b[0m \u001b[0mself\u001b[0m\u001b[1;33m.\u001b[0m\u001b[0m_reader\u001b[0m\u001b[1;33m.\u001b[0m\u001b[0mread\u001b[0m\u001b[1;33m(\u001b[0m\u001b[0mnrows\u001b[0m\u001b[1;33m)\u001b[0m\u001b[1;33m\u001b[0m\u001b[0m\n\u001b[0m\u001b[0;32m   1315\u001b[0m         \u001b[1;32mexcept\u001b[0m \u001b[0mStopIteration\u001b[0m\u001b[1;33m:\u001b[0m\u001b[1;33m\u001b[0m\u001b[0m\n\u001b[0;32m   1316\u001b[0m             \u001b[1;32mif\u001b[0m \u001b[0mself\u001b[0m\u001b[1;33m.\u001b[0m\u001b[0m_first_chunk\u001b[0m\u001b[1;33m:\u001b[0m\u001b[1;33m\u001b[0m\u001b[0m\n",
      "\u001b[1;32mpandas\\parser.pyx\u001b[0m in \u001b[0;36mpandas.parser.TextReader.read (pandas\\parser.c:8748)\u001b[1;34m()\u001b[0m\n",
      "\u001b[1;32mpandas\\parser.pyx\u001b[0m in \u001b[0;36mpandas.parser.TextReader._read_low_memory (pandas\\parser.c:9003)\u001b[1;34m()\u001b[0m\n",
      "\u001b[1;32mpandas\\parser.pyx\u001b[0m in \u001b[0;36mpandas.parser.TextReader._read_rows (pandas\\parser.c:9731)\u001b[1;34m()\u001b[0m\n",
      "\u001b[1;32mpandas\\parser.pyx\u001b[0m in \u001b[0;36mpandas.parser.TextReader._tokenize_rows (pandas\\parser.c:9602)\u001b[1;34m()\u001b[0m\n",
      "\u001b[1;32mpandas\\parser.pyx\u001b[0m in \u001b[0;36mpandas.parser.raise_parser_error (pandas\\parser.c:23325)\u001b[1;34m()\u001b[0m\n",
      "\u001b[1;31mCParserError\u001b[0m: Error tokenizing data. C error: Expected 1 fields in line 27, saw 2\n"
     ]
    }
   ],
   "source": [
    "# Read in the old ratings from csv, make sure they're init'd as Rating() objects\n",
    "ratings_past = pd.read_csv(oldskill_csv)\n",
    "for i in range(0,len(ratings_past)):\n",
    "               ratings_past['Rating'][i] = Rating(mu=ratings_past['mu'][i],)\n",
    "                                                  #sigma=ratings_past['sigma'][i]#)\n",
    "                                                    # This is commented out because we want to try starting from default sigma values\n",
    "                                                    # Because new teams enter the mix, we are not as certain of each team's skill\n",
    "ratings_past.head()"
   ]
  },
  {
   "cell_type": "code",
   "execution_count": 98,
   "metadata": {
    "collapsed": false
   },
   "outputs": [],
   "source": [
    "# Get the old ratings (last season), send them to a new dictionary\n",
    "oldratings=ratings_past.set_index('Team')['Rating'].to_dict()\n",
    "oldratings;"
   ]
  },
  {
   "cell_type": "code",
   "execution_count": 20,
   "metadata": {
    "collapsed": false
   },
   "outputs": [
    {
     "data": {
      "text/plain": [
       "{'applecross dressers': trueskill.Rating(mu=25.000, sigma=8.333),\n",
       " 'beachside bellends': trueskill.Rating(mu=25.000, sigma=8.333),\n",
       " 'chick park': trueskill.Rating(mu=25.000, sigma=8.333),\n",
       " 'como cunstables': trueskill.Rating(mu=25.000, sigma=8.333),\n",
       " 'coolbinia cruisers': trueskill.Rating(mu=25.000, sigma=8.333),\n",
       " 'dianella dirty street pies': trueskill.Rating(mu=25.000, sigma=8.333),\n",
       " 'fremantle cappuccino strippers': trueskill.Rating(mu=25.000, sigma=8.333),\n",
       " 'freopian tubes': trueskill.Rating(mu=25.000, sigma=8.333),\n",
       " 'freovaries': trueskill.Rating(mu=25.000, sigma=8.333),\n",
       " 'jolimont flying vs': trueskill.Rating(mu=25.000, sigma=8.333),\n",
       " 'joondnanna jerryhatricks': trueskill.Rating(mu=25.000, sigma=8.333),\n",
       " 'nedlands yung puccboiz': trueskill.Rating(mu=25.000, sigma=8.333),\n",
       " 'perth on heat': trueskill.Rating(mu=25.000, sigma=8.333)}"
      ]
     },
     "execution_count": 20,
     "metadata": {},
     "output_type": "execute_result"
    }
   ],
   "source": [
    "# Get the old ratings and the ratings for the new teams\n",
    "# Merge the two\n",
    "mergedratings = skill.copy()\n",
    "mergedratings.update(oldratings)\n",
    "mergedratings"
   ]
  },
  {
   "cell_type": "code",
   "execution_count": 21,
   "metadata": {
    "collapsed": false
   },
   "outputs": [
    {
     "data": {
      "text/plain": [
       "{'applecross dressers': trueskill.Rating(mu=21.785, sigma=2.956),\n",
       " 'beachside bellends': trueskill.Rating(mu=32.798, sigma=2.766),\n",
       " 'chick park': trueskill.Rating(mu=30.466, sigma=2.987),\n",
       " 'como cunstables': trueskill.Rating(mu=29.029, sigma=3.063),\n",
       " 'coolbinia cruisers': trueskill.Rating(mu=16.244, sigma=3.389),\n",
       " 'dianella dirty street pies': trueskill.Rating(mu=9.484, sigma=4.010),\n",
       " 'fremantle cappuccino strippers': trueskill.Rating(mu=26.050, sigma=2.833),\n",
       " 'freopian tubes': trueskill.Rating(mu=32.085, sigma=2.832),\n",
       " 'freovaries': trueskill.Rating(mu=18.209, sigma=3.408),\n",
       " 'jolimont flying vs': trueskill.Rating(mu=25.420, sigma=2.834),\n",
       " 'joondnanna jerryhatricks': trueskill.Rating(mu=27.852, sigma=2.717),\n",
       " 'nedlands yung puccboiz': trueskill.Rating(mu=24.154, sigma=2.824),\n",
       " 'perth on heat': trueskill.Rating(mu=28.694, sigma=3.107)}"
      ]
     },
     "execution_count": 21,
     "metadata": {},
     "output_type": "execute_result"
    }
   ],
   "source": [
    "# Update the ratings\n",
    "# Go through each row in winloss results, update the ratings of both teams\n",
    "# Rating(TeamWhoWon, TeamWhoLost, DidTheGameDraw)\n",
    "for i in range(0,len(winloss)):\n",
    "    mergedratings[winloss['Winteam'][i]],mergedratings[winloss['Lossteam'][i]] = rate_1vs1(mergedratings[winloss['Winteam'][i]],\n",
    "                                                                                      mergedratings[winloss['Lossteam'][i]],\n",
    "                                                                                      drawn=winloss['IsDraw'][i])\n",
    "\n",
    "mergedratings"
   ]
  },
  {
   "cell_type": "markdown",
   "metadata": {
    "collapsed": false
   },
   "source": []
  },
  {
   "cell_type": "code",
   "execution_count": 22,
   "metadata": {
    "collapsed": false
   },
   "outputs": [
    {
     "data": {
      "text/html": [
       "<div>\n",
       "<table border=\"1\" class=\"dataframe\">\n",
       "  <thead>\n",
       "    <tr style=\"text-align: right;\">\n",
       "      <th></th>\n",
       "      <th>Team</th>\n",
       "      <th>Rating</th>\n",
       "      <th>mu</th>\n",
       "      <th>sigma</th>\n",
       "    </tr>\n",
       "  </thead>\n",
       "  <tbody>\n",
       "    <tr>\n",
       "      <th>0</th>\n",
       "      <td>applecross dressers</td>\n",
       "      <td>trueskill.Rating(mu=21.785, sigma=2.956)</td>\n",
       "      <td>21.7847</td>\n",
       "      <td>2.95596</td>\n",
       "    </tr>\n",
       "    <tr>\n",
       "      <th>1</th>\n",
       "      <td>como cunstables</td>\n",
       "      <td>trueskill.Rating(mu=29.029, sigma=3.063)</td>\n",
       "      <td>29.0287</td>\n",
       "      <td>3.06347</td>\n",
       "    </tr>\n",
       "    <tr>\n",
       "      <th>2</th>\n",
       "      <td>fremantle cappuccino strippers</td>\n",
       "      <td>trueskill.Rating(mu=26.050, sigma=2.833)</td>\n",
       "      <td>26.0504</td>\n",
       "      <td>2.83291</td>\n",
       "    </tr>\n",
       "    <tr>\n",
       "      <th>3</th>\n",
       "      <td>freopian tubes</td>\n",
       "      <td>trueskill.Rating(mu=32.085, sigma=2.832)</td>\n",
       "      <td>32.0848</td>\n",
       "      <td>2.83181</td>\n",
       "    </tr>\n",
       "    <tr>\n",
       "      <th>4</th>\n",
       "      <td>jolimont flying vs</td>\n",
       "      <td>trueskill.Rating(mu=25.420, sigma=2.834)</td>\n",
       "      <td>25.4202</td>\n",
       "      <td>2.8336</td>\n",
       "    </tr>\n",
       "  </tbody>\n",
       "</table>\n",
       "</div>"
      ],
      "text/plain": [
       "                             Team                                    Rating  \\\n",
       "0             applecross dressers  trueskill.Rating(mu=21.785, sigma=2.956)   \n",
       "1                 como cunstables  trueskill.Rating(mu=29.029, sigma=3.063)   \n",
       "2  fremantle cappuccino strippers  trueskill.Rating(mu=26.050, sigma=2.833)   \n",
       "3                  freopian tubes  trueskill.Rating(mu=32.085, sigma=2.832)   \n",
       "4              jolimont flying vs  trueskill.Rating(mu=25.420, sigma=2.834)   \n",
       "\n",
       "        mu    sigma  \n",
       "0  21.7847  2.95596  \n",
       "1  29.0287  3.06347  \n",
       "2  26.0504  2.83291  \n",
       "3  32.0848  2.83181  \n",
       "4  25.4202   2.8336  "
      ]
     },
     "execution_count": 22,
     "metadata": {},
     "output_type": "execute_result"
    }
   ],
   "source": [
    "# Convert the new ratings from a dict to a dataframe\n",
    "# Make sure to extract mu and sigma values for each team for ease of importing the rating objects\n",
    "# Storing as a csv will turn the rating objects back in to text\n",
    "\n",
    "skill_df = DataFrame(mergedratings.items(),columns=['Team','Rating'])\n",
    "\n",
    "skill_df['mu'] = None\n",
    "skill_df['sigma'] = None\n",
    "for i in range(0,len(skill_df)):\n",
    "    skill_df['mu'][i]=skill_df['Rating'][i].mu\n",
    "    skill_df['sigma'][i]=skill_df['Rating'][i].sigma\n",
    "    #skill_df['Team'][i] = skill_df['Team'][i].lower()\n",
    "\n",
    "# Write the newskill results to wherever was specified\n",
    "skill_df.to_csv(newskill_csv)\n",
    "skill_df.head()"
   ]
  },
  {
   "cell_type": "code",
   "execution_count": 102,
   "metadata": {
    "collapsed": false
   },
   "outputs": [
    {
     "name": "stderr",
     "output_type": "stream",
     "text": [
      "C:\\Anaconda2\\lib\\site-packages\\ipykernel\\__main__.py:7: SettingWithCopyWarning: \n",
      "A value is trying to be set on a copy of a slice from a DataFrame\n",
      "\n",
      "See the caveats in the documentation: http://pandas.pydata.org/pandas-docs/stable/indexing.html#indexing-view-versus-copy\n"
     ]
    },
    {
     "data": {
      "text/html": [
       "<div>\n",
       "<table border=\"1\" class=\"dataframe\">\n",
       "  <thead>\n",
       "    <tr style=\"text-align: right;\">\n",
       "      <th></th>\n",
       "      <th>Unnamed: 0</th>\n",
       "      <th>Team</th>\n",
       "      <th>Rating</th>\n",
       "      <th>mu</th>\n",
       "      <th>sigma</th>\n",
       "    </tr>\n",
       "  </thead>\n",
       "  <tbody>\n",
       "    <tr>\n",
       "      <th>0</th>\n",
       "      <td>0</td>\n",
       "      <td>mosman park milkmen</td>\n",
       "      <td>trueskill.Rating(mu=25.650, sigma=8.333)</td>\n",
       "      <td>25.650328</td>\n",
       "      <td>8.333333</td>\n",
       "    </tr>\n",
       "    <tr>\n",
       "      <th>1</th>\n",
       "      <td>1</td>\n",
       "      <td>south perth major blazers</td>\n",
       "      <td>trueskill.Rating(mu=19.111, sigma=2.775)</td>\n",
       "      <td>19.111039</td>\n",
       "      <td>2.775426</td>\n",
       "    </tr>\n",
       "    <tr>\n",
       "      <th>2</th>\n",
       "      <td>2</td>\n",
       "      <td>gmla jurassic pucks</td>\n",
       "      <td>trueskill.Rating(mu=19.049, sigma=3.090)</td>\n",
       "      <td>19.048920</td>\n",
       "      <td>3.090409</td>\n",
       "    </tr>\n",
       "    <tr>\n",
       "      <th>3</th>\n",
       "      <td>3</td>\n",
       "      <td>creepy crawleys</td>\n",
       "      <td>trueskill.Rating(mu=23.973, sigma=8.333)</td>\n",
       "      <td>23.972845</td>\n",
       "      <td>8.333333</td>\n",
       "    </tr>\n",
       "    <tr>\n",
       "      <th>4</th>\n",
       "      <td>4</td>\n",
       "      <td>mt pleasant mounties</td>\n",
       "      <td>trueskill.Rating(mu=30.027, sigma=3.203)</td>\n",
       "      <td>30.026670</td>\n",
       "      <td>3.203453</td>\n",
       "    </tr>\n",
       "  </tbody>\n",
       "</table>\n",
       "</div>"
      ],
      "text/plain": [
       "   Unnamed: 0                       Team  \\\n",
       "0           0        mosman park milkmen   \n",
       "1           1  south perth major blazers   \n",
       "2           2        gmla jurassic pucks   \n",
       "3           3            creepy crawleys   \n",
       "4           4       mt pleasant mounties   \n",
       "\n",
       "                                     Rating         mu     sigma  \n",
       "0  trueskill.Rating(mu=25.650, sigma=8.333)  25.650328  8.333333  \n",
       "1  trueskill.Rating(mu=19.111, sigma=2.775)  19.111039  2.775426  \n",
       "2  trueskill.Rating(mu=19.049, sigma=3.090)  19.048920  3.090409  \n",
       "3  trueskill.Rating(mu=23.973, sigma=8.333)  23.972845  8.333333  \n",
       "4  trueskill.Rating(mu=30.027, sigma=3.203)  30.026670  3.203453  "
      ]
     },
     "execution_count": 102,
     "metadata": {},
     "output_type": "execute_result"
    }
   ],
   "source": [
    "# Use this to re init the ratings from text back in to rating objects\n",
    "# Doesn't necessarily need to run\n",
    "\n",
    "skill_df = pd.read_csv(newskill_csv)\n",
    "for i in range(0,len(skill_df)):\n",
    "               skill_df['Rating'][i] = Rating(mu=skill_df['mu'][i],\n",
    "                                                sigma=skill_df['sigma'][i])\n",
    "skill_df.head()"
   ]
  },
  {
   "cell_type": "code",
   "execution_count": 106,
   "metadata": {
    "collapsed": false
   },
   "outputs": [],
   "source": [
    "import winsound\n",
    "winsound.Beep(2000,500)"
   ]
  },
  {
   "cell_type": "code",
   "execution_count": null,
   "metadata": {
    "collapsed": false
   },
   "outputs": [],
   "source": []
  },
  {
   "cell_type": "code",
   "execution_count": null,
   "metadata": {
    "collapsed": false
   },
   "outputs": [],
   "source": []
  }
 ],
 "metadata": {
  "anaconda-cloud": {},
  "kernelspec": {
   "display_name": "Python [Root]",
   "language": "python",
   "name": "Python [Root]"
  },
  "language_info": {
   "codemirror_mode": {
    "name": "ipython",
    "version": 2
   },
   "file_extension": ".py",
   "mimetype": "text/x-python",
   "name": "python",
   "nbconvert_exporter": "python",
   "pygments_lexer": "ipython2",
   "version": "2.7.12"
  },
  "nav_menu": {},
  "notify_time": "5",
  "toc": {
   "navigate_menu": true,
   "number_sections": true,
   "sideBar": false,
   "threshold": 6,
   "toc_cell": false,
   "toc_section_display": "block",
   "toc_window_display": true
  },
  "toc_position": {
   "height": "855px",
   "left": "1463px",
   "right": "20px",
   "top": "247px",
   "width": "152px"
  }
 },
 "nbformat": 4,
 "nbformat_minor": 0
}
