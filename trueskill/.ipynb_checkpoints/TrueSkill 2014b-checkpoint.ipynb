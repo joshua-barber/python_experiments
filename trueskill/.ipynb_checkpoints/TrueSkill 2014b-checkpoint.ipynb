{
 "cells": [
  {
   "cell_type": "code",
   "execution_count": 1,
   "metadata": {
    "collapsed": true
   },
   "outputs": [],
   "source": [
    "import pandas as pd\n",
    "import numpy as np\n",
    "import trueskill\n",
    "\n",
    "from pandas import Series, DataFrame\n",
    "from trueskill import Rating, quality_1vs1, rate_1vs1\n",
    "# trueskill.Rating() creates a trueskill object"
   ]
  },
  {
   "cell_type": "code",
   "execution_count": 2,
   "metadata": {
    "collapsed": false
   },
   "outputs": [
    {
     "data": {
      "text/html": [
       "<div>\n",
       "<table border=\"1\" class=\"dataframe\">\n",
       "  <thead>\n",
       "    <tr style=\"text-align: right;\">\n",
       "      <th></th>\n",
       "      <th>Unnamed: 0</th>\n",
       "      <th>Unnamed: 0.1</th>\n",
       "      <th>Winteam</th>\n",
       "      <th>Lossteam</th>\n",
       "      <th>IsDraw</th>\n",
       "    </tr>\n",
       "  </thead>\n",
       "  <tbody>\n",
       "    <tr>\n",
       "      <th>0</th>\n",
       "      <td>0</td>\n",
       "      <td>0</td>\n",
       "      <td>Shenton Park Speed Dealers</td>\n",
       "      <td>Karrakatta Grim Jobs</td>\n",
       "      <td>False</td>\n",
       "    </tr>\n",
       "    <tr>\n",
       "      <th>1</th>\n",
       "      <td>1</td>\n",
       "      <td>1</td>\n",
       "      <td>Floreat Flamingos</td>\n",
       "      <td>Karrinyup Bandits</td>\n",
       "      <td>False</td>\n",
       "    </tr>\n",
       "    <tr>\n",
       "      <th>2</th>\n",
       "      <td>2</td>\n",
       "      <td>2</td>\n",
       "      <td>GMLA Guardians</td>\n",
       "      <td>GMLA Angels</td>\n",
       "      <td>False</td>\n",
       "    </tr>\n",
       "    <tr>\n",
       "      <th>3</th>\n",
       "      <td>3</td>\n",
       "      <td>3</td>\n",
       "      <td>South Perth Puckaneers</td>\n",
       "      <td>Bicton Bath Salts</td>\n",
       "      <td>False</td>\n",
       "    </tr>\n",
       "    <tr>\n",
       "      <th>4</th>\n",
       "      <td>4</td>\n",
       "      <td>4</td>\n",
       "      <td>Bicton Banter Lords</td>\n",
       "      <td>Melville Massiv</td>\n",
       "      <td>False</td>\n",
       "    </tr>\n",
       "  </tbody>\n",
       "</table>\n",
       "</div>"
      ],
      "text/plain": [
       "   Unnamed: 0  Unnamed: 0.1                     Winteam              Lossteam  \\\n",
       "0           0             0  Shenton Park Speed Dealers  Karrakatta Grim Jobs   \n",
       "1           1             1           Floreat Flamingos     Karrinyup Bandits   \n",
       "2           2             2              GMLA Guardians           GMLA Angels   \n",
       "3           3             3      South Perth Puckaneers     Bicton Bath Salts   \n",
       "4           4             4         Bicton Banter Lords       Melville Massiv   \n",
       "\n",
       "  IsDraw  \n",
       "0  False  \n",
       "1  False  \n",
       "2  False  \n",
       "3  False  \n",
       "4  False  "
      ]
     },
     "execution_count": 2,
     "metadata": {},
     "output_type": "execute_result"
    }
   ],
   "source": [
    "winloss_2014b = pd.read_csv('winloss_2014b.csv')\n",
    "winloss_2014b.head()"
   ]
  },
  {
   "cell_type": "code",
   "execution_count": 3,
   "metadata": {
    "collapsed": false
   },
   "outputs": [
    {
     "name": "stdout",
     "output_type": "stream",
     "text": [
      "0    Shenton Park Speed Dealers\n",
      "1             Floreat Flamingos\n",
      "2                GMLA Guardians\n",
      "3        South Perth Puckaneers\n",
      "4           Bicton Banter Lords\n",
      "dtype: object\n",
      "43 teams\n"
     ]
    }
   ],
   "source": [
    "winteams = Series(winloss_2014b['Winteam'].unique())\n",
    "lossteams = Series(winloss_2014b['Lossteam'].unique())\n",
    "teams = winteams\n",
    "teams = teams.append(lossteams)\n",
    "teams = Series(teams.unique())\n",
    "print(teams.head())\n",
    "print len(teams), \"teams\""
   ]
  },
  {
   "cell_type": "code",
   "execution_count": 4,
   "metadata": {
    "collapsed": false
   },
   "outputs": [
    {
     "data": {
      "text/plain": [
       "{'Bicton Banter Lords': trueskill.Rating(mu=25.000, sigma=8.333),\n",
       " 'Bicton Bath Salts': trueskill.Rating(mu=25.000, sigma=8.333),\n",
       " 'Brentwood Bushchooks': trueskill.Rating(mu=25.000, sigma=8.333),\n",
       " 'Churchlands Hellraisers': trueskill.Rating(mu=25.000, sigma=8.333),\n",
       " 'Claremont Cereal Killahs': trueskill.Rating(mu=25.000, sigma=8.333),\n",
       " 'Como Mo Co': trueskill.Rating(mu=25.000, sigma=8.333),\n",
       " 'Cottesloe Clam Hunters': trueskill.Rating(mu=25.000, sigma=8.333),\n",
       " 'Creepy Crawleys': trueskill.Rating(mu=25.000, sigma=8.333),\n",
       " 'Dianella Demons': trueskill.Rating(mu=25.000, sigma=8.333),\n",
       " 'Dog Swamp Swamp Dogs': trueskill.Rating(mu=25.000, sigma=8.333),\n",
       " 'Doubleview Double Yewws': trueskill.Rating(mu=25.000, sigma=8.333),\n",
       " 'Floreat Flamingos': trueskill.Rating(mu=25.000, sigma=8.333),\n",
       " 'Freo Fussy Puckers': trueskill.Rating(mu=25.000, sigma=8.333),\n",
       " 'GMLA Angels': trueskill.Rating(mu=25.000, sigma=8.333),\n",
       " 'GMLA Guardians': trueskill.Rating(mu=25.000, sigma=8.333),\n",
       " 'GMLA Jurassic Pucks': trueskill.Rating(mu=25.000, sigma=8.333),\n",
       " 'Gravel Road GrindRs': trueskill.Rating(mu=25.000, sigma=8.333),\n",
       " 'Greenmount Doom': trueskill.Rating(mu=25.000, sigma=8.333),\n",
       " 'Hillarys Humpbacks': trueskill.Rating(mu=25.000, sigma=8.333),\n",
       " 'Hungry Spot Heroes': trueskill.Rating(mu=25.000, sigma=8.333),\n",
       " 'Inglewood Coldcuts': trueskill.Rating(mu=25.000, sigma=8.333),\n",
       " 'Innaloo Pinguz': trueskill.Rating(mu=25.000, sigma=8.333),\n",
       " 'Innaloominati': trueskill.Rating(mu=25.000, sigma=8.333),\n",
       " 'Karrakatta Grim Jobs': trueskill.Rating(mu=25.000, sigma=8.333),\n",
       " 'Karrinyup Bandits': trueskill.Rating(mu=25.000, sigma=8.333),\n",
       " 'Kensington Kermits': trueskill.Rating(mu=25.000, sigma=8.333),\n",
       " 'Maylands Muthapuckas': trueskill.Rating(mu=25.000, sigma=8.333),\n",
       " 'Melville Massiv': trueskill.Rating(mu=25.000, sigma=8.333),\n",
       " 'Mindarie Molotovs': trueskill.Rating(mu=25.000, sigma=8.333),\n",
       " 'Mosman Park Milkmen': trueskill.Rating(mu=25.000, sigma=8.333),\n",
       " 'Mt Pleasant Mounties': trueskill.Rating(mu=25.000, sigma=8.333),\n",
       " 'Mullaloozers': trueskill.Rating(mu=25.000, sigma=8.333),\n",
       " 'North Perth Bald Beavers': trueskill.Rating(mu=25.000, sigma=8.333),\n",
       " 'Ocean Beef': trueskill.Rating(mu=25.000, sigma=8.333),\n",
       " 'Parkwood Benders': trueskill.Rating(mu=25.000, sigma=8.333),\n",
       " 'Perth Glory-Holerz': trueskill.Rating(mu=25.000, sigma=8.333),\n",
       " 'Scarbra Streisands': trueskill.Rating(mu=25.000, sigma=8.333),\n",
       " 'Shenton Park Speed Dealers': trueskill.Rating(mu=25.000, sigma=8.333),\n",
       " 'South Perth Puckaneers': trueskill.Rating(mu=25.000, sigma=8.333),\n",
       " 'Subiaco Silkworms': trueskill.Rating(mu=25.000, sigma=8.333),\n",
       " 'West Leederville Wobbegongs': trueskill.Rating(mu=25.000, sigma=8.333),\n",
       " 'Whitfords City Wristies': trueskill.Rating(mu=25.000, sigma=8.333),\n",
       " 'Willo Wonkas': trueskill.Rating(mu=25.000, sigma=8.333)}"
      ]
     },
     "execution_count": 4,
     "metadata": {},
     "output_type": "execute_result"
    }
   ],
   "source": [
    "skill = {name:Rating() for name in teams}\n",
    "skill"
   ]
  },
  {
   "cell_type": "code",
   "execution_count": 44,
   "metadata": {
    "collapsed": false
   },
   "outputs": [],
   "source": [
    "#skill[\"Shenton Park Speed Dealers\"], skill[\"Karrakatta Grim Jobs\"] = rate_1vs1(skill[\"Shenton Park Speed Dealers\"], skill[\"Karrakatta Grim Jobs\"])"
   ]
  },
  {
   "cell_type": "code",
   "execution_count": null,
   "metadata": {
    "collapsed": false
   },
   "outputs": [],
   "source": []
  },
  {
   "cell_type": "code",
   "execution_count": 5,
   "metadata": {
    "collapsed": false
   },
   "outputs": [
    {
     "data": {
      "text/plain": [
       "'Shenton Park Speed Dealers'"
      ]
     },
     "execution_count": 5,
     "metadata": {},
     "output_type": "execute_result"
    }
   ],
   "source": [
    "winloss_2014b['Winteam'][0]"
   ]
  },
  {
   "cell_type": "code",
   "execution_count": 6,
   "metadata": {
    "collapsed": false
   },
   "outputs": [
    {
     "data": {
      "text/latex": [
       "$\\mathcal{ N }( 25.000, 8.333^2 )$"
      ],
      "text/plain": [
       "trueskill.Rating(mu=25.000, sigma=8.333)"
      ]
     },
     "execution_count": 6,
     "metadata": {},
     "output_type": "execute_result"
    }
   ],
   "source": [
    "skill[winloss_2014b['Winteam'][0]]"
   ]
  },
  {
   "cell_type": "code",
   "execution_count": 7,
   "metadata": {
    "collapsed": false
   },
   "outputs": [],
   "source": [
    "for i in range(0,len(winloss_2014b)):\n",
    "    skill[winloss_2014b['Winteam'][i]],skill[winloss_2014b['Lossteam'][i]] = rate_1vs1(skill[winloss_2014b['Winteam'][i]],\n",
    "                                                                                      skill[winloss_2014b['Lossteam'][i]],\n",
    "                                                                                      drawn=winloss_2014b['IsDraw'][i])"
   ]
  },
  {
   "cell_type": "code",
   "execution_count": 8,
   "metadata": {
    "collapsed": false
   },
   "outputs": [
    {
     "data": {
      "text/plain": [
       "{'Bicton Banter Lords': trueskill.Rating(mu=29.349, sigma=3.545),\n",
       " 'Bicton Bath Salts': trueskill.Rating(mu=26.548, sigma=3.152),\n",
       " 'Brentwood Bushchooks': trueskill.Rating(mu=40.001, sigma=4.362),\n",
       " 'Churchlands Hellraisers': trueskill.Rating(mu=26.983, sigma=3.160),\n",
       " 'Claremont Cereal Killahs': trueskill.Rating(mu=21.929, sigma=3.260),\n",
       " 'Como Mo Co': trueskill.Rating(mu=30.845, sigma=3.474),\n",
       " 'Cottesloe Clam Hunters': trueskill.Rating(mu=32.010, sigma=3.351),\n",
       " 'Creepy Crawleys': trueskill.Rating(mu=25.125, sigma=3.465),\n",
       " 'Dianella Demons': trueskill.Rating(mu=25.697, sigma=3.556),\n",
       " 'Dog Swamp Swamp Dogs': trueskill.Rating(mu=26.846, sigma=3.708),\n",
       " 'Doubleview Double Yewws': trueskill.Rating(mu=30.858, sigma=3.740),\n",
       " 'Floreat Flamingos': trueskill.Rating(mu=20.390, sigma=3.397),\n",
       " 'Freo Fussy Puckers': trueskill.Rating(mu=16.085, sigma=3.485),\n",
       " 'GMLA Angels': trueskill.Rating(mu=25.006, sigma=3.888),\n",
       " 'GMLA Guardians': trueskill.Rating(mu=34.383, sigma=3.797),\n",
       " 'GMLA Jurassic Pucks': trueskill.Rating(mu=13.342, sigma=3.740),\n",
       " 'Gravel Road GrindRs': trueskill.Rating(mu=18.198, sigma=3.329),\n",
       " 'Greenmount Doom': trueskill.Rating(mu=33.752, sigma=3.518),\n",
       " 'Hillarys Humpbacks': trueskill.Rating(mu=22.360, sigma=3.446),\n",
       " 'Hungry Spot Heroes': trueskill.Rating(mu=22.985, sigma=3.286),\n",
       " 'Inglewood Coldcuts': trueskill.Rating(mu=15.310, sigma=3.303),\n",
       " 'Innaloo Pinguz': trueskill.Rating(mu=20.003, sigma=4.917),\n",
       " 'Innaloominati': trueskill.Rating(mu=20.492, sigma=3.547),\n",
       " 'Karrakatta Grim Jobs': trueskill.Rating(mu=27.055, sigma=3.275),\n",
       " 'Karrinyup Bandits': trueskill.Rating(mu=29.301, sigma=3.073),\n",
       " 'Kensington Kermits': trueskill.Rating(mu=20.678, sigma=3.280),\n",
       " 'Maylands Muthapuckas': trueskill.Rating(mu=22.997, sigma=3.025),\n",
       " 'Melville Massiv': trueskill.Rating(mu=23.481, sigma=3.488),\n",
       " 'Mindarie Molotovs': trueskill.Rating(mu=32.023, sigma=3.923),\n",
       " 'Mosman Park Milkmen': trueskill.Rating(mu=25.650, sigma=3.863),\n",
       " 'Mt Pleasant Mounties': trueskill.Rating(mu=31.615, sigma=3.457),\n",
       " 'Mullaloozers': trueskill.Rating(mu=25.307, sigma=3.030),\n",
       " 'North Perth Bald Beavers': trueskill.Rating(mu=19.488, sigma=3.177),\n",
       " 'Ocean Beef': trueskill.Rating(mu=22.951, sigma=3.266),\n",
       " 'Parkwood Benders': trueskill.Rating(mu=25.659, sigma=3.724),\n",
       " 'Perth Glory-Holerz': trueskill.Rating(mu=18.270, sigma=3.834),\n",
       " 'Scarbra Streisands': trueskill.Rating(mu=31.195, sigma=3.540),\n",
       " 'Shenton Park Speed Dealers': trueskill.Rating(mu=27.469, sigma=3.569),\n",
       " 'South Perth Puckaneers': trueskill.Rating(mu=22.996, sigma=3.285),\n",
       " 'Subiaco Silkworms': trueskill.Rating(mu=25.607, sigma=3.271),\n",
       " 'West Leederville Wobbegongs': trueskill.Rating(mu=26.873, sigma=3.605),\n",
       " 'Whitfords City Wristies': trueskill.Rating(mu=22.211, sigma=3.363),\n",
       " 'Willo Wonkas': trueskill.Rating(mu=23.397, sigma=3.215)}"
      ]
     },
     "execution_count": 8,
     "metadata": {},
     "output_type": "execute_result"
    }
   ],
   "source": [
    "skill"
   ]
  },
  {
   "cell_type": "code",
   "execution_count": 9,
   "metadata": {
    "collapsed": false
   },
   "outputs": [
    {
     "data": {
      "text/html": [
       "<div>\n",
       "<table border=\"1\" class=\"dataframe\">\n",
       "  <thead>\n",
       "    <tr style=\"text-align: right;\">\n",
       "      <th></th>\n",
       "      <th>Team</th>\n",
       "      <th>Rating</th>\n",
       "    </tr>\n",
       "  </thead>\n",
       "  <tbody>\n",
       "    <tr>\n",
       "      <th>0</th>\n",
       "      <td>Whitfords City Wristies</td>\n",
       "      <td>trueskill.Rating(mu=22.211, sigma=3.363)</td>\n",
       "    </tr>\n",
       "    <tr>\n",
       "      <th>1</th>\n",
       "      <td>Greenmount Doom</td>\n",
       "      <td>trueskill.Rating(mu=33.752, sigma=3.518)</td>\n",
       "    </tr>\n",
       "    <tr>\n",
       "      <th>2</th>\n",
       "      <td>Innaloo Pinguz</td>\n",
       "      <td>trueskill.Rating(mu=20.003, sigma=4.917)</td>\n",
       "    </tr>\n",
       "    <tr>\n",
       "      <th>3</th>\n",
       "      <td>Mosman Park Milkmen</td>\n",
       "      <td>trueskill.Rating(mu=25.650, sigma=3.863)</td>\n",
       "    </tr>\n",
       "    <tr>\n",
       "      <th>4</th>\n",
       "      <td>Mullaloozers</td>\n",
       "      <td>trueskill.Rating(mu=25.307, sigma=3.030)</td>\n",
       "    </tr>\n",
       "  </tbody>\n",
       "</table>\n",
       "</div>"
      ],
      "text/plain": [
       "                      Team                                    Rating\n",
       "0  Whitfords City Wristies  trueskill.Rating(mu=22.211, sigma=3.363)\n",
       "1          Greenmount Doom  trueskill.Rating(mu=33.752, sigma=3.518)\n",
       "2           Innaloo Pinguz  trueskill.Rating(mu=20.003, sigma=4.917)\n",
       "3      Mosman Park Milkmen  trueskill.Rating(mu=25.650, sigma=3.863)\n",
       "4             Mullaloozers  trueskill.Rating(mu=25.307, sigma=3.030)"
      ]
     },
     "execution_count": 9,
     "metadata": {},
     "output_type": "execute_result"
    }
   ],
   "source": [
    "skill_df = DataFrame(skill.items(),columns=['Team','Rating'])\n",
    "skill_df.head()"
   ]
  },
  {
   "cell_type": "code",
   "execution_count": 10,
   "metadata": {
    "collapsed": false
   },
   "outputs": [
    {
     "data": {
      "text/plain": [
       "23.198185578226298"
      ]
     },
     "execution_count": 10,
     "metadata": {},
     "output_type": "execute_result"
    }
   ],
   "source": [
    "trueskill.expose(skill_df[\"Rating\"][1])"
   ]
  },
  {
   "cell_type": "code",
   "execution_count": 11,
   "metadata": {
    "collapsed": false
   },
   "outputs": [
    {
     "data": {
      "text/html": [
       "<div>\n",
       "<table border=\"1\" class=\"dataframe\">\n",
       "  <thead>\n",
       "    <tr style=\"text-align: right;\">\n",
       "      <th></th>\n",
       "      <th>Team</th>\n",
       "      <th>Rating</th>\n",
       "      <th>Estimated Rating</th>\n",
       "    </tr>\n",
       "  </thead>\n",
       "  <tbody>\n",
       "    <tr>\n",
       "      <th>0</th>\n",
       "      <td>Whitfords City Wristies</td>\n",
       "      <td>trueskill.Rating(mu=22.211, sigma=3.363)</td>\n",
       "      <td>12.1217</td>\n",
       "    </tr>\n",
       "    <tr>\n",
       "      <th>1</th>\n",
       "      <td>Greenmount Doom</td>\n",
       "      <td>trueskill.Rating(mu=33.752, sigma=3.518)</td>\n",
       "      <td>23.1982</td>\n",
       "    </tr>\n",
       "    <tr>\n",
       "      <th>2</th>\n",
       "      <td>Innaloo Pinguz</td>\n",
       "      <td>trueskill.Rating(mu=20.003, sigma=4.917)</td>\n",
       "      <td>5.25262</td>\n",
       "    </tr>\n",
       "    <tr>\n",
       "      <th>3</th>\n",
       "      <td>Mosman Park Milkmen</td>\n",
       "      <td>trueskill.Rating(mu=25.650, sigma=3.863)</td>\n",
       "      <td>14.0619</td>\n",
       "    </tr>\n",
       "    <tr>\n",
       "      <th>4</th>\n",
       "      <td>Mullaloozers</td>\n",
       "      <td>trueskill.Rating(mu=25.307, sigma=3.030)</td>\n",
       "      <td>16.2159</td>\n",
       "    </tr>\n",
       "  </tbody>\n",
       "</table>\n",
       "</div>"
      ],
      "text/plain": [
       "                      Team                                    Rating  \\\n",
       "0  Whitfords City Wristies  trueskill.Rating(mu=22.211, sigma=3.363)   \n",
       "1          Greenmount Doom  trueskill.Rating(mu=33.752, sigma=3.518)   \n",
       "2           Innaloo Pinguz  trueskill.Rating(mu=20.003, sigma=4.917)   \n",
       "3      Mosman Park Milkmen  trueskill.Rating(mu=25.650, sigma=3.863)   \n",
       "4             Mullaloozers  trueskill.Rating(mu=25.307, sigma=3.030)   \n",
       "\n",
       "  Estimated Rating  \n",
       "0          12.1217  \n",
       "1          23.1982  \n",
       "2          5.25262  \n",
       "3          14.0619  \n",
       "4          16.2159  "
      ]
     },
     "execution_count": 11,
     "metadata": {},
     "output_type": "execute_result"
    }
   ],
   "source": [
    "skill_df['Estimated Rating'] = None\n",
    "for i in range(0,len(skill_df)):\n",
    "    skill_df['Estimated Rating'][i]=trueskill.expose(skill_df['Rating'][i])\n",
    "    \n",
    "skill_df.head()"
   ]
  },
  {
   "cell_type": "code",
   "execution_count": 12,
   "metadata": {
    "collapsed": true
   },
   "outputs": [],
   "source": [
    "skill_df.to_csv('skill ratings 2014b.csv')\n"
   ]
  },
  {
   "cell_type": "code",
   "execution_count": 18,
   "metadata": {
    "collapsed": false
   },
   "outputs": [
    {
     "data": {
      "text/html": [
       "<div>\n",
       "<table border=\"1\" class=\"dataframe\">\n",
       "  <thead>\n",
       "    <tr style=\"text-align: right;\">\n",
       "      <th></th>\n",
       "      <th>Team</th>\n",
       "      <th>Rating</th>\n",
       "      <th>Estimated Rating</th>\n",
       "    </tr>\n",
       "  </thead>\n",
       "  <tbody>\n",
       "    <tr>\n",
       "      <th>0</th>\n",
       "      <td>Whitfords City Wristies</td>\n",
       "      <td>trueskill.Rating(mu=22.211, sigma=3.363)</td>\n",
       "      <td>12.1217</td>\n",
       "    </tr>\n",
       "    <tr>\n",
       "      <th>1</th>\n",
       "      <td>Greenmount Doom</td>\n",
       "      <td>trueskill.Rating(mu=33.752, sigma=3.518)</td>\n",
       "      <td>23.1982</td>\n",
       "    </tr>\n",
       "    <tr>\n",
       "      <th>2</th>\n",
       "      <td>Innaloo Pinguz</td>\n",
       "      <td>trueskill.Rating(mu=20.003, sigma=4.917)</td>\n",
       "      <td>5.25262</td>\n",
       "    </tr>\n",
       "    <tr>\n",
       "      <th>3</th>\n",
       "      <td>Mosman Park Milkmen</td>\n",
       "      <td>trueskill.Rating(mu=25.650, sigma=3.863)</td>\n",
       "      <td>14.0619</td>\n",
       "    </tr>\n",
       "    <tr>\n",
       "      <th>4</th>\n",
       "      <td>Mullaloozers</td>\n",
       "      <td>trueskill.Rating(mu=25.307, sigma=3.030)</td>\n",
       "      <td>16.2159</td>\n",
       "    </tr>\n",
       "  </tbody>\n",
       "</table>\n",
       "</div>"
      ],
      "text/plain": [
       "                      Team                                    Rating  \\\n",
       "0  Whitfords City Wristies  trueskill.Rating(mu=22.211, sigma=3.363)   \n",
       "1          Greenmount Doom  trueskill.Rating(mu=33.752, sigma=3.518)   \n",
       "2           Innaloo Pinguz  trueskill.Rating(mu=20.003, sigma=4.917)   \n",
       "3      Mosman Park Milkmen  trueskill.Rating(mu=25.650, sigma=3.863)   \n",
       "4             Mullaloozers  trueskill.Rating(mu=25.307, sigma=3.030)   \n",
       "\n",
       "  Estimated Rating  \n",
       "0          12.1217  \n",
       "1          23.1982  \n",
       "2          5.25262  \n",
       "3          14.0619  \n",
       "4          16.2159  "
      ]
     },
     "execution_count": 18,
     "metadata": {},
     "output_type": "execute_result"
    }
   ],
   "source": [
    "#skill_df = pd.read_csv('skill ratings 2014b.csv')\n",
    "skill_df.head()"
   ]
  },
  {
   "cell_type": "code",
   "execution_count": 24,
   "metadata": {
    "collapsed": false
   },
   "outputs": [
    {
     "data": {
      "text/plain": [
       "3.3630997638106597"
      ]
     },
     "execution_count": 24,
     "metadata": {},
     "output_type": "execute_result"
    }
   ],
   "source": [
    "skill_df['Rating'][0].sigma"
   ]
  },
  {
   "cell_type": "code",
   "execution_count": 27,
   "metadata": {
    "collapsed": false
   },
   "outputs": [
    {
     "data": {
      "text/html": [
       "<div>\n",
       "<table border=\"1\" class=\"dataframe\">\n",
       "  <thead>\n",
       "    <tr style=\"text-align: right;\">\n",
       "      <th></th>\n",
       "      <th>Team</th>\n",
       "      <th>Rating</th>\n",
       "      <th>Estimated Rating</th>\n",
       "      <th>mu</th>\n",
       "      <th>sigma</th>\n",
       "    </tr>\n",
       "  </thead>\n",
       "  <tbody>\n",
       "    <tr>\n",
       "      <th>0</th>\n",
       "      <td>whitfords city wristies</td>\n",
       "      <td>trueskill.Rating(mu=22.211, sigma=3.363)</td>\n",
       "      <td>12.1217</td>\n",
       "      <td>22.211</td>\n",
       "      <td>3.3631</td>\n",
       "    </tr>\n",
       "    <tr>\n",
       "      <th>1</th>\n",
       "      <td>greenmount doom</td>\n",
       "      <td>trueskill.Rating(mu=33.752, sigma=3.518)</td>\n",
       "      <td>23.1982</td>\n",
       "      <td>33.7522</td>\n",
       "      <td>3.518</td>\n",
       "    </tr>\n",
       "    <tr>\n",
       "      <th>2</th>\n",
       "      <td>innaloo pinguz</td>\n",
       "      <td>trueskill.Rating(mu=20.003, sigma=4.917)</td>\n",
       "      <td>5.25262</td>\n",
       "      <td>20.0028</td>\n",
       "      <td>4.91672</td>\n",
       "    </tr>\n",
       "    <tr>\n",
       "      <th>3</th>\n",
       "      <td>mosman park milkmen</td>\n",
       "      <td>trueskill.Rating(mu=25.650, sigma=3.863)</td>\n",
       "      <td>14.0619</td>\n",
       "      <td>25.6503</td>\n",
       "      <td>3.86281</td>\n",
       "    </tr>\n",
       "    <tr>\n",
       "      <th>4</th>\n",
       "      <td>mullaloozers</td>\n",
       "      <td>trueskill.Rating(mu=25.307, sigma=3.030)</td>\n",
       "      <td>16.2159</td>\n",
       "      <td>25.3068</td>\n",
       "      <td>3.03028</td>\n",
       "    </tr>\n",
       "  </tbody>\n",
       "</table>\n",
       "</div>"
      ],
      "text/plain": [
       "                      Team                                    Rating  \\\n",
       "0  whitfords city wristies  trueskill.Rating(mu=22.211, sigma=3.363)   \n",
       "1          greenmount doom  trueskill.Rating(mu=33.752, sigma=3.518)   \n",
       "2           innaloo pinguz  trueskill.Rating(mu=20.003, sigma=4.917)   \n",
       "3      mosman park milkmen  trueskill.Rating(mu=25.650, sigma=3.863)   \n",
       "4             mullaloozers  trueskill.Rating(mu=25.307, sigma=3.030)   \n",
       "\n",
       "  Estimated Rating       mu    sigma  \n",
       "0          12.1217   22.211   3.3631  \n",
       "1          23.1982  33.7522    3.518  \n",
       "2          5.25262  20.0028  4.91672  \n",
       "3          14.0619  25.6503  3.86281  \n",
       "4          16.2159  25.3068  3.03028  "
      ]
     },
     "execution_count": 27,
     "metadata": {},
     "output_type": "execute_result"
    }
   ],
   "source": [
    "skill_df['mu'] = None\n",
    "skill_df['sigma'] = None\n",
    "for i in range(0,len(skill_df)):\n",
    "    skill_df['mu'][i]=skill_df['Rating'][i].mu\n",
    "    skill_df['sigma'][i]=skill_df['Rating'][i].sigma\n",
    "    skill_df['Team'][i] = skill_df['Team'][i].lower()\n",
    "\n",
    "\n",
    "skill_df.to_csv('skill ratings 2014b.csv')\n",
    "skill_df.head()"
   ]
  },
  {
   "cell_type": "code",
   "execution_count": null,
   "metadata": {
    "collapsed": false
   },
   "outputs": [],
   "source": []
  }
 ],
 "metadata": {
  "kernelspec": {
   "display_name": "Python 2",
   "language": "python",
   "name": "python2"
  },
  "language_info": {
   "codemirror_mode": {
    "name": "ipython",
    "version": 2
   },
   "file_extension": ".py",
   "mimetype": "text/x-python",
   "name": "python",
   "nbconvert_exporter": "python",
   "pygments_lexer": "ipython2",
   "version": "2.7.11"
  }
 },
 "nbformat": 4,
 "nbformat_minor": 0
}
