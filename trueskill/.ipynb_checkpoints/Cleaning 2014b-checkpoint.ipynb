{
 "cells": [
  {
   "cell_type": "code",
   "execution_count": 1,
   "metadata": {
    "collapsed": true
   },
   "outputs": [],
   "source": [
    "import pandas as pd\n",
    "from pandas import DataFrame, Series\n",
    "import numpy as np"
   ]
  },
  {
   "cell_type": "code",
   "execution_count": 2,
   "metadata": {
    "collapsed": true
   },
   "outputs": [],
   "source": [
    "results_2014b = pd.read_csv('2014b_results.csv')"
   ]
  },
  {
   "cell_type": "code",
   "execution_count": 3,
   "metadata": {
    "collapsed": false
   },
   "outputs": [
    {
     "data": {
      "text/html": [
       "<div>\n",
       "<table border=\"1\" class=\"dataframe\">\n",
       "  <thead>\n",
       "    <tr style=\"text-align: right;\">\n",
       "      <th></th>\n",
       "      <th>HOME</th>\n",
       "      <th>SCORE</th>\n",
       "      <th>OTL_HOME</th>\n",
       "      <th>OTL_AWAY</th>\n",
       "      <th>SCORE.1</th>\n",
       "      <th>AWAY</th>\n",
       "    </tr>\n",
       "  </thead>\n",
       "  <tbody>\n",
       "    <tr>\n",
       "      <th>0</th>\n",
       "      <td>Shenton Park Speed Dealers</td>\n",
       "      <td>13</td>\n",
       "      <td>NaN</td>\n",
       "      <td>NaN</td>\n",
       "      <td>11</td>\n",
       "      <td>Karrakatta Grim Jobs</td>\n",
       "    </tr>\n",
       "    <tr>\n",
       "      <th>1</th>\n",
       "      <td>Floreat Flamingos</td>\n",
       "      <td>12</td>\n",
       "      <td>NaN</td>\n",
       "      <td>NaN</td>\n",
       "      <td>10</td>\n",
       "      <td>Karrinyup Bandits</td>\n",
       "    </tr>\n",
       "    <tr>\n",
       "      <th>2</th>\n",
       "      <td>West Leederville Wobbegongs</td>\n",
       "      <td>NaN</td>\n",
       "      <td>NaN</td>\n",
       "      <td>NaN</td>\n",
       "      <td>NaN</td>\n",
       "      <td>Doubleview Double Yewws</td>\n",
       "    </tr>\n",
       "    <tr>\n",
       "      <th>3</th>\n",
       "      <td>GMLA Guardians</td>\n",
       "      <td>12</td>\n",
       "      <td>NaN</td>\n",
       "      <td>NaN</td>\n",
       "      <td>7</td>\n",
       "      <td>GMLA Angels</td>\n",
       "    </tr>\n",
       "    <tr>\n",
       "      <th>4</th>\n",
       "      <td>South Perth Puckaneers</td>\n",
       "      <td>12</td>\n",
       "      <td>NaN</td>\n",
       "      <td>NaN</td>\n",
       "      <td>8</td>\n",
       "      <td>Bicton Bath Salts</td>\n",
       "    </tr>\n",
       "  </tbody>\n",
       "</table>\n",
       "</div>"
      ],
      "text/plain": [
       "                          HOME  SCORE OTL_HOME OTL_AWAY  SCORE.1  \\\n",
       "0   Shenton Park Speed Dealers     13      NaN      NaN       11   \n",
       "1            Floreat Flamingos     12      NaN      NaN       10   \n",
       "2  West Leederville Wobbegongs    NaN      NaN      NaN      NaN   \n",
       "3               GMLA Guardians     12      NaN      NaN        7   \n",
       "4       South Perth Puckaneers     12      NaN      NaN        8   \n",
       "\n",
       "                      AWAY  \n",
       "0     Karrakatta Grim Jobs  \n",
       "1        Karrinyup Bandits  \n",
       "2  Doubleview Double Yewws  \n",
       "3              GMLA Angels  \n",
       "4        Bicton Bath Salts  "
      ]
     },
     "execution_count": 3,
     "metadata": {},
     "output_type": "execute_result"
    }
   ],
   "source": [
    "results_2014b.head()"
   ]
  },
  {
   "cell_type": "code",
   "execution_count": 11,
   "metadata": {
    "collapsed": false
   },
   "outputs": [],
   "source": [
    "results_2014b=results_2014b.fillna(0);\n",
    "results_2014b['OT']= np.NaN"
   ]
  },
  {
   "cell_type": "code",
   "execution_count": 12,
   "metadata": {
    "collapsed": false
   },
   "outputs": [
    {
     "name": "stderr",
     "output_type": "stream",
     "text": [
      "C:\\Anaconda2\\lib\\site-packages\\ipykernel\\__main__.py:4: SettingWithCopyWarning: \n",
      "A value is trying to be set on a copy of a slice from a DataFrame\n",
      "\n",
      "See the caveats in the documentation: http://pandas.pydata.org/pandas-docs/stable/indexing.html#indexing-view-versus-copy\n",
      "C:\\Anaconda2\\lib\\site-packages\\ipykernel\\__main__.py:6: SettingWithCopyWarning: \n",
      "A value is trying to be set on a copy of a slice from a DataFrame\n",
      "\n",
      "See the caveats in the documentation: http://pandas.pydata.org/pandas-docs/stable/indexing.html#indexing-view-versus-copy\n"
     ]
    }
   ],
   "source": [
    "# Make a column, flagging the game as in OT if either OTL is true\n",
    "for i in range(0,len(results_2014b)):\n",
    "    if (results_2014b['OTL_HOME'][i] == 0 and results_2014b['OTL_AWAY'][i] == 0):\n",
    "        results_2014b['OT'][i] = False\n",
    "    else:\n",
    "        results_2014b['OT'][i] = True"
   ]
  },
  {
   "cell_type": "code",
   "execution_count": 13,
   "metadata": {
    "collapsed": false
   },
   "outputs": [
    {
     "data": {
      "text/plain": [
       "0"
      ]
     },
     "execution_count": 13,
     "metadata": {},
     "output_type": "execute_result"
    }
   ],
   "source": [
    "results_2014b['OTL_HOME'][1]"
   ]
  },
  {
   "cell_type": "code",
   "execution_count": 14,
   "metadata": {
    "collapsed": true
   },
   "outputs": [],
   "source": [
    "i=1"
   ]
  },
  {
   "cell_type": "code",
   "execution_count": 15,
   "metadata": {
    "collapsed": false
   },
   "outputs": [
    {
     "data": {
      "text/plain": [
       "True"
      ]
     },
     "execution_count": 15,
     "metadata": {},
     "output_type": "execute_result"
    }
   ],
   "source": [
    "# Testing and statement\n",
    "results_2014b['OTL_HOME'][i] == 0 and results_2014b['OTL_AWAY'][i] == 0"
   ]
  },
  {
   "cell_type": "code",
   "execution_count": 16,
   "metadata": {
    "collapsed": false
   },
   "outputs": [],
   "source": [
    "# Get list of teams that played in 2014b, store as a Series called teams\n",
    "\n",
    "hometeams = Series(results_2014b['HOME'].unique())\n",
    "awayteams = Series(results_2014b['AWAY'].unique())\n",
    "teams = Series(hometeams)\n",
    "teams = Series(teams.append(awayteams))\n",
    "teams = Series(teams.unique())\n",
    "teams = Series(teams.sort_values(inplace=True))"
   ]
  },
  {
   "cell_type": "code",
   "execution_count": 17,
   "metadata": {
    "collapsed": false
   },
   "outputs": [
    {
     "data": {
      "text/html": [
       "<div>\n",
       "<table border=\"1\" class=\"dataframe\">\n",
       "  <thead>\n",
       "    <tr style=\"text-align: right;\">\n",
       "      <th></th>\n",
       "      <th>HOME</th>\n",
       "      <th>SCORE</th>\n",
       "      <th>OTL_HOME</th>\n",
       "      <th>OTL_AWAY</th>\n",
       "      <th>SCORE.1</th>\n",
       "      <th>AWAY</th>\n",
       "      <th>OT</th>\n",
       "    </tr>\n",
       "  </thead>\n",
       "  <tbody>\n",
       "    <tr>\n",
       "      <th>0</th>\n",
       "      <td>Shenton Park Speed Dealers</td>\n",
       "      <td>13</td>\n",
       "      <td>0</td>\n",
       "      <td>0</td>\n",
       "      <td>11</td>\n",
       "      <td>Karrakatta Grim Jobs</td>\n",
       "      <td>0</td>\n",
       "    </tr>\n",
       "    <tr>\n",
       "      <th>1</th>\n",
       "      <td>Floreat Flamingos</td>\n",
       "      <td>12</td>\n",
       "      <td>0</td>\n",
       "      <td>0</td>\n",
       "      <td>10</td>\n",
       "      <td>Karrinyup Bandits</td>\n",
       "      <td>0</td>\n",
       "    </tr>\n",
       "    <tr>\n",
       "      <th>2</th>\n",
       "      <td>West Leederville Wobbegongs</td>\n",
       "      <td>0</td>\n",
       "      <td>0</td>\n",
       "      <td>0</td>\n",
       "      <td>0</td>\n",
       "      <td>Doubleview Double Yewws</td>\n",
       "      <td>0</td>\n",
       "    </tr>\n",
       "    <tr>\n",
       "      <th>3</th>\n",
       "      <td>GMLA Guardians</td>\n",
       "      <td>12</td>\n",
       "      <td>0</td>\n",
       "      <td>0</td>\n",
       "      <td>7</td>\n",
       "      <td>GMLA Angels</td>\n",
       "      <td>0</td>\n",
       "    </tr>\n",
       "    <tr>\n",
       "      <th>4</th>\n",
       "      <td>South Perth Puckaneers</td>\n",
       "      <td>12</td>\n",
       "      <td>0</td>\n",
       "      <td>0</td>\n",
       "      <td>8</td>\n",
       "      <td>Bicton Bath Salts</td>\n",
       "      <td>0</td>\n",
       "    </tr>\n",
       "  </tbody>\n",
       "</table>\n",
       "</div>"
      ],
      "text/plain": [
       "                          HOME  SCORE OTL_HOME OTL_AWAY  SCORE.1  \\\n",
       "0   Shenton Park Speed Dealers     13        0        0       11   \n",
       "1            Floreat Flamingos     12        0        0       10   \n",
       "2  West Leederville Wobbegongs      0        0        0        0   \n",
       "3               GMLA Guardians     12        0        0        7   \n",
       "4       South Perth Puckaneers     12        0        0        8   \n",
       "\n",
       "                      AWAY  OT  \n",
       "0     Karrakatta Grim Jobs   0  \n",
       "1        Karrinyup Bandits   0  \n",
       "2  Doubleview Double Yewws   0  \n",
       "3              GMLA Angels   0  \n",
       "4        Bicton Bath Salts   0  "
      ]
     },
     "execution_count": 17,
     "metadata": {},
     "output_type": "execute_result"
    }
   ],
   "source": [
    "results_2014b.head()"
   ]
  },
  {
   "cell_type": "code",
   "execution_count": 74,
   "metadata": {
    "collapsed": false
   },
   "outputs": [
    {
     "ename": "KeyError",
     "evalue": "'OTL_HOME'",
     "output_type": "error",
     "traceback": [
      "\u001b[1;31m---------------------------------------------------------------------------\u001b[0m",
      "\u001b[1;31mKeyError\u001b[0m                                  Traceback (most recent call last)",
      "\u001b[1;32m<ipython-input-74-350f61e9243f>\u001b[0m in \u001b[0;36m<module>\u001b[1;34m()\u001b[0m\n\u001b[0;32m      4\u001b[0m \u001b[0mresults_2014b\u001b[0m\u001b[1;33m=\u001b[0m\u001b[0mresults_2014b\u001b[0m\u001b[1;33m[\u001b[0m\u001b[0mresults_2014b\u001b[0m\u001b[1;33m[\u001b[0m\u001b[1;34m'GamePlayed'\u001b[0m\u001b[1;33m]\u001b[0m\u001b[1;33m!=\u001b[0m\u001b[1;36m0\u001b[0m\u001b[1;33m]\u001b[0m\u001b[1;33m\u001b[0m\u001b[0m\n\u001b[0;32m      5\u001b[0m \u001b[1;31m# Remove GamePlayed column, not needed any more\u001b[0m\u001b[1;33m\u001b[0m\u001b[1;33m\u001b[0m\u001b[0m\n\u001b[1;32m----> 6\u001b[1;33m \u001b[1;32mdel\u001b[0m \u001b[0mresults_2014b\u001b[0m\u001b[1;33m[\u001b[0m\u001b[1;34m'GamePlayed'\u001b[0m\u001b[1;33m]\u001b[0m\u001b[1;33m,\u001b[0m \u001b[0mresults_2014b\u001b[0m\u001b[1;33m[\u001b[0m\u001b[1;34m'OTL_HOME'\u001b[0m\u001b[1;33m]\u001b[0m\u001b[1;33m,\u001b[0m \u001b[0mresults_2014b\u001b[0m\u001b[1;33m[\u001b[0m\u001b[1;34m'OTL_AWAY'\u001b[0m\u001b[1;33m]\u001b[0m\u001b[1;33m\u001b[0m\u001b[0m\n\u001b[0m\u001b[0;32m      7\u001b[0m \u001b[0mresults_2014b\u001b[0m\u001b[1;33m.\u001b[0m\u001b[0mhead\u001b[0m\u001b[1;33m(\u001b[0m\u001b[1;33m)\u001b[0m\u001b[1;33m\u001b[0m\u001b[0m\n",
      "\u001b[1;32mC:\\Anaconda2\\lib\\site-packages\\pandas\\core\\generic.pyc\u001b[0m in \u001b[0;36m__delitem__\u001b[1;34m(self, key)\u001b[0m\n\u001b[0;32m   1342\u001b[0m             \u001b[1;31m# there was no match, this call should raise the appropriate\u001b[0m\u001b[1;33m\u001b[0m\u001b[1;33m\u001b[0m\u001b[0m\n\u001b[0;32m   1343\u001b[0m             \u001b[1;31m# exception:\u001b[0m\u001b[1;33m\u001b[0m\u001b[1;33m\u001b[0m\u001b[0m\n\u001b[1;32m-> 1344\u001b[1;33m             \u001b[0mself\u001b[0m\u001b[1;33m.\u001b[0m\u001b[0m_data\u001b[0m\u001b[1;33m.\u001b[0m\u001b[0mdelete\u001b[0m\u001b[1;33m(\u001b[0m\u001b[0mkey\u001b[0m\u001b[1;33m)\u001b[0m\u001b[1;33m\u001b[0m\u001b[0m\n\u001b[0m\u001b[0;32m   1345\u001b[0m \u001b[1;33m\u001b[0m\u001b[0m\n\u001b[0;32m   1346\u001b[0m         \u001b[1;31m# delete from the caches\u001b[0m\u001b[1;33m\u001b[0m\u001b[1;33m\u001b[0m\u001b[0m\n",
      "\u001b[1;32mC:\\Anaconda2\\lib\\site-packages\\pandas\\core\\internals.pyc\u001b[0m in \u001b[0;36mdelete\u001b[1;34m(self, item)\u001b[0m\n\u001b[0;32m   3266\u001b[0m         \u001b[0mDelete\u001b[0m \u001b[0mselected\u001b[0m \u001b[0mitem\u001b[0m \u001b[1;33m(\u001b[0m\u001b[0mitems\u001b[0m \u001b[1;32mif\u001b[0m \u001b[0mnon\u001b[0m\u001b[1;33m-\u001b[0m\u001b[0munique\u001b[0m\u001b[1;33m)\u001b[0m \u001b[1;32min\u001b[0m\u001b[1;33m-\u001b[0m\u001b[0mplace\u001b[0m\u001b[1;33m.\u001b[0m\u001b[1;33m\u001b[0m\u001b[0m\n\u001b[0;32m   3267\u001b[0m         \"\"\"\n\u001b[1;32m-> 3268\u001b[1;33m         \u001b[0mindexer\u001b[0m \u001b[1;33m=\u001b[0m \u001b[0mself\u001b[0m\u001b[1;33m.\u001b[0m\u001b[0mitems\u001b[0m\u001b[1;33m.\u001b[0m\u001b[0mget_loc\u001b[0m\u001b[1;33m(\u001b[0m\u001b[0mitem\u001b[0m\u001b[1;33m)\u001b[0m\u001b[1;33m\u001b[0m\u001b[0m\n\u001b[0m\u001b[0;32m   3269\u001b[0m \u001b[1;33m\u001b[0m\u001b[0m\n\u001b[0;32m   3270\u001b[0m         \u001b[0mis_deleted\u001b[0m \u001b[1;33m=\u001b[0m \u001b[0mnp\u001b[0m\u001b[1;33m.\u001b[0m\u001b[0mzeros\u001b[0m\u001b[1;33m(\u001b[0m\u001b[0mself\u001b[0m\u001b[1;33m.\u001b[0m\u001b[0mshape\u001b[0m\u001b[1;33m[\u001b[0m\u001b[1;36m0\u001b[0m\u001b[1;33m]\u001b[0m\u001b[1;33m,\u001b[0m \u001b[0mdtype\u001b[0m\u001b[1;33m=\u001b[0m\u001b[0mnp\u001b[0m\u001b[1;33m.\u001b[0m\u001b[0mbool_\u001b[0m\u001b[1;33m)\u001b[0m\u001b[1;33m\u001b[0m\u001b[0m\n",
      "\u001b[1;32mC:\\Anaconda2\\lib\\site-packages\\pandas\\core\\index.pyc\u001b[0m in \u001b[0;36mget_loc\u001b[1;34m(self, key, method, tolerance)\u001b[0m\n\u001b[0;32m   1757\u001b[0m                                  'backfill or nearest lookups')\n\u001b[0;32m   1758\u001b[0m             \u001b[0mkey\u001b[0m \u001b[1;33m=\u001b[0m \u001b[0m_values_from_object\u001b[0m\u001b[1;33m(\u001b[0m\u001b[0mkey\u001b[0m\u001b[1;33m)\u001b[0m\u001b[1;33m\u001b[0m\u001b[0m\n\u001b[1;32m-> 1759\u001b[1;33m             \u001b[1;32mreturn\u001b[0m \u001b[0mself\u001b[0m\u001b[1;33m.\u001b[0m\u001b[0m_engine\u001b[0m\u001b[1;33m.\u001b[0m\u001b[0mget_loc\u001b[0m\u001b[1;33m(\u001b[0m\u001b[0mkey\u001b[0m\u001b[1;33m)\u001b[0m\u001b[1;33m\u001b[0m\u001b[0m\n\u001b[0m\u001b[0;32m   1760\u001b[0m \u001b[1;33m\u001b[0m\u001b[0m\n\u001b[0;32m   1761\u001b[0m         indexer = self.get_indexer([key], method=method,\n",
      "\u001b[1;32mpandas\\index.pyx\u001b[0m in \u001b[0;36mpandas.index.IndexEngine.get_loc (pandas\\index.c:3979)\u001b[1;34m()\u001b[0m\n",
      "\u001b[1;32mpandas\\index.pyx\u001b[0m in \u001b[0;36mpandas.index.IndexEngine.get_loc (pandas\\index.c:3843)\u001b[1;34m()\u001b[0m\n",
      "\u001b[1;32mpandas\\hashtable.pyx\u001b[0m in \u001b[0;36mpandas.hashtable.PyObjectHashTable.get_item (pandas\\hashtable.c:12265)\u001b[1;34m()\u001b[0m\n",
      "\u001b[1;32mpandas\\hashtable.pyx\u001b[0m in \u001b[0;36mpandas.hashtable.PyObjectHashTable.get_item (pandas\\hashtable.c:12216)\u001b[1;34m()\u001b[0m\n",
      "\u001b[1;31mKeyError\u001b[0m: 'OTL_HOME'"
     ]
    }
   ],
   "source": [
    "##############################\n",
    "######## DO THIS LAST ########\n",
    "##############################\n",
    "\n",
    "\n",
    "# Create GamePlayed flag, remove games that had 0-0 score\n",
    "# Assume that 0-0 draws don't happen if a game is actually played\n",
    "results_2014b['GamePlayed'] = results_2014b['SCORE']+results_2014b[\"SCORE.1\"]\n",
    "results_2014b=results_2014b[results_2014b['GamePlayed']!=0]\n",
    "# Remove GamePlayed column, not needed any more\n",
    "del results_2014b['GamePlayed'], results_2014b['OTL_HOME'], results_2014b['OTL_AWAY']\n",
    "results_2014b.head()"
   ]
  },
  {
   "cell_type": "code",
   "execution_count": 18,
   "metadata": {
    "collapsed": false
   },
   "outputs": [
    {
     "ename": "ValueError",
     "evalue": "The truth value of a Series is ambiguous. Use a.empty, a.bool(), a.item(), a.any() or a.all().",
     "output_type": "error",
     "traceback": [
      "\u001b[1;31m---------------------------------------------------------------------------\u001b[0m",
      "\u001b[1;31mValueError\u001b[0m                                Traceback (most recent call last)",
      "\u001b[1;32m<ipython-input-18-86c83dbb24f7>\u001b[0m in \u001b[0;36m<module>\u001b[1;34m()\u001b[0m\n\u001b[0;32m      4\u001b[0m \u001b[1;31m# The same is true of an over time loss\u001b[0m\u001b[1;33m\u001b[0m\u001b[1;33m\u001b[0m\u001b[0m\n\u001b[0;32m      5\u001b[0m \u001b[0mresults_2014b\u001b[0m\u001b[1;33m[\u001b[0m\u001b[1;34m'IsDraw'\u001b[0m\u001b[1;33m]\u001b[0m \u001b[1;33m=\u001b[0m \u001b[0mresults_2014b\u001b[0m\u001b[1;33m[\u001b[0m\u001b[1;34m'SCORE'\u001b[0m\u001b[1;33m]\u001b[0m \u001b[1;33m==\u001b[0m \u001b[0mresults_2014b\u001b[0m\u001b[1;33m[\u001b[0m\u001b[1;34m'SCORE.1'\u001b[0m\u001b[1;33m]\u001b[0m\u001b[1;33m\u001b[0m\u001b[0m\n\u001b[1;32m----> 6\u001b[1;33m \u001b[0mresults_2014b\u001b[0m\u001b[1;33m[\u001b[0m\u001b[1;34m'IsDraw'\u001b[0m\u001b[1;33m]\u001b[0m \u001b[1;33m=\u001b[0m \u001b[0mresults_2014b\u001b[0m\u001b[1;33m[\u001b[0m\u001b[1;34m'OT'\u001b[0m\u001b[1;33m]\u001b[0m \u001b[1;33m==\u001b[0m \u001b[1;36m1\u001b[0m \u001b[1;32mor\u001b[0m \u001b[0mresults_2014b\u001b[0m\u001b[1;33m[\u001b[0m\u001b[1;34m'ISDraw'\u001b[0m\u001b[1;33m]\u001b[0m\u001b[1;33m\u001b[0m\u001b[0m\n\u001b[0m",
      "\u001b[1;32mC:\\Anaconda2\\lib\\site-packages\\pandas\\core\\generic.pyc\u001b[0m in \u001b[0;36m__nonzero__\u001b[1;34m(self)\u001b[0m\n\u001b[0;32m    729\u001b[0m         raise ValueError(\"The truth value of a {0} is ambiguous. \"\n\u001b[0;32m    730\u001b[0m                          \u001b[1;34m\"Use a.empty, a.bool(), a.item(), a.any() or a.all().\"\u001b[0m\u001b[1;33m\u001b[0m\u001b[0m\n\u001b[1;32m--> 731\u001b[1;33m                          .format(self.__class__.__name__))\n\u001b[0m\u001b[0;32m    732\u001b[0m \u001b[1;33m\u001b[0m\u001b[0m\n\u001b[0;32m    733\u001b[0m     \u001b[0m__bool__\u001b[0m \u001b[1;33m=\u001b[0m \u001b[0m__nonzero__\u001b[0m\u001b[1;33m\u001b[0m\u001b[0m\n",
      "\u001b[1;31mValueError\u001b[0m: The truth value of a Series is ambiguous. Use a.empty, a.bool(), a.item(), a.any() or a.all()."
     ]
    }
   ],
   "source": [
    "# Create IsDraw flag\n",
    "# Count OT losses as draws\n",
    "# Draws represent occurences where team skill is very close to each other\n",
    "# The same is true of an over time loss\n",
    "results_2014b['IsDraw'] = results_2014b['SCORE'] == results_2014b['SCORE.1']\n",
    "#results_2014b['IsDraw'] = results_2014b['OT'] == 1 or results_2014b['ISDraw']"
   ]
  },
  {
   "cell_type": "code",
   "execution_count": 19,
   "metadata": {
    "collapsed": false
   },
   "outputs": [
    {
     "name": "stderr",
     "output_type": "stream",
     "text": [
      "C:\\Anaconda2\\lib\\site-packages\\ipykernel\\__main__.py:3: SettingWithCopyWarning: \n",
      "A value is trying to be set on a copy of a slice from a DataFrame\n",
      "\n",
      "See the caveats in the documentation: http://pandas.pydata.org/pandas-docs/stable/indexing.html#indexing-view-versus-copy\n",
      "  app.launch_new_instance()\n"
     ]
    }
   ],
   "source": [
    "for i in range (0,len(results_2014b)):\n",
    "    if results_2014b['OT'][i] == 1:\n",
    "        results_2014b['IsDraw'][i] = True\n"
   ]
  },
  {
   "cell_type": "code",
   "execution_count": 22,
   "metadata": {
    "collapsed": false
   },
   "outputs": [
    {
     "data": {
      "text/html": [
       "<div>\n",
       "<table border=\"1\" class=\"dataframe\">\n",
       "  <thead>\n",
       "    <tr style=\"text-align: right;\">\n",
       "      <th></th>\n",
       "      <th>HOME</th>\n",
       "      <th>SCORE</th>\n",
       "      <th>OTL_HOME</th>\n",
       "      <th>OTL_AWAY</th>\n",
       "      <th>SCORE.1</th>\n",
       "      <th>AWAY</th>\n",
       "      <th>OT</th>\n",
       "      <th>IsDraw</th>\n",
       "    </tr>\n",
       "  </thead>\n",
       "  <tbody>\n",
       "    <tr>\n",
       "      <th>0</th>\n",
       "      <td>Shenton Park Speed Dealers</td>\n",
       "      <td>13</td>\n",
       "      <td>0</td>\n",
       "      <td>0</td>\n",
       "      <td>11</td>\n",
       "      <td>Karrakatta Grim Jobs</td>\n",
       "      <td>0</td>\n",
       "      <td>False</td>\n",
       "    </tr>\n",
       "    <tr>\n",
       "      <th>1</th>\n",
       "      <td>Floreat Flamingos</td>\n",
       "      <td>12</td>\n",
       "      <td>0</td>\n",
       "      <td>0</td>\n",
       "      <td>10</td>\n",
       "      <td>Karrinyup Bandits</td>\n",
       "      <td>0</td>\n",
       "      <td>False</td>\n",
       "    </tr>\n",
       "    <tr>\n",
       "      <th>2</th>\n",
       "      <td>West Leederville Wobbegongs</td>\n",
       "      <td>0</td>\n",
       "      <td>0</td>\n",
       "      <td>0</td>\n",
       "      <td>0</td>\n",
       "      <td>Doubleview Double Yewws</td>\n",
       "      <td>0</td>\n",
       "      <td>True</td>\n",
       "    </tr>\n",
       "    <tr>\n",
       "      <th>3</th>\n",
       "      <td>GMLA Guardians</td>\n",
       "      <td>12</td>\n",
       "      <td>0</td>\n",
       "      <td>0</td>\n",
       "      <td>7</td>\n",
       "      <td>GMLA Angels</td>\n",
       "      <td>0</td>\n",
       "      <td>False</td>\n",
       "    </tr>\n",
       "    <tr>\n",
       "      <th>4</th>\n",
       "      <td>South Perth Puckaneers</td>\n",
       "      <td>12</td>\n",
       "      <td>0</td>\n",
       "      <td>0</td>\n",
       "      <td>8</td>\n",
       "      <td>Bicton Bath Salts</td>\n",
       "      <td>0</td>\n",
       "      <td>False</td>\n",
       "    </tr>\n",
       "  </tbody>\n",
       "</table>\n",
       "</div>"
      ],
      "text/plain": [
       "                          HOME  SCORE OTL_HOME OTL_AWAY  SCORE.1  \\\n",
       "0   Shenton Park Speed Dealers     13        0        0       11   \n",
       "1            Floreat Flamingos     12        0        0       10   \n",
       "2  West Leederville Wobbegongs      0        0        0        0   \n",
       "3               GMLA Guardians     12        0        0        7   \n",
       "4       South Perth Puckaneers     12        0        0        8   \n",
       "\n",
       "                      AWAY  OT IsDraw  \n",
       "0     Karrakatta Grim Jobs   0  False  \n",
       "1        Karrinyup Bandits   0  False  \n",
       "2  Doubleview Double Yewws   0   True  \n",
       "3              GMLA Angels   0  False  \n",
       "4        Bicton Bath Salts   0  False  "
      ]
     },
     "execution_count": 22,
     "metadata": {},
     "output_type": "execute_result"
    }
   ],
   "source": [
    "results_2014b.head()"
   ]
  },
  {
   "cell_type": "code",
   "execution_count": 28,
   "metadata": {
    "collapsed": false
   },
   "outputs": [],
   "source": [
    "##############################\n",
    "######## DO THIS LAST ########\n",
    "##############################\n",
    "\n",
    "\n",
    "# Create GamePlayed flag, remove games that had 0-0 score\n",
    "# Assume that 0-0 draws don't happen if a game is actually played\n",
    "results_2014b['GamePlayed'] = results_2014b['SCORE']+results_2014b[\"SCORE.1\"]\n",
    "results_2014b=results_2014b[results_2014b['GamePlayed']!=0]\n",
    "# Remove GamePlayed column, not needed any more\n",
    "del  results_2014b['GamePlayed'], results_2014b['OTL_HOME'], results_2014b['OTL_AWAY'], results_2014b['OT']\n",
    "results_2014b.head()\n",
    "\n",
    "# Delete rows where there are not two teams\n",
    "# Indicates game did not occur\n",
    "results_2014b = results_2014b[results_2014b['AWAY'] != 0]\n",
    "results_2014b = results_2014b[results_2014b['HOME'] != 0]"
   ]
  },
  {
   "cell_type": "code",
   "execution_count": 29,
   "metadata": {
    "collapsed": false
   },
   "outputs": [
    {
     "data": {
      "text/html": [
       "<div>\n",
       "<table border=\"1\" class=\"dataframe\">\n",
       "  <thead>\n",
       "    <tr style=\"text-align: right;\">\n",
       "      <th></th>\n",
       "      <th>HOME</th>\n",
       "      <th>SCORE</th>\n",
       "      <th>SCORE.1</th>\n",
       "      <th>AWAY</th>\n",
       "      <th>IsDraw</th>\n",
       "    </tr>\n",
       "  </thead>\n",
       "  <tbody>\n",
       "    <tr>\n",
       "      <th>0</th>\n",
       "      <td>Shenton Park Speed Dealers</td>\n",
       "      <td>13</td>\n",
       "      <td>11</td>\n",
       "      <td>Karrakatta Grim Jobs</td>\n",
       "      <td>False</td>\n",
       "    </tr>\n",
       "    <tr>\n",
       "      <th>1</th>\n",
       "      <td>Floreat Flamingos</td>\n",
       "      <td>12</td>\n",
       "      <td>10</td>\n",
       "      <td>Karrinyup Bandits</td>\n",
       "      <td>False</td>\n",
       "    </tr>\n",
       "    <tr>\n",
       "      <th>3</th>\n",
       "      <td>GMLA Guardians</td>\n",
       "      <td>12</td>\n",
       "      <td>7</td>\n",
       "      <td>GMLA Angels</td>\n",
       "      <td>False</td>\n",
       "    </tr>\n",
       "    <tr>\n",
       "      <th>4</th>\n",
       "      <td>South Perth Puckaneers</td>\n",
       "      <td>12</td>\n",
       "      <td>8</td>\n",
       "      <td>Bicton Bath Salts</td>\n",
       "      <td>False</td>\n",
       "    </tr>\n",
       "    <tr>\n",
       "      <th>5</th>\n",
       "      <td>Melville Massiv</td>\n",
       "      <td>7</td>\n",
       "      <td>9</td>\n",
       "      <td>Bicton Banter Lords</td>\n",
       "      <td>False</td>\n",
       "    </tr>\n",
       "  </tbody>\n",
       "</table>\n",
       "</div>"
      ],
      "text/plain": [
       "                         HOME  SCORE  SCORE.1                  AWAY IsDraw\n",
       "0  Shenton Park Speed Dealers     13       11  Karrakatta Grim Jobs  False\n",
       "1           Floreat Flamingos     12       10     Karrinyup Bandits  False\n",
       "3              GMLA Guardians     12        7           GMLA Angels  False\n",
       "4      South Perth Puckaneers     12        8     Bicton Bath Salts  False\n",
       "5             Melville Massiv      7        9   Bicton Banter Lords  False"
      ]
     },
     "execution_count": 29,
     "metadata": {},
     "output_type": "execute_result"
    }
   ],
   "source": [
    "results_2014b.head()"
   ]
  },
  {
   "cell_type": "code",
   "execution_count": 30,
   "metadata": {
    "collapsed": false
   },
   "outputs": [
    {
     "data": {
      "text/html": [
       "<div>\n",
       "<table border=\"1\" class=\"dataframe\">\n",
       "  <thead>\n",
       "    <tr style=\"text-align: right;\">\n",
       "      <th></th>\n",
       "      <th>HOME</th>\n",
       "      <th>homescore</th>\n",
       "      <th>awayscore</th>\n",
       "      <th>AWAY</th>\n",
       "      <th>IsDraw</th>\n",
       "    </tr>\n",
       "  </thead>\n",
       "  <tbody>\n",
       "    <tr>\n",
       "      <th>0</th>\n",
       "      <td>Shenton Park Speed Dealers</td>\n",
       "      <td>13</td>\n",
       "      <td>11</td>\n",
       "      <td>Karrakatta Grim Jobs</td>\n",
       "      <td>False</td>\n",
       "    </tr>\n",
       "    <tr>\n",
       "      <th>1</th>\n",
       "      <td>Floreat Flamingos</td>\n",
       "      <td>12</td>\n",
       "      <td>10</td>\n",
       "      <td>Karrinyup Bandits</td>\n",
       "      <td>False</td>\n",
       "    </tr>\n",
       "    <tr>\n",
       "      <th>3</th>\n",
       "      <td>GMLA Guardians</td>\n",
       "      <td>12</td>\n",
       "      <td>7</td>\n",
       "      <td>GMLA Angels</td>\n",
       "      <td>False</td>\n",
       "    </tr>\n",
       "    <tr>\n",
       "      <th>4</th>\n",
       "      <td>South Perth Puckaneers</td>\n",
       "      <td>12</td>\n",
       "      <td>8</td>\n",
       "      <td>Bicton Bath Salts</td>\n",
       "      <td>False</td>\n",
       "    </tr>\n",
       "    <tr>\n",
       "      <th>5</th>\n",
       "      <td>Melville Massiv</td>\n",
       "      <td>7</td>\n",
       "      <td>9</td>\n",
       "      <td>Bicton Banter Lords</td>\n",
       "      <td>False</td>\n",
       "    </tr>\n",
       "  </tbody>\n",
       "</table>\n",
       "</div>"
      ],
      "text/plain": [
       "                         HOME  homescore  awayscore                  AWAY  \\\n",
       "0  Shenton Park Speed Dealers         13         11  Karrakatta Grim Jobs   \n",
       "1           Floreat Flamingos         12         10     Karrinyup Bandits   \n",
       "3              GMLA Guardians         12          7           GMLA Angels   \n",
       "4      South Perth Puckaneers         12          8     Bicton Bath Salts   \n",
       "5             Melville Massiv          7          9   Bicton Banter Lords   \n",
       "\n",
       "  IsDraw  \n",
       "0  False  \n",
       "1  False  \n",
       "3  False  \n",
       "4  False  \n",
       "5  False  "
      ]
     },
     "execution_count": 30,
     "metadata": {},
     "output_type": "execute_result"
    }
   ],
   "source": [
    "results_2014b = results_2014b.rename(columns = {\"SCORE\":\"homescore\",\"SCORE.1\":\"awayscore\"})\n",
    "results_2014b.head()"
   ]
  },
  {
   "cell_type": "code",
   "execution_count": 55,
   "metadata": {
    "collapsed": false
   },
   "outputs": [],
   "source": [
    "# Write what has been done so far to a new csv\n",
    "results_2014b.to_csv('results_2014b_clean.csv')\n",
    "#results_2014b = pd.read_csv('results_2014b_clean.csv')"
   ]
  },
  {
   "cell_type": "code",
   "execution_count": 58,
   "metadata": {
    "collapsed": false
   },
   "outputs": [
    {
     "data": {
      "text/html": [
       "<div>\n",
       "<table border=\"1\" class=\"dataframe\">\n",
       "  <thead>\n",
       "    <tr style=\"text-align: right;\">\n",
       "      <th></th>\n",
       "      <th>Unnamed: 0</th>\n",
       "      <th>HOME</th>\n",
       "      <th>homescore</th>\n",
       "      <th>awayscore</th>\n",
       "      <th>AWAY</th>\n",
       "      <th>IsDraw</th>\n",
       "      <th>Winteam</th>\n",
       "      <th>Lossteam</th>\n",
       "    </tr>\n",
       "  </thead>\n",
       "  <tbody>\n",
       "    <tr>\n",
       "      <th>0</th>\n",
       "      <td>0</td>\n",
       "      <td>Shenton Park Speed Dealers</td>\n",
       "      <td>13</td>\n",
       "      <td>11</td>\n",
       "      <td>Karrakatta Grim Jobs</td>\n",
       "      <td>False</td>\n",
       "      <td>NaN</td>\n",
       "      <td>NaN</td>\n",
       "    </tr>\n",
       "    <tr>\n",
       "      <th>1</th>\n",
       "      <td>1</td>\n",
       "      <td>Floreat Flamingos</td>\n",
       "      <td>12</td>\n",
       "      <td>10</td>\n",
       "      <td>Karrinyup Bandits</td>\n",
       "      <td>False</td>\n",
       "      <td>NaN</td>\n",
       "      <td>NaN</td>\n",
       "    </tr>\n",
       "    <tr>\n",
       "      <th>2</th>\n",
       "      <td>2</td>\n",
       "      <td>GMLA Guardians</td>\n",
       "      <td>12</td>\n",
       "      <td>7</td>\n",
       "      <td>GMLA Angels</td>\n",
       "      <td>False</td>\n",
       "      <td>NaN</td>\n",
       "      <td>NaN</td>\n",
       "    </tr>\n",
       "    <tr>\n",
       "      <th>3</th>\n",
       "      <td>3</td>\n",
       "      <td>South Perth Puckaneers</td>\n",
       "      <td>12</td>\n",
       "      <td>8</td>\n",
       "      <td>Bicton Bath Salts</td>\n",
       "      <td>False</td>\n",
       "      <td>NaN</td>\n",
       "      <td>NaN</td>\n",
       "    </tr>\n",
       "    <tr>\n",
       "      <th>4</th>\n",
       "      <td>4</td>\n",
       "      <td>Melville Massiv</td>\n",
       "      <td>7</td>\n",
       "      <td>9</td>\n",
       "      <td>Bicton Banter Lords</td>\n",
       "      <td>False</td>\n",
       "      <td>NaN</td>\n",
       "      <td>NaN</td>\n",
       "    </tr>\n",
       "  </tbody>\n",
       "</table>\n",
       "</div>"
      ],
      "text/plain": [
       "   Unnamed: 0                        HOME  homescore  awayscore  \\\n",
       "0           0  Shenton Park Speed Dealers         13         11   \n",
       "1           1           Floreat Flamingos         12         10   \n",
       "2           2              GMLA Guardians         12          7   \n",
       "3           3      South Perth Puckaneers         12          8   \n",
       "4           4             Melville Massiv          7          9   \n",
       "\n",
       "                   AWAY IsDraw  Winteam  Lossteam  \n",
       "0  Karrakatta Grim Jobs  False      NaN       NaN  \n",
       "1     Karrinyup Bandits  False      NaN       NaN  \n",
       "2           GMLA Angels  False      NaN       NaN  \n",
       "3     Bicton Bath Salts  False      NaN       NaN  \n",
       "4   Bicton Banter Lords  False      NaN       NaN  "
      ]
     },
     "execution_count": 58,
     "metadata": {},
     "output_type": "execute_result"
    }
   ],
   "source": [
    "results_2014b['Winteam'] = np.NaN\n",
    "results_2014b['Lossteam'] = np.NaN\n",
    "results_2014b.drop(results_2014b.columns[[1]],axis=1)\n",
    "results_2014b.head()"
   ]
  },
  {
   "cell_type": "code",
   "execution_count": 59,
   "metadata": {
    "collapsed": false
   },
   "outputs": [
    {
     "name": "stderr",
     "output_type": "stream",
     "text": [
      "C:\\Anaconda2\\lib\\site-packages\\ipykernel\\__main__.py:4: SettingWithCopyWarning: \n",
      "A value is trying to be set on a copy of a slice from a DataFrame\n",
      "\n",
      "See the caveats in the documentation: http://pandas.pydata.org/pandas-docs/stable/indexing.html#indexing-view-versus-copy\n",
      "C:\\Anaconda2\\lib\\site-packages\\ipykernel\\__main__.py:5: SettingWithCopyWarning: \n",
      "A value is trying to be set on a copy of a slice from a DataFrame\n",
      "\n",
      "See the caveats in the documentation: http://pandas.pydata.org/pandas-docs/stable/indexing.html#indexing-view-versus-copy\n",
      "C:\\Anaconda2\\lib\\site-packages\\ipykernel\\__main__.py:7: SettingWithCopyWarning: \n",
      "A value is trying to be set on a copy of a slice from a DataFrame\n",
      "\n",
      "See the caveats in the documentation: http://pandas.pydata.org/pandas-docs/stable/indexing.html#indexing-view-versus-copy\n",
      "C:\\Anaconda2\\lib\\site-packages\\ipykernel\\__main__.py:8: SettingWithCopyWarning: \n",
      "A value is trying to be set on a copy of a slice from a DataFrame\n",
      "\n",
      "See the caveats in the documentation: http://pandas.pydata.org/pandas-docs/stable/indexing.html#indexing-view-versus-copy\n"
     ]
    }
   ],
   "source": [
    "for i in range(0,len(results_2014b)):\n",
    "    # If home score is greater than away score\n",
    "    if results_2014b['homescore'][i]>=results_2014b['awayscore'][i]:\n",
    "        results_2014b['Winteam'][i]=results_2014b['HOME'][i]\n",
    "        results_2014b['Lossteam'][i]=results_2014b['AWAY'][i]\n",
    "    else:\n",
    "        results_2014b['Winteam'][i]=results_2014b['AWAY'][i]\n",
    "        results_2014b['Lossteam'][i]=results_2014b['HOME'][i]"
   ]
  },
  {
   "cell_type": "code",
   "execution_count": 60,
   "metadata": {
    "collapsed": false
   },
   "outputs": [
    {
     "data": {
      "text/html": [
       "<div>\n",
       "<table border=\"1\" class=\"dataframe\">\n",
       "  <thead>\n",
       "    <tr style=\"text-align: right;\">\n",
       "      <th></th>\n",
       "      <th>Unnamed: 0</th>\n",
       "      <th>HOME</th>\n",
       "      <th>homescore</th>\n",
       "      <th>awayscore</th>\n",
       "      <th>AWAY</th>\n",
       "      <th>IsDraw</th>\n",
       "      <th>Winteam</th>\n",
       "      <th>Lossteam</th>\n",
       "    </tr>\n",
       "  </thead>\n",
       "  <tbody>\n",
       "    <tr>\n",
       "      <th>0</th>\n",
       "      <td>0</td>\n",
       "      <td>Shenton Park Speed Dealers</td>\n",
       "      <td>13</td>\n",
       "      <td>11</td>\n",
       "      <td>Karrakatta Grim Jobs</td>\n",
       "      <td>False</td>\n",
       "      <td>Shenton Park Speed Dealers</td>\n",
       "      <td>Karrakatta Grim Jobs</td>\n",
       "    </tr>\n",
       "    <tr>\n",
       "      <th>1</th>\n",
       "      <td>1</td>\n",
       "      <td>Floreat Flamingos</td>\n",
       "      <td>12</td>\n",
       "      <td>10</td>\n",
       "      <td>Karrinyup Bandits</td>\n",
       "      <td>False</td>\n",
       "      <td>Floreat Flamingos</td>\n",
       "      <td>Karrinyup Bandits</td>\n",
       "    </tr>\n",
       "    <tr>\n",
       "      <th>2</th>\n",
       "      <td>2</td>\n",
       "      <td>GMLA Guardians</td>\n",
       "      <td>12</td>\n",
       "      <td>7</td>\n",
       "      <td>GMLA Angels</td>\n",
       "      <td>False</td>\n",
       "      <td>GMLA Guardians</td>\n",
       "      <td>GMLA Angels</td>\n",
       "    </tr>\n",
       "    <tr>\n",
       "      <th>3</th>\n",
       "      <td>3</td>\n",
       "      <td>South Perth Puckaneers</td>\n",
       "      <td>12</td>\n",
       "      <td>8</td>\n",
       "      <td>Bicton Bath Salts</td>\n",
       "      <td>False</td>\n",
       "      <td>South Perth Puckaneers</td>\n",
       "      <td>Bicton Bath Salts</td>\n",
       "    </tr>\n",
       "    <tr>\n",
       "      <th>4</th>\n",
       "      <td>4</td>\n",
       "      <td>Melville Massiv</td>\n",
       "      <td>7</td>\n",
       "      <td>9</td>\n",
       "      <td>Bicton Banter Lords</td>\n",
       "      <td>False</td>\n",
       "      <td>Bicton Banter Lords</td>\n",
       "      <td>Melville Massiv</td>\n",
       "    </tr>\n",
       "  </tbody>\n",
       "</table>\n",
       "</div>"
      ],
      "text/plain": [
       "   Unnamed: 0                        HOME  homescore  awayscore  \\\n",
       "0           0  Shenton Park Speed Dealers         13         11   \n",
       "1           1           Floreat Flamingos         12         10   \n",
       "2           2              GMLA Guardians         12          7   \n",
       "3           3      South Perth Puckaneers         12          8   \n",
       "4           4             Melville Massiv          7          9   \n",
       "\n",
       "                   AWAY IsDraw                     Winteam  \\\n",
       "0  Karrakatta Grim Jobs  False  Shenton Park Speed Dealers   \n",
       "1     Karrinyup Bandits  False           Floreat Flamingos   \n",
       "2           GMLA Angels  False              GMLA Guardians   \n",
       "3     Bicton Bath Salts  False      South Perth Puckaneers   \n",
       "4   Bicton Banter Lords  False         Bicton Banter Lords   \n",
       "\n",
       "               Lossteam  \n",
       "0  Karrakatta Grim Jobs  \n",
       "1     Karrinyup Bandits  \n",
       "2           GMLA Angels  \n",
       "3     Bicton Bath Salts  \n",
       "4       Melville Massiv  "
      ]
     },
     "execution_count": 60,
     "metadata": {},
     "output_type": "execute_result"
    }
   ],
   "source": [
    "results_2014b.head()"
   ]
  },
  {
   "cell_type": "code",
   "execution_count": 65,
   "metadata": {
    "collapsed": false
   },
   "outputs": [],
   "source": [
    "# Write what has been done so far to a new csv\n",
    "results_2014b.to_csv('winloss_2014b.csv')"
   ]
  },
  {
   "cell_type": "code",
   "execution_count": 67,
   "metadata": {
    "collapsed": false
   },
   "outputs": [
    {
     "data": {
      "text/html": [
       "<div>\n",
       "<table border=\"1\" class=\"dataframe\">\n",
       "  <thead>\n",
       "    <tr style=\"text-align: right;\">\n",
       "      <th></th>\n",
       "      <th>Unnamed: 0</th>\n",
       "      <th>HOME</th>\n",
       "      <th>homescore</th>\n",
       "      <th>awayscore</th>\n",
       "      <th>AWAY</th>\n",
       "      <th>IsDraw</th>\n",
       "      <th>Winteam</th>\n",
       "      <th>Lossteam</th>\n",
       "    </tr>\n",
       "  </thead>\n",
       "  <tbody>\n",
       "    <tr>\n",
       "      <th>0</th>\n",
       "      <td>0</td>\n",
       "      <td>Shenton Park Speed Dealers</td>\n",
       "      <td>13</td>\n",
       "      <td>11</td>\n",
       "      <td>Karrakatta Grim Jobs</td>\n",
       "      <td>False</td>\n",
       "      <td>Shenton Park Speed Dealers</td>\n",
       "      <td>Karrakatta Grim Jobs</td>\n",
       "    </tr>\n",
       "    <tr>\n",
       "      <th>1</th>\n",
       "      <td>1</td>\n",
       "      <td>Floreat Flamingos</td>\n",
       "      <td>12</td>\n",
       "      <td>10</td>\n",
       "      <td>Karrinyup Bandits</td>\n",
       "      <td>False</td>\n",
       "      <td>Floreat Flamingos</td>\n",
       "      <td>Karrinyup Bandits</td>\n",
       "    </tr>\n",
       "    <tr>\n",
       "      <th>2</th>\n",
       "      <td>2</td>\n",
       "      <td>GMLA Guardians</td>\n",
       "      <td>12</td>\n",
       "      <td>7</td>\n",
       "      <td>GMLA Angels</td>\n",
       "      <td>False</td>\n",
       "      <td>GMLA Guardians</td>\n",
       "      <td>GMLA Angels</td>\n",
       "    </tr>\n",
       "    <tr>\n",
       "      <th>3</th>\n",
       "      <td>3</td>\n",
       "      <td>South Perth Puckaneers</td>\n",
       "      <td>12</td>\n",
       "      <td>8</td>\n",
       "      <td>Bicton Bath Salts</td>\n",
       "      <td>False</td>\n",
       "      <td>South Perth Puckaneers</td>\n",
       "      <td>Bicton Bath Salts</td>\n",
       "    </tr>\n",
       "    <tr>\n",
       "      <th>4</th>\n",
       "      <td>4</td>\n",
       "      <td>Melville Massiv</td>\n",
       "      <td>7</td>\n",
       "      <td>9</td>\n",
       "      <td>Bicton Banter Lords</td>\n",
       "      <td>False</td>\n",
       "      <td>Bicton Banter Lords</td>\n",
       "      <td>Melville Massiv</td>\n",
       "    </tr>\n",
       "  </tbody>\n",
       "</table>\n",
       "</div>"
      ],
      "text/plain": [
       "   Unnamed: 0                        HOME  homescore  awayscore  \\\n",
       "0           0  Shenton Park Speed Dealers         13         11   \n",
       "1           1           Floreat Flamingos         12         10   \n",
       "2           2              GMLA Guardians         12          7   \n",
       "3           3      South Perth Puckaneers         12          8   \n",
       "4           4             Melville Massiv          7          9   \n",
       "\n",
       "                   AWAY IsDraw                     Winteam  \\\n",
       "0  Karrakatta Grim Jobs  False  Shenton Park Speed Dealers   \n",
       "1     Karrinyup Bandits  False           Floreat Flamingos   \n",
       "2           GMLA Angels  False              GMLA Guardians   \n",
       "3     Bicton Bath Salts  False      South Perth Puckaneers   \n",
       "4   Bicton Banter Lords  False         Bicton Banter Lords   \n",
       "\n",
       "               Lossteam  \n",
       "0  Karrakatta Grim Jobs  \n",
       "1     Karrinyup Bandits  \n",
       "2           GMLA Angels  \n",
       "3     Bicton Bath Salts  \n",
       "4       Melville Massiv  "
      ]
     },
     "execution_count": 67,
     "metadata": {},
     "output_type": "execute_result"
    }
   ],
   "source": [
    "results_2014b.head()"
   ]
  },
  {
   "cell_type": "code",
   "execution_count": 71,
   "metadata": {
    "collapsed": false
   },
   "outputs": [
    {
     "data": {
      "text/html": [
       "<div>\n",
       "<table border=\"1\" class=\"dataframe\">\n",
       "  <thead>\n",
       "    <tr style=\"text-align: right;\">\n",
       "      <th></th>\n",
       "      <th>Unnamed: 0</th>\n",
       "      <th>Winteam</th>\n",
       "      <th>Lossteam</th>\n",
       "      <th>IsDraw</th>\n",
       "    </tr>\n",
       "  </thead>\n",
       "  <tbody>\n",
       "    <tr>\n",
       "      <th>0</th>\n",
       "      <td>0</td>\n",
       "      <td>Shenton Park Speed Dealers</td>\n",
       "      <td>Karrakatta Grim Jobs</td>\n",
       "      <td>False</td>\n",
       "    </tr>\n",
       "    <tr>\n",
       "      <th>1</th>\n",
       "      <td>1</td>\n",
       "      <td>Floreat Flamingos</td>\n",
       "      <td>Karrinyup Bandits</td>\n",
       "      <td>False</td>\n",
       "    </tr>\n",
       "    <tr>\n",
       "      <th>2</th>\n",
       "      <td>2</td>\n",
       "      <td>GMLA Guardians</td>\n",
       "      <td>GMLA Angels</td>\n",
       "      <td>False</td>\n",
       "    </tr>\n",
       "    <tr>\n",
       "      <th>3</th>\n",
       "      <td>3</td>\n",
       "      <td>South Perth Puckaneers</td>\n",
       "      <td>Bicton Bath Salts</td>\n",
       "      <td>False</td>\n",
       "    </tr>\n",
       "    <tr>\n",
       "      <th>4</th>\n",
       "      <td>4</td>\n",
       "      <td>Bicton Banter Lords</td>\n",
       "      <td>Melville Massiv</td>\n",
       "      <td>False</td>\n",
       "    </tr>\n",
       "  </tbody>\n",
       "</table>\n",
       "</div>"
      ],
      "text/plain": [
       "   Unnamed: 0                     Winteam              Lossteam IsDraw\n",
       "0           0  Shenton Park Speed Dealers  Karrakatta Grim Jobs  False\n",
       "1           1           Floreat Flamingos     Karrinyup Bandits  False\n",
       "2           2              GMLA Guardians           GMLA Angels  False\n",
       "3           3      South Perth Puckaneers     Bicton Bath Salts  False\n",
       "4           4         Bicton Banter Lords       Melville Massiv  False"
      ]
     },
     "execution_count": 71,
     "metadata": {},
     "output_type": "execute_result"
    }
   ],
   "source": [
    "winloss_2014b = pd.read_csv('winloss_2014b.csv')\n",
    "winloss_2014b.head()"
   ]
  },
  {
   "cell_type": "code",
   "execution_count": 80,
   "metadata": {
    "collapsed": false
   },
   "outputs": [
    {
     "data": {
      "text/plain": [
       "4             Bicton Banter Lords\n",
       "36              Bicton Bath Salts\n",
       "8            Brentwood Bushchooks\n",
       "17        Churchlands Hellraisers\n",
       "14       Claremont Cereal Killahs\n",
       "12                     Como Mo Co\n",
       "30         Cottesloe Clam Hunters\n",
       "34                Creepy Crawleys\n",
       "6                 Dianella Demons\n",
       "26           Dog Swamp Swamp Dogs\n",
       "22        Doubleview Double Yewws\n",
       "1               Floreat Flamingos\n",
       "42             Freo Fussy Puckers\n",
       "39                    GMLA Angels\n",
       "2                  GMLA Guardians\n",
       "13            GMLA Jurassic Pucks\n",
       "32            Gravel Road GrindRs\n",
       "23                Greenmount Doom\n",
       "38             Hillarys Humpbacks\n",
       "41             Hungry Spot Heroes\n",
       "33             Inglewood Coldcuts\n",
       "7                  Innaloo Pinguz\n",
       "18                  Innaloominati\n",
       "28           Karrakatta Grim Jobs\n",
       "25              Karrinyup Bandits\n",
       "40             Kensington Kermits\n",
       "11           Maylands Muthapuckas\n",
       "35                Melville Massiv\n",
       "9               Mindarie Molotovs\n",
       "21            Mosman Park Milkmen\n",
       "15           Mt Pleasant Mounties\n",
       "27                   Mullaloozers\n",
       "16       North Perth Bald Beavers\n",
       "5                      Ocean Beef\n",
       "10               Parkwood Benders\n",
       "29             Perth Glory-Holerz\n",
       "37             Scarbra Streisands\n",
       "0      Shenton Park Speed Dealers\n",
       "3          South Perth Puckaneers\n",
       "19              Subiaco Silkworms\n",
       "31    West Leederville Wobbegongs\n",
       "20        Whitfords City Wristies\n",
       "24                   Willo Wonkas\n",
       "dtype: object"
      ]
     },
     "execution_count": 80,
     "metadata": {},
     "output_type": "execute_result"
    }
   ],
   "source": [
    "x = Series(winloss_2014b['Winteam'].unique())\n",
    "y = Series(winloss_2014b['Lossteam'].unique())\n",
    "x=x.append(y)\n",
    "x=Series(x.unique())\n",
    "x.sort_values()"
   ]
  },
  {
   "cell_type": "code",
   "execution_count": 79,
   "metadata": {
    "collapsed": false
   },
   "outputs": [
    {
     "name": "stderr",
     "output_type": "stream",
     "text": [
      "C:\\Anaconda2\\lib\\site-packages\\ipykernel\\__main__.py:10: SettingWithCopyWarning: \n",
      "A value is trying to be set on a copy of a slice from a DataFrame\n",
      "\n",
      "See the caveats in the documentation: http://pandas.pydata.org/pandas-docs/stable/indexing.html#indexing-view-versus-copy\n",
      "C:\\Anaconda2\\lib\\site-packages\\ipykernel\\__main__.py:8: SettingWithCopyWarning: \n",
      "A value is trying to be set on a copy of a slice from a DataFrame\n",
      "\n",
      "See the caveats in the documentation: http://pandas.pydata.org/pandas-docs/stable/indexing.html#indexing-view-versus-copy\n",
      "C:\\Anaconda2\\lib\\site-packages\\ipykernel\\__main__.py:3: SettingWithCopyWarning: \n",
      "A value is trying to be set on a copy of a slice from a DataFrame\n",
      "\n",
      "See the caveats in the documentation: http://pandas.pydata.org/pandas-docs/stable/indexing.html#indexing-view-versus-copy\n",
      "  app.launch_new_instance()\n",
      "C:\\Anaconda2\\lib\\site-packages\\ipykernel\\__main__.py:15: SettingWithCopyWarning: \n",
      "A value is trying to be set on a copy of a slice from a DataFrame\n",
      "\n",
      "See the caveats in the documentation: http://pandas.pydata.org/pandas-docs/stable/indexing.html#indexing-view-versus-copy\n",
      "C:\\Anaconda2\\lib\\site-packages\\ipykernel\\__main__.py:18: SettingWithCopyWarning: \n",
      "A value is trying to be set on a copy of a slice from a DataFrame\n",
      "\n",
      "See the caveats in the documentation: http://pandas.pydata.org/pandas-docs/stable/indexing.html#indexing-view-versus-copy\n"
     ]
    }
   ],
   "source": [
    "for i in range(0,len(winloss_2014b)):\n",
    "    if winloss_2014b[\"Winteam\"][i] == \"HIllarys Humpbacks\":\n",
    "        winloss_2014b['Winteam'][i] = \"Hillarys Humpbacks\"\n",
    "    if winloss_2014b[\"Lossteam\"][i] == \"HIllarys Humpbacks\":\n",
    "        winloss_2014b['Lossteam'][i] = \"Hillarys Humpbacks\"\n",
    "        \n",
    "    if winloss_2014b[\"Winteam\"][i] == \"Inglewood ColdCuts\":\n",
    "        winloss_2014b['Winteam'][i] = \"Inglewood Coldcuts\"\n",
    "    if winloss_2014b[\"Lossteam\"][i] == \"Inglewood ColdCuts\":\n",
    "        winloss_2014b['Lossteam'][i] = \"Inglewood Coldcuts\"\n",
    "        \n",
    "    if winloss_2014b[\"Winteam\"][i] == \"Mosman Park MIlkmen\":\n",
    "        winloss_2014b['Winteam'][i] = \"Mosman Park Milkmen\"\n",
    "    if winloss_2014b[\"Lossteam\"][i] == \"Mosman Park MIlkmen\":\n",
    "        winloss_2014b['Lossteam'][i] = \"Mosman Park Milkmen\"\n",
    "\n",
    "    if winloss_2014b[\"Winteam\"][i] == \"Subiaco SIlkworms\":\n",
    "        winloss_2014b['Winteam'][i] = \"Subiaco Silkworms\"\n",
    "    if winloss_2014b[\"Lossteam\"][i] == \"Subiaco SIlkworms\":\n",
    "        winloss_2014b['Lossteam'][i] = \"Subiaco Silkworms\""
   ]
  },
  {
   "cell_type": "code",
   "execution_count": 81,
   "metadata": {
    "collapsed": true
   },
   "outputs": [],
   "source": [
    "winloss_2014b.to_csv('winloss_2014b.csv')"
   ]
  },
  {
   "cell_type": "code",
   "execution_count": null,
   "metadata": {
    "collapsed": true
   },
   "outputs": [],
   "source": []
  }
 ],
 "metadata": {
  "kernelspec": {
   "display_name": "Python 2",
   "language": "python",
   "name": "python2"
  },
  "language_info": {
   "codemirror_mode": {
    "name": "ipython",
    "version": 2
   },
   "file_extension": ".py",
   "mimetype": "text/x-python",
   "name": "python",
   "nbconvert_exporter": "python",
   "pygments_lexer": "ipython2",
   "version": "2.7.11"
  }
 },
 "nbformat": 4,
 "nbformat_minor": 0
}
