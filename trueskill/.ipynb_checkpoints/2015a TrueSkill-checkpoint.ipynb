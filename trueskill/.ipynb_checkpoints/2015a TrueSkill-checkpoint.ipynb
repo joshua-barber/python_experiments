{
 "cells": [
  {
   "cell_type": "code",
   "execution_count": 30,
   "metadata": {
    "collapsed": true
   },
   "outputs": [],
   "source": [
    "import pandas as pd\n",
    "import numpy as np\n",
    "import trueskill\n",
    "\n",
    "from pandas import Series, DataFrame\n",
    "\n",
    "from trueskill import Rating, quality_1vs1, rate_1vs1"
   ]
  },
  {
   "cell_type": "code",
   "execution_count": 31,
   "metadata": {
    "collapsed": false
   },
   "outputs": [
    {
     "data": {
      "text/html": [
       "<div>\n",
       "<table border=\"1\" class=\"dataframe\">\n",
       "  <thead>\n",
       "    <tr style=\"text-align: right;\">\n",
       "      <th></th>\n",
       "      <th>Unnamed: 0</th>\n",
       "      <th>IsDraw</th>\n",
       "      <th>Winteam</th>\n",
       "      <th>Lossteam</th>\n",
       "      <th>gameplayed</th>\n",
       "    </tr>\n",
       "  </thead>\n",
       "  <tbody>\n",
       "    <tr>\n",
       "      <th>0</th>\n",
       "      <td>0</td>\n",
       "      <td>False</td>\n",
       "      <td>chick park</td>\n",
       "      <td>applecross dressers</td>\n",
       "      <td>1</td>\n",
       "    </tr>\n",
       "    <tr>\n",
       "      <th>1</th>\n",
       "      <td>1</td>\n",
       "      <td>False</td>\n",
       "      <td>fremantle cappuccino strippers</td>\n",
       "      <td>cottesloe's hottest hoes</td>\n",
       "      <td>1</td>\n",
       "    </tr>\n",
       "    <tr>\n",
       "      <th>2</th>\n",
       "      <td>2</td>\n",
       "      <td>False</td>\n",
       "      <td>nedlands yung puccbois</td>\n",
       "      <td>dalkeith dalqueefs</td>\n",
       "      <td>1</td>\n",
       "    </tr>\n",
       "    <tr>\n",
       "      <th>3</th>\n",
       "      <td>3</td>\n",
       "      <td>False</td>\n",
       "      <td>perth on heat</td>\n",
       "      <td>attafail whales</td>\n",
       "      <td>1</td>\n",
       "    </tr>\n",
       "    <tr>\n",
       "      <th>4</th>\n",
       "      <td>4</td>\n",
       "      <td>True</td>\n",
       "      <td>bicton bath salts</td>\n",
       "      <td>south perth puckaneers</td>\n",
       "      <td>1</td>\n",
       "    </tr>\n",
       "  </tbody>\n",
       "</table>\n",
       "</div>"
      ],
      "text/plain": [
       "   Unnamed: 0 IsDraw                         Winteam  \\\n",
       "0           0  False                      chick park   \n",
       "1           1  False  fremantle cappuccino strippers   \n",
       "2           2  False          nedlands yung puccbois   \n",
       "3           3  False                   perth on heat   \n",
       "4           4   True               bicton bath salts   \n",
       "\n",
       "                   Lossteam  gameplayed  \n",
       "0       applecross dressers           1  \n",
       "1  cottesloe's hottest hoes           1  \n",
       "2        dalkeith dalqueefs           1  \n",
       "3           attafail whales           1  \n",
       "4    south perth puckaneers           1  "
      ]
     },
     "execution_count": 31,
     "metadata": {},
     "output_type": "execute_result"
    }
   ],
   "source": [
    "winloss = pd.read_csv('winloss 2015a.csv')\n",
    "winloss.head()"
   ]
  },
  {
   "cell_type": "code",
   "execution_count": 32,
   "metadata": {
    "collapsed": false
   },
   "outputs": [
    {
     "name": "stdout",
     "output_type": "stream",
     "text": [
      "0                        chick park\n",
      "1    fremantle cappuccino strippers\n",
      "2            nedlands yung puccbois\n",
      "3                     perth on heat\n",
      "4                 bicton bath salts\n",
      "dtype: object\n",
      "65 teams\n"
     ]
    }
   ],
   "source": [
    "winteams = Series(winloss['Winteam'].unique())\n",
    "lossteams = Series(winloss['Lossteam'].unique())\n",
    "teams = winteams\n",
    "teams = teams.append(lossteams)\n",
    "teams = Series(teams.unique())\n",
    "print(teams.head())\n",
    "print len(teams), \"teams\""
   ]
  },
  {
   "cell_type": "code",
   "execution_count": 33,
   "metadata": {
    "collapsed": false
   },
   "outputs": [
    {
     "data": {
      "text/plain": [
       "{nan: trueskill.Rating(mu=25.000, sigma=8.333),\n",
       " '50 shades of graylands': trueskill.Rating(mu=25.000, sigma=8.333),\n",
       " 'applecross dressers': trueskill.Rating(mu=25.000, sigma=8.333),\n",
       " 'attafail whales': trueskill.Rating(mu=25.000, sigma=8.333),\n",
       " 'balcatta bandits': trueskill.Rating(mu=25.000, sigma=8.333),\n",
       " 'bicton banter lords': trueskill.Rating(mu=25.000, sigma=8.333),\n",
       " 'bicton bath salts': trueskill.Rating(mu=25.000, sigma=8.333),\n",
       " 'booragoonbags': trueskill.Rating(mu=25.000, sigma=8.333),\n",
       " 'bull creek buttchuggers': trueskill.Rating(mu=25.000, sigma=8.333),\n",
       " 'chick park': trueskill.Rating(mu=25.000, sigma=8.333),\n",
       " 'churchlands hellraisers': trueskill.Rating(mu=25.000, sigma=8.333),\n",
       " 'city beach groins': trueskill.Rating(mu=25.000, sigma=8.333),\n",
       " 'city beach kooks': trueskill.Rating(mu=25.000, sigma=8.333),\n",
       " 'claremont cereal killahs': trueskill.Rating(mu=25.000, sigma=8.333),\n",
       " 'como at me bro': trueskill.Rating(mu=25.000, sigma=8.333),\n",
       " 'como mo co': trueskill.Rating(mu=25.000, sigma=8.333),\n",
       " \"cottesloe's hottest hoes\": trueskill.Rating(mu=25.000, sigma=8.333),\n",
       " 'cotteslowbros': trueskill.Rating(mu=25.000, sigma=8.333),\n",
       " 'creepy crawleys': trueskill.Rating(mu=25.000, sigma=8.333),\n",
       " 'daglish dhe moisties': trueskill.Rating(mu=25.000, sigma=8.333),\n",
       " 'dalkeith dalqueefs': trueskill.Rating(mu=25.000, sigma=8.333),\n",
       " 'dianella demons': trueskill.Rating(mu=25.000, sigma=8.333),\n",
       " 'dog swamp swamp dogs': trueskill.Rating(mu=25.000, sigma=8.333),\n",
       " 'doubleview double yewws': trueskill.Rating(mu=25.000, sigma=8.333),\n",
       " 'fremantle cappuccino strippers': trueskill.Rating(mu=25.000, sigma=8.333),\n",
       " 'freo fussy puckers': trueskill.Rating(mu=25.000, sigma=8.333),\n",
       " 'gmla angels': trueskill.Rating(mu=25.000, sigma=8.333),\n",
       " 'gmla guardians': trueskill.Rating(mu=25.000, sigma=8.333),\n",
       " 'gmla jurassic pucks': trueskill.Rating(mu=25.000, sigma=8.333),\n",
       " 'greenmount doom': trueskill.Rating(mu=25.000, sigma=8.333),\n",
       " 'hillarys humpbacks': trueskill.Rating(mu=25.000, sigma=8.333),\n",
       " 'hungry spot heroes': trueskill.Rating(mu=25.000, sigma=8.333),\n",
       " 'inglewood coldcuts': trueskill.Rating(mu=25.000, sigma=8.333),\n",
       " 'innaloominati': trueskill.Rating(mu=25.000, sigma=8.333),\n",
       " 'karrakatta grim jobs': trueskill.Rating(mu=25.000, sigma=8.333),\n",
       " 'kensington kermits': trueskill.Rating(mu=25.000, sigma=8.333),\n",
       " 'lake mongrels': trueskill.Rating(mu=25.000, sigma=8.333),\n",
       " 'leederphiles rolferhockey': trueskill.Rating(mu=25.000, sigma=8.333),\n",
       " 'maylands muthapuckas': trueskill.Rating(mu=25.000, sigma=8.333),\n",
       " 'melville massiv': trueskill.Rating(mu=25.000, sigma=8.333),\n",
       " 'mindarie molotovs': trueskill.Rating(mu=25.000, sigma=8.333),\n",
       " 'mosman mooseknuckles': trueskill.Rating(mu=25.000, sigma=8.333),\n",
       " 'mount lawless': trueskill.Rating(mu=25.000, sigma=8.333),\n",
       " 'mt lawley chai lattes': trueskill.Rating(mu=25.000, sigma=8.333),\n",
       " 'mt pleasant mounties': trueskill.Rating(mu=25.000, sigma=8.333),\n",
       " 'mullaloozers': trueskill.Rating(mu=25.000, sigma=8.333),\n",
       " 'nedlands yung puccbois': trueskill.Rating(mu=25.000, sigma=8.333),\n",
       " 'north perth bald beavers': trueskill.Rating(mu=25.000, sigma=8.333),\n",
       " 'ocean beef': trueskill.Rating(mu=25.000, sigma=8.333),\n",
       " 'perth glory holez': trueskill.Rating(mu=25.000, sigma=8.333),\n",
       " 'perth on heat': trueskill.Rating(mu=25.000, sigma=8.333),\n",
       " 'rosemount rinsers': trueskill.Rating(mu=25.000, sigma=8.333),\n",
       " 'scarbra streisands': trueskill.Rating(mu=25.000, sigma=8.333),\n",
       " 'shenton park speed dealers': trueskill.Rating(mu=25.000, sigma=8.333),\n",
       " 'south perth puckaneers': trueskill.Rating(mu=25.000, sigma=8.333),\n",
       " 'subiaco silkworms': trueskill.Rating(mu=25.000, sigma=8.333),\n",
       " 'swanbourne nudists': trueskill.Rating(mu=25.000, sigma=8.333),\n",
       " 'wembley blue light discos': trueskill.Rating(mu=25.000, sigma=8.333),\n",
       " 'wembley food caughts': trueskill.Rating(mu=25.000, sigma=8.333),\n",
       " 'wembley food courts': trueskill.Rating(mu=25.000, sigma=8.333),\n",
       " 'west coast spastic eagles': trueskill.Rating(mu=25.000, sigma=8.333),\n",
       " 'west stirling banjo breakers': trueskill.Rating(mu=25.000, sigma=8.333),\n",
       " 'whitfords city wristies': trueskill.Rating(mu=25.000, sigma=8.333),\n",
       " 'whorebin grovers': trueskill.Rating(mu=25.000, sigma=8.333),\n",
       " 'willo wonkas': trueskill.Rating(mu=25.000, sigma=8.333)}"
      ]
     },
     "execution_count": 33,
     "metadata": {},
     "output_type": "execute_result"
    }
   ],
   "source": [
    "skill = {name:Rating() for name in teams}\n",
    "skill"
   ]
  },
  {
   "cell_type": "code",
   "execution_count": 34,
   "metadata": {
    "collapsed": false
   },
   "outputs": [
    {
     "name": "stderr",
     "output_type": "stream",
     "text": [
      "C:\\Anaconda2\\lib\\site-packages\\ipykernel\\__main__.py:7: SettingWithCopyWarning: \n",
      "A value is trying to be set on a copy of a slice from a DataFrame\n",
      "\n",
      "See the caveats in the documentation: http://pandas.pydata.org/pandas-docs/stable/indexing.html#indexing-view-versus-copy\n"
     ]
    },
    {
     "data": {
      "text/html": [
       "<div>\n",
       "<table border=\"1\" class=\"dataframe\">\n",
       "  <thead>\n",
       "    <tr style=\"text-align: right;\">\n",
       "      <th></th>\n",
       "      <th>Unnamed: 0</th>\n",
       "      <th>Team</th>\n",
       "      <th>Rating</th>\n",
       "      <th>Estimated Rating</th>\n",
       "      <th>mu</th>\n",
       "      <th>sigma</th>\n",
       "    </tr>\n",
       "  </thead>\n",
       "  <tbody>\n",
       "    <tr>\n",
       "      <th>0</th>\n",
       "      <td>0</td>\n",
       "      <td>whitfords city wristies</td>\n",
       "      <td>trueskill.Rating(mu=22.211, sigma=3.363)</td>\n",
       "      <td>12.121669</td>\n",
       "      <td>22.210969</td>\n",
       "      <td>3.363100</td>\n",
       "    </tr>\n",
       "    <tr>\n",
       "      <th>1</th>\n",
       "      <td>1</td>\n",
       "      <td>greenmount doom</td>\n",
       "      <td>trueskill.Rating(mu=33.752, sigma=3.518)</td>\n",
       "      <td>23.198186</td>\n",
       "      <td>33.752196</td>\n",
       "      <td>3.518004</td>\n",
       "    </tr>\n",
       "    <tr>\n",
       "      <th>2</th>\n",
       "      <td>2</td>\n",
       "      <td>innaloo pinguz</td>\n",
       "      <td>trueskill.Rating(mu=20.003, sigma=4.917)</td>\n",
       "      <td>5.252616</td>\n",
       "      <td>20.002770</td>\n",
       "      <td>4.916718</td>\n",
       "    </tr>\n",
       "    <tr>\n",
       "      <th>3</th>\n",
       "      <td>3</td>\n",
       "      <td>mosman park milkmen</td>\n",
       "      <td>trueskill.Rating(mu=25.650, sigma=3.863)</td>\n",
       "      <td>14.061887</td>\n",
       "      <td>25.650328</td>\n",
       "      <td>3.862814</td>\n",
       "    </tr>\n",
       "    <tr>\n",
       "      <th>4</th>\n",
       "      <td>4</td>\n",
       "      <td>mullaloozers</td>\n",
       "      <td>trueskill.Rating(mu=25.307, sigma=3.030)</td>\n",
       "      <td>16.215915</td>\n",
       "      <td>25.306755</td>\n",
       "      <td>3.030280</td>\n",
       "    </tr>\n",
       "  </tbody>\n",
       "</table>\n",
       "</div>"
      ],
      "text/plain": [
       "   Unnamed: 0                     Team  \\\n",
       "0           0  whitfords city wristies   \n",
       "1           1          greenmount doom   \n",
       "2           2           innaloo pinguz   \n",
       "3           3      mosman park milkmen   \n",
       "4           4             mullaloozers   \n",
       "\n",
       "                                     Rating  Estimated Rating         mu  \\\n",
       "0  trueskill.Rating(mu=22.211, sigma=3.363)         12.121669  22.210969   \n",
       "1  trueskill.Rating(mu=33.752, sigma=3.518)         23.198186  33.752196   \n",
       "2  trueskill.Rating(mu=20.003, sigma=4.917)          5.252616  20.002770   \n",
       "3  trueskill.Rating(mu=25.650, sigma=3.863)         14.061887  25.650328   \n",
       "4  trueskill.Rating(mu=25.307, sigma=3.030)         16.215915  25.306755   \n",
       "\n",
       "      sigma  \n",
       "0  3.363100  \n",
       "1  3.518004  \n",
       "2  4.916718  \n",
       "3  3.862814  \n",
       "4  3.030280  "
      ]
     },
     "execution_count": 34,
     "metadata": {},
     "output_type": "execute_result"
    }
   ],
   "source": [
    "# When you read the ratings, the Rating column is stored as text\n",
    "# Need to do this to change them all back to rating objects\n",
    "\n",
    "ratings_past = pd.read_csv('skill ratings 2014b.csv')\n",
    "for i in range(0,len(ratings_past)):\n",
    "               ratings_past['Rating'][i] = Rating(mu=ratings_past['mu'][i],\n",
    "                                                  sigma=ratings_past['sigma'][i])\n",
    "ratings_past.head()"
   ]
  },
  {
   "cell_type": "code",
   "execution_count": 35,
   "metadata": {
    "collapsed": false
   },
   "outputs": [],
   "source": [
    "ratings_past = ratings_past.drop(ratings_past.columns[[0,3,4,5]],axis=1)\n",
    "ratings_past.set_index('Team')['Rating'].to_dict()"
   ]
  },
  {
   "cell_type": "code",
   "execution_count": 40,
   "metadata": {
    "collapsed": false
   },
   "outputs": [
    {
     "data": {
      "text/plain": [
       "{'bicton banter lords': trueskill.Rating(mu=29.349, sigma=3.545),\n",
       " 'bicton bath salts': trueskill.Rating(mu=26.548, sigma=3.152),\n",
       " 'brentwood bushchooks': trueskill.Rating(mu=40.001, sigma=4.362),\n",
       " 'churchlands hellraisers': trueskill.Rating(mu=26.983, sigma=3.160),\n",
       " 'claremont cereal killahs': trueskill.Rating(mu=21.929, sigma=3.260),\n",
       " 'como mo co': trueskill.Rating(mu=30.845, sigma=3.474),\n",
       " 'cottesloe clam hunters': trueskill.Rating(mu=32.010, sigma=3.351),\n",
       " 'creepy crawleys': trueskill.Rating(mu=25.125, sigma=3.465),\n",
       " 'dianella demons': trueskill.Rating(mu=25.697, sigma=3.556),\n",
       " 'dog swamp swamp dogs': trueskill.Rating(mu=26.846, sigma=3.708),\n",
       " 'doubleview double yewws': trueskill.Rating(mu=30.858, sigma=3.740),\n",
       " 'floreat flamingos': trueskill.Rating(mu=20.390, sigma=3.397),\n",
       " 'freo fussy puckers': trueskill.Rating(mu=16.085, sigma=3.485),\n",
       " 'gmla angels': trueskill.Rating(mu=25.006, sigma=3.888),\n",
       " 'gmla guardians': trueskill.Rating(mu=34.383, sigma=3.797),\n",
       " 'gmla jurassic pucks': trueskill.Rating(mu=13.342, sigma=3.740),\n",
       " 'gravel road grindrs': trueskill.Rating(mu=18.198, sigma=3.329),\n",
       " 'greenmount doom': trueskill.Rating(mu=33.752, sigma=3.518),\n",
       " 'hillarys humpbacks': trueskill.Rating(mu=22.360, sigma=3.446),\n",
       " 'hungry spot heroes': trueskill.Rating(mu=22.985, sigma=3.286),\n",
       " 'inglewood coldcuts': trueskill.Rating(mu=15.310, sigma=3.303),\n",
       " 'innaloo pinguz': trueskill.Rating(mu=20.003, sigma=4.917),\n",
       " 'innaloominati': trueskill.Rating(mu=20.492, sigma=3.547),\n",
       " 'karrakatta grim jobs': trueskill.Rating(mu=27.055, sigma=3.275),\n",
       " 'karrinyup bandits': trueskill.Rating(mu=29.301, sigma=3.073),\n",
       " 'kensington kermits': trueskill.Rating(mu=20.678, sigma=3.280),\n",
       " 'maylands muthapuckas': trueskill.Rating(mu=22.997, sigma=3.025),\n",
       " 'melville massiv': trueskill.Rating(mu=23.481, sigma=3.488),\n",
       " 'mindarie molotovs': trueskill.Rating(mu=32.023, sigma=3.923),\n",
       " 'mosman park milkmen': trueskill.Rating(mu=25.650, sigma=3.863),\n",
       " 'mt pleasant mounties': trueskill.Rating(mu=31.615, sigma=3.457),\n",
       " 'mullaloozers': trueskill.Rating(mu=25.307, sigma=3.030),\n",
       " 'north perth bald beavers': trueskill.Rating(mu=19.488, sigma=3.177),\n",
       " 'ocean beef': trueskill.Rating(mu=22.951, sigma=3.266),\n",
       " 'parkwood benders': trueskill.Rating(mu=25.659, sigma=3.724),\n",
       " 'perth glory-holerz': trueskill.Rating(mu=18.270, sigma=3.834),\n",
       " 'scarbra streisands': trueskill.Rating(mu=31.195, sigma=3.540),\n",
       " 'shenton park speed dealers': trueskill.Rating(mu=27.469, sigma=3.569),\n",
       " 'south perth puckaneers': trueskill.Rating(mu=22.996, sigma=3.285),\n",
       " 'subiaco silkworms': trueskill.Rating(mu=25.607, sigma=3.271),\n",
       " 'west leederville wobbegongs': trueskill.Rating(mu=26.873, sigma=3.605),\n",
       " 'whitfords city wristies': trueskill.Rating(mu=22.211, sigma=3.363),\n",
       " 'willo wonkas': trueskill.Rating(mu=23.397, sigma=3.215)}"
      ]
     },
     "execution_count": 40,
     "metadata": {},
     "output_type": "execute_result"
    }
   ],
   "source": [
    "oldratings=ratings_past.set_index('Team')['Rating'].to_dict()\n",
    "oldratings"
   ]
  },
  {
   "cell_type": "code",
   "execution_count": 42,
   "metadata": {
    "collapsed": false
   },
   "outputs": [
    {
     "data": {
      "text/plain": [
       "{nan: trueskill.Rating(mu=25.000, sigma=8.333),\n",
       " '50 shades of graylands': trueskill.Rating(mu=25.000, sigma=8.333),\n",
       " 'applecross dressers': trueskill.Rating(mu=25.000, sigma=8.333),\n",
       " 'attafail whales': trueskill.Rating(mu=25.000, sigma=8.333),\n",
       " 'balcatta bandits': trueskill.Rating(mu=25.000, sigma=8.333),\n",
       " 'bicton banter lords': trueskill.Rating(mu=29.349, sigma=3.545),\n",
       " 'bicton bath salts': trueskill.Rating(mu=26.548, sigma=3.152),\n",
       " 'booragoonbags': trueskill.Rating(mu=25.000, sigma=8.333),\n",
       " 'brentwood bushchooks': trueskill.Rating(mu=40.001, sigma=4.362),\n",
       " 'bull creek buttchuggers': trueskill.Rating(mu=25.000, sigma=8.333),\n",
       " 'chick park': trueskill.Rating(mu=25.000, sigma=8.333),\n",
       " 'churchlands hellraisers': trueskill.Rating(mu=26.983, sigma=3.160),\n",
       " 'city beach groins': trueskill.Rating(mu=25.000, sigma=8.333),\n",
       " 'city beach kooks': trueskill.Rating(mu=25.000, sigma=8.333),\n",
       " 'claremont cereal killahs': trueskill.Rating(mu=21.929, sigma=3.260),\n",
       " 'como at me bro': trueskill.Rating(mu=25.000, sigma=8.333),\n",
       " 'como mo co': trueskill.Rating(mu=30.845, sigma=3.474),\n",
       " 'cottesloe clam hunters': trueskill.Rating(mu=32.010, sigma=3.351),\n",
       " \"cottesloe's hottest hoes\": trueskill.Rating(mu=25.000, sigma=8.333),\n",
       " 'cotteslowbros': trueskill.Rating(mu=25.000, sigma=8.333),\n",
       " 'creepy crawleys': trueskill.Rating(mu=25.125, sigma=3.465),\n",
       " 'daglish dhe moisties': trueskill.Rating(mu=25.000, sigma=8.333),\n",
       " 'dalkeith dalqueefs': trueskill.Rating(mu=25.000, sigma=8.333),\n",
       " 'dianella demons': trueskill.Rating(mu=25.697, sigma=3.556),\n",
       " 'dog swamp swamp dogs': trueskill.Rating(mu=26.846, sigma=3.708),\n",
       " 'doubleview double yewws': trueskill.Rating(mu=30.858, sigma=3.740),\n",
       " 'floreat flamingos': trueskill.Rating(mu=20.390, sigma=3.397),\n",
       " 'fremantle cappuccino strippers': trueskill.Rating(mu=25.000, sigma=8.333),\n",
       " 'freo fussy puckers': trueskill.Rating(mu=16.085, sigma=3.485),\n",
       " 'gmla angels': trueskill.Rating(mu=25.006, sigma=3.888),\n",
       " 'gmla guardians': trueskill.Rating(mu=34.383, sigma=3.797),\n",
       " 'gmla jurassic pucks': trueskill.Rating(mu=13.342, sigma=3.740),\n",
       " 'gravel road grindrs': trueskill.Rating(mu=18.198, sigma=3.329),\n",
       " 'greenmount doom': trueskill.Rating(mu=33.752, sigma=3.518),\n",
       " 'hillarys humpbacks': trueskill.Rating(mu=22.360, sigma=3.446),\n",
       " 'hungry spot heroes': trueskill.Rating(mu=22.985, sigma=3.286),\n",
       " 'inglewood coldcuts': trueskill.Rating(mu=15.310, sigma=3.303),\n",
       " 'innaloo pinguz': trueskill.Rating(mu=20.003, sigma=4.917),\n",
       " 'innaloominati': trueskill.Rating(mu=20.492, sigma=3.547),\n",
       " 'karrakatta grim jobs': trueskill.Rating(mu=27.055, sigma=3.275),\n",
       " 'karrinyup bandits': trueskill.Rating(mu=29.301, sigma=3.073),\n",
       " 'kensington kermits': trueskill.Rating(mu=20.678, sigma=3.280),\n",
       " 'lake mongrels': trueskill.Rating(mu=25.000, sigma=8.333),\n",
       " 'leederphiles rolferhockey': trueskill.Rating(mu=25.000, sigma=8.333),\n",
       " 'maylands muthapuckas': trueskill.Rating(mu=22.997, sigma=3.025),\n",
       " 'melville massiv': trueskill.Rating(mu=23.481, sigma=3.488),\n",
       " 'mindarie molotovs': trueskill.Rating(mu=32.023, sigma=3.923),\n",
       " 'mosman mooseknuckles': trueskill.Rating(mu=25.000, sigma=8.333),\n",
       " 'mosman park milkmen': trueskill.Rating(mu=25.650, sigma=3.863),\n",
       " 'mount lawless': trueskill.Rating(mu=25.000, sigma=8.333),\n",
       " 'mt lawley chai lattes': trueskill.Rating(mu=25.000, sigma=8.333),\n",
       " 'mt pleasant mounties': trueskill.Rating(mu=31.615, sigma=3.457),\n",
       " 'mullaloozers': trueskill.Rating(mu=25.307, sigma=3.030),\n",
       " 'nedlands yung puccbois': trueskill.Rating(mu=25.000, sigma=8.333),\n",
       " 'north perth bald beavers': trueskill.Rating(mu=19.488, sigma=3.177),\n",
       " 'ocean beef': trueskill.Rating(mu=22.951, sigma=3.266),\n",
       " 'parkwood benders': trueskill.Rating(mu=25.659, sigma=3.724),\n",
       " 'perth glory holez': trueskill.Rating(mu=25.000, sigma=8.333),\n",
       " 'perth glory-holerz': trueskill.Rating(mu=18.270, sigma=3.834),\n",
       " 'perth on heat': trueskill.Rating(mu=25.000, sigma=8.333),\n",
       " 'rosemount rinsers': trueskill.Rating(mu=25.000, sigma=8.333),\n",
       " 'scarbra streisands': trueskill.Rating(mu=31.195, sigma=3.540),\n",
       " 'shenton park speed dealers': trueskill.Rating(mu=27.469, sigma=3.569),\n",
       " 'south perth puckaneers': trueskill.Rating(mu=22.996, sigma=3.285),\n",
       " 'subiaco silkworms': trueskill.Rating(mu=25.607, sigma=3.271),\n",
       " 'swanbourne nudists': trueskill.Rating(mu=25.000, sigma=8.333),\n",
       " 'wembley blue light discos': trueskill.Rating(mu=25.000, sigma=8.333),\n",
       " 'wembley food caughts': trueskill.Rating(mu=25.000, sigma=8.333),\n",
       " 'wembley food courts': trueskill.Rating(mu=25.000, sigma=8.333),\n",
       " 'west coast spastic eagles': trueskill.Rating(mu=25.000, sigma=8.333),\n",
       " 'west leederville wobbegongs': trueskill.Rating(mu=26.873, sigma=3.605),\n",
       " 'west stirling banjo breakers': trueskill.Rating(mu=25.000, sigma=8.333),\n",
       " 'whitfords city wristies': trueskill.Rating(mu=22.211, sigma=3.363),\n",
       " 'whorebin grovers': trueskill.Rating(mu=25.000, sigma=8.333),\n",
       " 'willo wonkas': trueskill.Rating(mu=23.397, sigma=3.215)}"
      ]
     },
     "execution_count": 42,
     "metadata": {},
     "output_type": "execute_result"
    }
   ],
   "source": [
    "# Get the old ratings and the ratings for the new teams\n",
    "# Merge the two\n",
    "mergedratings = skill.copy()\n",
    "mergedratings.update(oldratings)\n",
    "mergedratings"
   ]
  },
  {
   "cell_type": "code",
   "execution_count": 43,
   "metadata": {
    "collapsed": false
   },
   "outputs": [
    {
     "data": {
      "text/plain": [
       "{nan: trueskill.Rating(mu=20.604, sigma=7.171),\n",
       " '50 shades of graylands': trueskill.Rating(mu=24.476, sigma=2.606),\n",
       " 'applecross dressers': trueskill.Rating(mu=13.974, sigma=2.585),\n",
       " 'attafail whales': trueskill.Rating(mu=10.603, sigma=3.294),\n",
       " 'balcatta bandits': trueskill.Rating(mu=33.080, sigma=2.447),\n",
       " 'bicton banter lords': trueskill.Rating(mu=34.560, sigma=2.127),\n",
       " 'bicton bath salts': trueskill.Rating(mu=24.314, sigma=2.003),\n",
       " 'booragoonbags': trueskill.Rating(mu=17.605, sigma=2.696),\n",
       " 'brentwood bushchooks': trueskill.Rating(mu=40.001, sigma=4.362),\n",
       " 'bull creek buttchuggers': trueskill.Rating(mu=21.034, sigma=2.352),\n",
       " 'chick park': trueskill.Rating(mu=18.955, sigma=2.683),\n",
       " 'churchlands hellraisers': trueskill.Rating(mu=27.479, sigma=1.982),\n",
       " 'city beach groins': trueskill.Rating(mu=25.263, sigma=2.577),\n",
       " 'city beach kooks': trueskill.Rating(mu=22.450, sigma=2.481),\n",
       " 'claremont cereal killahs': trueskill.Rating(mu=23.860, sigma=2.022),\n",
       " 'como at me bro': trueskill.Rating(mu=20.280, sigma=2.953),\n",
       " 'como mo co': trueskill.Rating(mu=35.548, sigma=2.289),\n",
       " 'cottesloe clam hunters': trueskill.Rating(mu=32.010, sigma=3.351),\n",
       " \"cottesloe's hottest hoes\": trueskill.Rating(mu=16.417, sigma=2.760),\n",
       " 'cotteslowbros': trueskill.Rating(mu=24.735, sigma=2.476),\n",
       " 'creepy crawleys': trueskill.Rating(mu=17.750, sigma=2.089),\n",
       " 'daglish dhe moisties': trueskill.Rating(mu=28.638, sigma=2.570),\n",
       " 'dalkeith dalqueefs': trueskill.Rating(mu=14.439, sigma=2.762),\n",
       " 'dianella demons': trueskill.Rating(mu=27.539, sigma=2.106),\n",
       " 'dog swamp swamp dogs': trueskill.Rating(mu=26.602, sigma=2.125),\n",
       " 'doubleview double yewws': trueskill.Rating(mu=26.726, sigma=2.101),\n",
       " 'floreat flamingos': trueskill.Rating(mu=20.390, sigma=3.397),\n",
       " 'fremantle cappuccino strippers': trueskill.Rating(mu=20.322, sigma=2.677),\n",
       " 'freo fussy puckers': trueskill.Rating(mu=21.330, sigma=2.487),\n",
       " 'gmla angels': trueskill.Rating(mu=27.633, sigma=2.140),\n",
       " 'gmla guardians': trueskill.Rating(mu=35.295, sigma=2.314),\n",
       " 'gmla jurassic pucks': trueskill.Rating(mu=19.426, sigma=2.232),\n",
       " 'gravel road grindrs': trueskill.Rating(mu=18.198, sigma=3.329),\n",
       " 'greenmount doom': trueskill.Rating(mu=30.973, sigma=2.182),\n",
       " 'hillarys humpbacks': trueskill.Rating(mu=26.545, sigma=2.020),\n",
       " 'hungry spot heroes': trueskill.Rating(mu=23.275, sigma=1.939),\n",
       " 'inglewood coldcuts': trueskill.Rating(mu=19.039, sigma=2.178),\n",
       " 'innaloo pinguz': trueskill.Rating(mu=20.003, sigma=4.917),\n",
       " 'innaloominati': trueskill.Rating(mu=23.298, sigma=2.154),\n",
       " 'karrakatta grim jobs': trueskill.Rating(mu=26.808, sigma=2.074),\n",
       " 'karrinyup bandits': trueskill.Rating(mu=29.301, sigma=3.073),\n",
       " 'kensington kermits': trueskill.Rating(mu=22.995, sigma=2.081),\n",
       " 'lake mongrels': trueskill.Rating(mu=26.909, sigma=2.419),\n",
       " 'leederphiles rolferhockey': trueskill.Rating(mu=24.348, sigma=2.664),\n",
       " 'maylands muthapuckas': trueskill.Rating(mu=22.701, sigma=1.996),\n",
       " 'melville massiv': trueskill.Rating(mu=30.186, sigma=2.047),\n",
       " 'mindarie molotovs': trueskill.Rating(mu=33.721, sigma=2.226),\n",
       " 'mosman mooseknuckles': trueskill.Rating(mu=33.384, sigma=2.815),\n",
       " 'mosman park milkmen': trueskill.Rating(mu=25.650, sigma=3.863),\n",
       " 'mount lawless': trueskill.Rating(mu=30.639, sigma=2.464),\n",
       " 'mt lawley chai lattes': trueskill.Rating(mu=15.742, sigma=2.779),\n",
       " 'mt pleasant mounties': trueskill.Rating(mu=30.251, sigma=2.182),\n",
       " 'mullaloozers': trueskill.Rating(mu=24.781, sigma=1.983),\n",
       " 'nedlands yung puccbois': trueskill.Rating(mu=22.714, sigma=2.607),\n",
       " 'north perth bald beavers': trueskill.Rating(mu=25.909, sigma=2.114),\n",
       " 'ocean beef': trueskill.Rating(mu=26.979, sigma=2.082),\n",
       " 'parkwood benders': trueskill.Rating(mu=25.659, sigma=3.724),\n",
       " 'perth glory holez': trueskill.Rating(mu=18.120, sigma=2.555),\n",
       " 'perth glory-holerz': trueskill.Rating(mu=18.270, sigma=3.834),\n",
       " 'perth on heat': trueskill.Rating(mu=23.174, sigma=2.348),\n",
       " 'rosemount rinsers': trueskill.Rating(mu=20.992, sigma=2.592),\n",
       " 'scarbra streisands': trueskill.Rating(mu=28.762, sigma=1.967),\n",
       " 'shenton park speed dealers': trueskill.Rating(mu=22.646, sigma=2.161),\n",
       " 'south perth puckaneers': trueskill.Rating(mu=20.490, sigma=2.084),\n",
       " 'subiaco silkworms': trueskill.Rating(mu=20.250, sigma=1.996),\n",
       " 'swanbourne nudists': trueskill.Rating(mu=21.967, sigma=3.003),\n",
       " 'wembley blue light discos': trueskill.Rating(mu=22.431, sigma=2.422),\n",
       " 'wembley food caughts': trueskill.Rating(mu=27.754, sigma=2.315),\n",
       " 'wembley food courts': trueskill.Rating(mu=26.528, sigma=2.484),\n",
       " 'west coast spastic eagles': trueskill.Rating(mu=24.039, sigma=2.692),\n",
       " 'west leederville wobbegongs': trueskill.Rating(mu=26.873, sigma=3.605),\n",
       " 'west stirling banjo breakers': trueskill.Rating(mu=23.650, sigma=2.437),\n",
       " 'whitfords city wristies': trueskill.Rating(mu=22.880, sigma=2.038),\n",
       " 'whorebin grovers': trueskill.Rating(mu=19.628, sigma=2.582),\n",
       " 'willo wonkas': trueskill.Rating(mu=25.604, sigma=2.112)}"
      ]
     },
     "execution_count": 43,
     "metadata": {},
     "output_type": "execute_result"
    }
   ],
   "source": [
    "\n",
    "for i in range(0,len(winloss)):\n",
    "    mergedratings[winloss['Winteam'][i]],mergedratings[winloss['Lossteam'][i]] = rate_1vs1(mergedratings[winloss['Winteam'][i]],\n",
    "                                                                                      mergedratings[winloss['Lossteam'][i]],\n",
    "                                                                                      drawn=winloss['IsDraw'][i])\n",
    "mergedratings"
   ]
  },
  {
   "cell_type": "code",
   "execution_count": 44,
   "metadata": {
    "collapsed": false
   },
   "outputs": [
    {
     "data": {
      "text/html": [
       "<div>\n",
       "<table border=\"1\" class=\"dataframe\">\n",
       "  <thead>\n",
       "    <tr style=\"text-align: right;\">\n",
       "      <th></th>\n",
       "      <th>Team</th>\n",
       "      <th>Rating</th>\n",
       "    </tr>\n",
       "  </thead>\n",
       "  <tbody>\n",
       "    <tr>\n",
       "      <th>0</th>\n",
       "      <td>NaN</td>\n",
       "      <td>trueskill.Rating(mu=20.604, sigma=7.171)</td>\n",
       "    </tr>\n",
       "    <tr>\n",
       "      <th>1</th>\n",
       "      <td>mosman park milkmen</td>\n",
       "      <td>trueskill.Rating(mu=25.650, sigma=3.863)</td>\n",
       "    </tr>\n",
       "    <tr>\n",
       "      <th>2</th>\n",
       "      <td>innaloo pinguz</td>\n",
       "      <td>trueskill.Rating(mu=20.003, sigma=4.917)</td>\n",
       "    </tr>\n",
       "    <tr>\n",
       "      <th>3</th>\n",
       "      <td>gmla jurassic pucks</td>\n",
       "      <td>trueskill.Rating(mu=19.426, sigma=2.232)</td>\n",
       "    </tr>\n",
       "    <tr>\n",
       "      <th>4</th>\n",
       "      <td>creepy crawleys</td>\n",
       "      <td>trueskill.Rating(mu=17.750, sigma=2.089)</td>\n",
       "    </tr>\n",
       "  </tbody>\n",
       "</table>\n",
       "</div>"
      ],
      "text/plain": [
       "                  Team                                    Rating\n",
       "0                  NaN  trueskill.Rating(mu=20.604, sigma=7.171)\n",
       "1  mosman park milkmen  trueskill.Rating(mu=25.650, sigma=3.863)\n",
       "2       innaloo pinguz  trueskill.Rating(mu=20.003, sigma=4.917)\n",
       "3  gmla jurassic pucks  trueskill.Rating(mu=19.426, sigma=2.232)\n",
       "4      creepy crawleys  trueskill.Rating(mu=17.750, sigma=2.089)"
      ]
     },
     "execution_count": 44,
     "metadata": {},
     "output_type": "execute_result"
    }
   ],
   "source": [
    "skill_df = DataFrame(mergedratings.items(),columns=['Team','Rating'])\n",
    "skill_df.head()"
   ]
  },
  {
   "cell_type": "code",
   "execution_count": 46,
   "metadata": {
    "collapsed": false
   },
   "outputs": [
    {
     "data": {
      "text/html": [
       "<div>\n",
       "<table border=\"1\" class=\"dataframe\">\n",
       "  <thead>\n",
       "    <tr style=\"text-align: right;\">\n",
       "      <th></th>\n",
       "      <th>Team</th>\n",
       "      <th>Rating</th>\n",
       "      <th>mu</th>\n",
       "      <th>sigma</th>\n",
       "    </tr>\n",
       "  </thead>\n",
       "  <tbody>\n",
       "    <tr>\n",
       "      <th>0</th>\n",
       "      <td>NaN</td>\n",
       "      <td>trueskill.Rating(mu=20.604, sigma=7.171)</td>\n",
       "      <td>20.6042</td>\n",
       "      <td>7.17148</td>\n",
       "    </tr>\n",
       "    <tr>\n",
       "      <th>1</th>\n",
       "      <td>mosman park milkmen</td>\n",
       "      <td>trueskill.Rating(mu=25.650, sigma=3.863)</td>\n",
       "      <td>25.6503</td>\n",
       "      <td>3.86281</td>\n",
       "    </tr>\n",
       "    <tr>\n",
       "      <th>2</th>\n",
       "      <td>innaloo pinguz</td>\n",
       "      <td>trueskill.Rating(mu=20.003, sigma=4.917)</td>\n",
       "      <td>20.0028</td>\n",
       "      <td>4.91672</td>\n",
       "    </tr>\n",
       "    <tr>\n",
       "      <th>3</th>\n",
       "      <td>gmla jurassic pucks</td>\n",
       "      <td>trueskill.Rating(mu=19.426, sigma=2.232)</td>\n",
       "      <td>19.4261</td>\n",
       "      <td>2.23218</td>\n",
       "    </tr>\n",
       "    <tr>\n",
       "      <th>4</th>\n",
       "      <td>creepy crawleys</td>\n",
       "      <td>trueskill.Rating(mu=17.750, sigma=2.089)</td>\n",
       "      <td>17.7497</td>\n",
       "      <td>2.08886</td>\n",
       "    </tr>\n",
       "  </tbody>\n",
       "</table>\n",
       "</div>"
      ],
      "text/plain": [
       "                  Team                                    Rating       mu  \\\n",
       "0                  NaN  trueskill.Rating(mu=20.604, sigma=7.171)  20.6042   \n",
       "1  mosman park milkmen  trueskill.Rating(mu=25.650, sigma=3.863)  25.6503   \n",
       "2       innaloo pinguz  trueskill.Rating(mu=20.003, sigma=4.917)  20.0028   \n",
       "3  gmla jurassic pucks  trueskill.Rating(mu=19.426, sigma=2.232)  19.4261   \n",
       "4      creepy crawleys  trueskill.Rating(mu=17.750, sigma=2.089)  17.7497   \n",
       "\n",
       "     sigma  \n",
       "0  7.17148  \n",
       "1  3.86281  \n",
       "2  4.91672  \n",
       "3  2.23218  \n",
       "4  2.08886  "
      ]
     },
     "execution_count": 46,
     "metadata": {},
     "output_type": "execute_result"
    }
   ],
   "source": [
    "skill_df['mu'] = None\n",
    "skill_df['sigma'] = None\n",
    "for i in range(0,len(skill_df)):\n",
    "    skill_df['mu'][i]=skill_df['Rating'][i].mu\n",
    "    skill_df['sigma'][i]=skill_df['Rating'][i].sigma\n",
    "    #skill_df['Team'][i] = skill_df['Team'][i].lower()\n",
    "\n",
    "\n",
    "skill_df.to_csv('skill ratings 2015a.csv')\n",
    "skill_df.head()"
   ]
  },
  {
   "cell_type": "code",
   "execution_count": 48,
   "metadata": {
    "collapsed": false
   },
   "outputs": [
    {
     "name": "stderr",
     "output_type": "stream",
     "text": [
      "C:\\Anaconda2\\lib\\site-packages\\ipykernel\\__main__.py:4: SettingWithCopyWarning: \n",
      "A value is trying to be set on a copy of a slice from a DataFrame\n",
      "\n",
      "See the caveats in the documentation: http://pandas.pydata.org/pandas-docs/stable/indexing.html#indexing-view-versus-copy\n"
     ]
    },
    {
     "data": {
      "text/html": [
       "<div>\n",
       "<table border=\"1\" class=\"dataframe\">\n",
       "  <thead>\n",
       "    <tr style=\"text-align: right;\">\n",
       "      <th></th>\n",
       "      <th>Team</th>\n",
       "      <th>Rating</th>\n",
       "      <th>mu</th>\n",
       "      <th>sigma</th>\n",
       "    </tr>\n",
       "  </thead>\n",
       "  <tbody>\n",
       "    <tr>\n",
       "      <th>0</th>\n",
       "      <td>mosman park milkmen</td>\n",
       "      <td>trueskill.Rating(mu=25.650, sigma=3.863)</td>\n",
       "      <td>25.650328</td>\n",
       "      <td>3.862814</td>\n",
       "    </tr>\n",
       "    <tr>\n",
       "      <th>1</th>\n",
       "      <td>innaloo pinguz</td>\n",
       "      <td>trueskill.Rating(mu=20.003, sigma=4.917)</td>\n",
       "      <td>20.002770</td>\n",
       "      <td>4.916718</td>\n",
       "    </tr>\n",
       "    <tr>\n",
       "      <th>2</th>\n",
       "      <td>gmla jurassic pucks</td>\n",
       "      <td>trueskill.Rating(mu=19.426, sigma=2.232)</td>\n",
       "      <td>19.426135</td>\n",
       "      <td>2.232182</td>\n",
       "    </tr>\n",
       "    <tr>\n",
       "      <th>3</th>\n",
       "      <td>creepy crawleys</td>\n",
       "      <td>trueskill.Rating(mu=17.750, sigma=2.089)</td>\n",
       "      <td>17.749696</td>\n",
       "      <td>2.088859</td>\n",
       "    </tr>\n",
       "    <tr>\n",
       "      <th>4</th>\n",
       "      <td>dianella demons</td>\n",
       "      <td>trueskill.Rating(mu=27.539, sigma=2.106)</td>\n",
       "      <td>27.538681</td>\n",
       "      <td>2.106298</td>\n",
       "    </tr>\n",
       "  </tbody>\n",
       "</table>\n",
       "</div>"
      ],
      "text/plain": [
       "                  Team                                    Rating         mu  \\\n",
       "0  mosman park milkmen  trueskill.Rating(mu=25.650, sigma=3.863)  25.650328   \n",
       "1       innaloo pinguz  trueskill.Rating(mu=20.003, sigma=4.917)  20.002770   \n",
       "2  gmla jurassic pucks  trueskill.Rating(mu=19.426, sigma=2.232)  19.426135   \n",
       "3      creepy crawleys  trueskill.Rating(mu=17.750, sigma=2.089)  17.749696   \n",
       "4      dianella demons  trueskill.Rating(mu=27.539, sigma=2.106)  27.538681   \n",
       "\n",
       "      sigma  \n",
       "0  3.862814  \n",
       "1  4.916718  \n",
       "2  2.232182  \n",
       "3  2.088859  \n",
       "4  2.106298  "
      ]
     },
     "execution_count": 48,
     "metadata": {},
     "output_type": "execute_result"
    }
   ],
   "source": [
    "skill_df = pd.read_csv('skill ratings 2015a.csv')\n",
    "for i in range(0,len(skill_df)):\n",
    "               skill_df['Rating'][i] = Rating(mu=skill_df['mu'][i],\n",
    "                                                  sigma=skill_df['sigma'][i])\n",
    "skill_df.head()"
   ]
  },
  {
   "cell_type": "code",
   "execution_count": null,
   "metadata": {
    "collapsed": true
   },
   "outputs": [],
   "source": []
  }
 ],
 "metadata": {
  "kernelspec": {
   "display_name": "Python 2",
   "language": "python",
   "name": "python2"
  },
  "language_info": {
   "codemirror_mode": {
    "name": "ipython",
    "version": 2
   },
   "file_extension": ".py",
   "mimetype": "text/x-python",
   "name": "python",
   "nbconvert_exporter": "python",
   "pygments_lexer": "ipython2",
   "version": "2.7.11"
  }
 },
 "nbformat": 4,
 "nbformat_minor": 0
}
