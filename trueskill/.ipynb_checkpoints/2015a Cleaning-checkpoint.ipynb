{
 "cells": [
  {
   "cell_type": "markdown",
   "metadata": {
    "toc": "true"
   },
   "source": [
    "# Table of Contents\n",
    " <p>"
   ]
  },
  {
   "cell_type": "code",
   "execution_count": 1,
   "metadata": {
    "collapsed": false
   },
   "outputs": [],
   "source": [
    "import pandas as pd\n",
    "import numpy as np\n",
    "from pandas import Series, DataFrame"
   ]
  },
  {
   "cell_type": "code",
   "execution_count": 2,
   "metadata": {
    "collapsed": false
   },
   "outputs": [
    {
     "data": {
      "text/html": [
       "<div>\n",
       "<table border=\"1\" class=\"dataframe\">\n",
       "  <thead>\n",
       "    <tr style=\"text-align: right;\">\n",
       "      <th></th>\n",
       "      <th>ROUND</th>\n",
       "      <th>HOME</th>\n",
       "      <th>SCORE</th>\n",
       "      <th>SCORE.1</th>\n",
       "      <th>AWAY</th>\n",
       "      <th>OT</th>\n",
       "    </tr>\n",
       "  </thead>\n",
       "  <tbody>\n",
       "    <tr>\n",
       "      <th>0</th>\n",
       "      <td>1</td>\n",
       "      <td>Applecross Dressers</td>\n",
       "      <td>2</td>\n",
       "      <td>31</td>\n",
       "      <td>Chick Park</td>\n",
       "      <td>NaN</td>\n",
       "    </tr>\n",
       "    <tr>\n",
       "      <th>1</th>\n",
       "      <td>1</td>\n",
       "      <td>Cottesloe's Hottest Hoes</td>\n",
       "      <td>10</td>\n",
       "      <td>11</td>\n",
       "      <td>Fremantle Cappuccino Strippers</td>\n",
       "      <td>NaN</td>\n",
       "    </tr>\n",
       "    <tr>\n",
       "      <th>2</th>\n",
       "      <td>1</td>\n",
       "      <td>Dalkeith Dalqueefs</td>\n",
       "      <td>1</td>\n",
       "      <td>10</td>\n",
       "      <td>Nedlands Yung Puccbois</td>\n",
       "      <td>NaN</td>\n",
       "    </tr>\n",
       "    <tr>\n",
       "      <th>3</th>\n",
       "      <td>1</td>\n",
       "      <td>Attafail Whales</td>\n",
       "      <td>6</td>\n",
       "      <td>11</td>\n",
       "      <td>Perth On Heat</td>\n",
       "      <td>NaN</td>\n",
       "    </tr>\n",
       "    <tr>\n",
       "      <th>4</th>\n",
       "      <td>1</td>\n",
       "      <td>Bicton Bath Salts</td>\n",
       "      <td>9</td>\n",
       "      <td>8</td>\n",
       "      <td>South Perth Puckaneers</td>\n",
       "      <td>OT</td>\n",
       "    </tr>\n",
       "  </tbody>\n",
       "</table>\n",
       "</div>"
      ],
      "text/plain": [
       "   ROUND                      HOME  SCORE  SCORE.1  \\\n",
       "0      1       Applecross Dressers      2       31   \n",
       "1      1  Cottesloe's Hottest Hoes     10       11   \n",
       "2      1        Dalkeith Dalqueefs      1       10   \n",
       "3      1           Attafail Whales      6       11   \n",
       "4      1         Bicton Bath Salts      9        8   \n",
       "\n",
       "                             AWAY   OT  \n",
       "0                      Chick Park  NaN  \n",
       "1  Fremantle Cappuccino Strippers  NaN  \n",
       "2          Nedlands Yung Puccbois  NaN  \n",
       "3                   Perth On Heat  NaN  \n",
       "4          South Perth Puckaneers   OT  "
      ]
     },
     "execution_count": 2,
     "metadata": {},
     "output_type": "execute_result"
    }
   ],
   "source": [
    "results = pd.read_csv('2015a_results.csv')\n",
    "results.head()"
   ]
  },
  {
   "cell_type": "code",
   "execution_count": 3,
   "metadata": {
    "collapsed": false
   },
   "outputs": [
    {
     "name": "stderr",
     "output_type": "stream",
     "text": [
      "C:\\Anaconda2\\lib\\site-packages\\ipykernel\\__main__.py:2: SettingWithCopyWarning: \n",
      "A value is trying to be set on a copy of a slice from a DataFrame\n",
      "\n",
      "See the caveats in the documentation: http://pandas.pydata.org/pandas-docs/stable/indexing.html#indexing-view-versus-copy\n",
      "  from ipykernel import kernelapp as app\n"
     ]
    },
    {
     "data": {
      "text/html": [
       "<div>\n",
       "<table border=\"1\" class=\"dataframe\">\n",
       "  <thead>\n",
       "    <tr style=\"text-align: right;\">\n",
       "      <th></th>\n",
       "      <th>ROUND</th>\n",
       "      <th>HOME</th>\n",
       "      <th>SCORE</th>\n",
       "      <th>SCORE.1</th>\n",
       "      <th>AWAY</th>\n",
       "      <th>OT</th>\n",
       "    </tr>\n",
       "  </thead>\n",
       "  <tbody>\n",
       "    <tr>\n",
       "      <th>0</th>\n",
       "      <td>1</td>\n",
       "      <td>Applecross Dressers</td>\n",
       "      <td>2</td>\n",
       "      <td>31</td>\n",
       "      <td>Chick Park</td>\n",
       "      <td>False</td>\n",
       "    </tr>\n",
       "    <tr>\n",
       "      <th>1</th>\n",
       "      <td>1</td>\n",
       "      <td>Cottesloe's Hottest Hoes</td>\n",
       "      <td>10</td>\n",
       "      <td>11</td>\n",
       "      <td>Fremantle Cappuccino Strippers</td>\n",
       "      <td>False</td>\n",
       "    </tr>\n",
       "    <tr>\n",
       "      <th>2</th>\n",
       "      <td>1</td>\n",
       "      <td>Dalkeith Dalqueefs</td>\n",
       "      <td>1</td>\n",
       "      <td>10</td>\n",
       "      <td>Nedlands Yung Puccbois</td>\n",
       "      <td>False</td>\n",
       "    </tr>\n",
       "    <tr>\n",
       "      <th>3</th>\n",
       "      <td>1</td>\n",
       "      <td>Attafail Whales</td>\n",
       "      <td>6</td>\n",
       "      <td>11</td>\n",
       "      <td>Perth On Heat</td>\n",
       "      <td>False</td>\n",
       "    </tr>\n",
       "    <tr>\n",
       "      <th>4</th>\n",
       "      <td>1</td>\n",
       "      <td>Bicton Bath Salts</td>\n",
       "      <td>9</td>\n",
       "      <td>8</td>\n",
       "      <td>South Perth Puckaneers</td>\n",
       "      <td>True</td>\n",
       "    </tr>\n",
       "  </tbody>\n",
       "</table>\n",
       "</div>"
      ],
      "text/plain": [
       "   ROUND                      HOME  SCORE  SCORE.1  \\\n",
       "0      1       Applecross Dressers      2       31   \n",
       "1      1  Cottesloe's Hottest Hoes     10       11   \n",
       "2      1        Dalkeith Dalqueefs      1       10   \n",
       "3      1           Attafail Whales      6       11   \n",
       "4      1         Bicton Bath Salts      9        8   \n",
       "\n",
       "                             AWAY     OT  \n",
       "0                      Chick Park  False  \n",
       "1  Fremantle Cappuccino Strippers  False  \n",
       "2          Nedlands Yung Puccbois  False  \n",
       "3                   Perth On Heat  False  \n",
       "4          South Perth Puckaneers   True  "
      ]
     },
     "execution_count": 3,
     "metadata": {},
     "output_type": "execute_result"
    }
   ],
   "source": [
    "for i in range(0,len(results)):\n",
    "    results['OT'][i] = results['OT'][i] == \"OT\"\n",
    "\n",
    "results.head()"
   ]
  },
  {
   "cell_type": "code",
   "execution_count": 4,
   "metadata": {
    "collapsed": false
   },
   "outputs": [
    {
     "name": "stderr",
     "output_type": "stream",
     "text": [
      "C:\\Anaconda2\\lib\\site-packages\\ipykernel\\__main__.py:5: SettingWithCopyWarning: \n",
      "A value is trying to be set on a copy of a slice from a DataFrame\n",
      "\n",
      "See the caveats in the documentation: http://pandas.pydata.org/pandas-docs/stable/indexing.html#indexing-view-versus-copy\n"
     ]
    }
   ],
   "source": [
    "results['IsDraw'] = results['SCORE'] == results['SCORE.1']\n",
    "\n",
    "for i in range(0,len(results)):\n",
    "    if results['OT'][i]:\n",
    "        results['IsDraw'][i] = True"
   ]
  },
  {
   "cell_type": "code",
   "execution_count": 5,
   "metadata": {
    "collapsed": false
   },
   "outputs": [
    {
     "data": {
      "text/html": [
       "<div>\n",
       "<table border=\"1\" class=\"dataframe\">\n",
       "  <thead>\n",
       "    <tr style=\"text-align: right;\">\n",
       "      <th></th>\n",
       "      <th>ROUND</th>\n",
       "      <th>HOME</th>\n",
       "      <th>SCORE</th>\n",
       "      <th>SCORE.1</th>\n",
       "      <th>AWAY</th>\n",
       "      <th>OT</th>\n",
       "      <th>IsDraw</th>\n",
       "    </tr>\n",
       "  </thead>\n",
       "  <tbody>\n",
       "    <tr>\n",
       "      <th>0</th>\n",
       "      <td>1</td>\n",
       "      <td>Applecross Dressers</td>\n",
       "      <td>2</td>\n",
       "      <td>31</td>\n",
       "      <td>Chick Park</td>\n",
       "      <td>False</td>\n",
       "      <td>False</td>\n",
       "    </tr>\n",
       "    <tr>\n",
       "      <th>1</th>\n",
       "      <td>1</td>\n",
       "      <td>Cottesloe's Hottest Hoes</td>\n",
       "      <td>10</td>\n",
       "      <td>11</td>\n",
       "      <td>Fremantle Cappuccino Strippers</td>\n",
       "      <td>False</td>\n",
       "      <td>False</td>\n",
       "    </tr>\n",
       "    <tr>\n",
       "      <th>2</th>\n",
       "      <td>1</td>\n",
       "      <td>Dalkeith Dalqueefs</td>\n",
       "      <td>1</td>\n",
       "      <td>10</td>\n",
       "      <td>Nedlands Yung Puccbois</td>\n",
       "      <td>False</td>\n",
       "      <td>False</td>\n",
       "    </tr>\n",
       "    <tr>\n",
       "      <th>3</th>\n",
       "      <td>1</td>\n",
       "      <td>Attafail Whales</td>\n",
       "      <td>6</td>\n",
       "      <td>11</td>\n",
       "      <td>Perth On Heat</td>\n",
       "      <td>False</td>\n",
       "      <td>False</td>\n",
       "    </tr>\n",
       "    <tr>\n",
       "      <th>4</th>\n",
       "      <td>1</td>\n",
       "      <td>Bicton Bath Salts</td>\n",
       "      <td>9</td>\n",
       "      <td>8</td>\n",
       "      <td>South Perth Puckaneers</td>\n",
       "      <td>True</td>\n",
       "      <td>True</td>\n",
       "    </tr>\n",
       "  </tbody>\n",
       "</table>\n",
       "</div>"
      ],
      "text/plain": [
       "   ROUND                      HOME  SCORE  SCORE.1  \\\n",
       "0      1       Applecross Dressers      2       31   \n",
       "1      1  Cottesloe's Hottest Hoes     10       11   \n",
       "2      1        Dalkeith Dalqueefs      1       10   \n",
       "3      1           Attafail Whales      6       11   \n",
       "4      1         Bicton Bath Salts      9        8   \n",
       "\n",
       "                             AWAY     OT IsDraw  \n",
       "0                      Chick Park  False  False  \n",
       "1  Fremantle Cappuccino Strippers  False  False  \n",
       "2          Nedlands Yung Puccbois  False  False  \n",
       "3                   Perth On Heat  False  False  \n",
       "4          South Perth Puckaneers   True   True  "
      ]
     },
     "execution_count": 5,
     "metadata": {},
     "output_type": "execute_result"
    }
   ],
   "source": [
    "results.head()"
   ]
  },
  {
   "cell_type": "code",
   "execution_count": 10,
   "metadata": {
    "collapsed": false
   },
   "outputs": [
    {
     "name": "stderr",
     "output_type": "stream",
     "text": [
      "C:\\Anaconda2\\lib\\site-packages\\ipykernel\\__main__.py:6: SettingWithCopyWarning: \n",
      "A value is trying to be set on a copy of a slice from a DataFrame\n",
      "\n",
      "See the caveats in the documentation: http://pandas.pydata.org/pandas-docs/stable/indexing.html#indexing-view-versus-copy\n",
      "C:\\Anaconda2\\lib\\site-packages\\ipykernel\\__main__.py:12: SettingWithCopyWarning: \n",
      "A value is trying to be set on a copy of a slice from a DataFrame\n",
      "\n",
      "See the caveats in the documentation: http://pandas.pydata.org/pandas-docs/stable/indexing.html#indexing-view-versus-copy\n",
      "C:\\Anaconda2\\lib\\site-packages\\ipykernel\\__main__.py:13: SettingWithCopyWarning: \n",
      "A value is trying to be set on a copy of a slice from a DataFrame\n",
      "\n",
      "See the caveats in the documentation: http://pandas.pydata.org/pandas-docs/stable/indexing.html#indexing-view-versus-copy\n",
      "C:\\Anaconda2\\lib\\site-packages\\ipykernel\\__main__.py:9: SettingWithCopyWarning: \n",
      "A value is trying to be set on a copy of a slice from a DataFrame\n",
      "\n",
      "See the caveats in the documentation: http://pandas.pydata.org/pandas-docs/stable/indexing.html#indexing-view-versus-copy\n",
      "C:\\Anaconda2\\lib\\site-packages\\ipykernel\\__main__.py:10: SettingWithCopyWarning: \n",
      "A value is trying to be set on a copy of a slice from a DataFrame\n",
      "\n",
      "See the caveats in the documentation: http://pandas.pydata.org/pandas-docs/stable/indexing.html#indexing-view-versus-copy\n"
     ]
    },
    {
     "data": {
      "text/html": [
       "<div>\n",
       "<table border=\"1\" class=\"dataframe\">\n",
       "  <thead>\n",
       "    <tr style=\"text-align: right;\">\n",
       "      <th></th>\n",
       "      <th>ROUND</th>\n",
       "      <th>HOME</th>\n",
       "      <th>homescore</th>\n",
       "      <th>awayscore</th>\n",
       "      <th>AWAY</th>\n",
       "      <th>OT</th>\n",
       "      <th>IsDraw</th>\n",
       "      <th>Winteam</th>\n",
       "      <th>Lossteam</th>\n",
       "      <th>gameplayed</th>\n",
       "    </tr>\n",
       "  </thead>\n",
       "  <tbody>\n",
       "    <tr>\n",
       "      <th>0</th>\n",
       "      <td>1</td>\n",
       "      <td>Applecross Dressers</td>\n",
       "      <td>2</td>\n",
       "      <td>31</td>\n",
       "      <td>Chick Park</td>\n",
       "      <td>False</td>\n",
       "      <td>False</td>\n",
       "      <td>Chick Park</td>\n",
       "      <td>Applecross Dressers</td>\n",
       "      <td>1</td>\n",
       "    </tr>\n",
       "    <tr>\n",
       "      <th>1</th>\n",
       "      <td>1</td>\n",
       "      <td>Cottesloe's Hottest Hoes</td>\n",
       "      <td>10</td>\n",
       "      <td>11</td>\n",
       "      <td>Fremantle Cappuccino Strippers</td>\n",
       "      <td>False</td>\n",
       "      <td>False</td>\n",
       "      <td>Fremantle Cappuccino Strippers</td>\n",
       "      <td>Cottesloe's Hottest Hoes</td>\n",
       "      <td>1</td>\n",
       "    </tr>\n",
       "    <tr>\n",
       "      <th>2</th>\n",
       "      <td>1</td>\n",
       "      <td>Dalkeith Dalqueefs</td>\n",
       "      <td>1</td>\n",
       "      <td>10</td>\n",
       "      <td>Nedlands Yung Puccbois</td>\n",
       "      <td>False</td>\n",
       "      <td>False</td>\n",
       "      <td>Nedlands Yung Puccbois</td>\n",
       "      <td>Dalkeith Dalqueefs</td>\n",
       "      <td>1</td>\n",
       "    </tr>\n",
       "    <tr>\n",
       "      <th>3</th>\n",
       "      <td>1</td>\n",
       "      <td>Attafail Whales</td>\n",
       "      <td>6</td>\n",
       "      <td>11</td>\n",
       "      <td>Perth On Heat</td>\n",
       "      <td>False</td>\n",
       "      <td>False</td>\n",
       "      <td>Perth On Heat</td>\n",
       "      <td>Attafail Whales</td>\n",
       "      <td>1</td>\n",
       "    </tr>\n",
       "    <tr>\n",
       "      <th>4</th>\n",
       "      <td>1</td>\n",
       "      <td>Bicton Bath Salts</td>\n",
       "      <td>9</td>\n",
       "      <td>8</td>\n",
       "      <td>South Perth Puckaneers</td>\n",
       "      <td>True</td>\n",
       "      <td>True</td>\n",
       "      <td>Bicton Bath Salts</td>\n",
       "      <td>South Perth Puckaneers</td>\n",
       "      <td>1</td>\n",
       "    </tr>\n",
       "  </tbody>\n",
       "</table>\n",
       "</div>"
      ],
      "text/plain": [
       "   ROUND                      HOME  homescore  awayscore  \\\n",
       "0      1       Applecross Dressers          2         31   \n",
       "1      1  Cottesloe's Hottest Hoes         10         11   \n",
       "2      1        Dalkeith Dalqueefs          1         10   \n",
       "3      1           Attafail Whales          6         11   \n",
       "4      1         Bicton Bath Salts          9          8   \n",
       "\n",
       "                             AWAY     OT IsDraw  \\\n",
       "0                      Chick Park  False  False   \n",
       "1  Fremantle Cappuccino Strippers  False  False   \n",
       "2          Nedlands Yung Puccbois  False  False   \n",
       "3                   Perth On Heat  False  False   \n",
       "4          South Perth Puckaneers   True   True   \n",
       "\n",
       "                          Winteam                  Lossteam  gameplayed  \n",
       "0                      Chick Park       Applecross Dressers           1  \n",
       "1  Fremantle Cappuccino Strippers  Cottesloe's Hottest Hoes           1  \n",
       "2          Nedlands Yung Puccbois        Dalkeith Dalqueefs           1  \n",
       "3                   Perth On Heat           Attafail Whales           1  \n",
       "4               Bicton Bath Salts    South Perth Puckaneers           1  "
      ]
     },
     "execution_count": 10,
     "metadata": {},
     "output_type": "execute_result"
    }
   ],
   "source": [
    "results['Winteam']=np.NaN\n",
    "results['Lossteam']=np.NaN\n",
    "results['gameplayed']=np.NaN\n",
    "results = results.rename(columns = {\"SCORE\":\"homescore\",\"SCORE.1\":\"awayscore\"})\n",
    "for i in range(0,len(results)):\n",
    "    results['gameplayed'][i] = results['homescore'][i] != 0 and results['awayscore'][i] != 0\n",
    "    # If home score is greater than away score\n",
    "    if results['homescore'][i]>=results['awayscore'][i]:\n",
    "        results['Winteam'][i]=results['HOME'][i]\n",
    "        results['Lossteam'][i]=results['AWAY'][i]\n",
    "    else:\n",
    "        results['Winteam'][i]=results['AWAY'][i]\n",
    "        results['Lossteam'][i]=results['HOME'][i]\n",
    "\n",
    "    \n",
    "results.head()"
   ]
  },
  {
   "cell_type": "code",
   "execution_count": null,
   "metadata": {
    "collapsed": false
   },
   "outputs": [],
   "source": [
    "\n",
    "x = Series(winloss['Winteam'].unique())\n",
    "y = Series(winloss['Lossteam'].unique())\n",
    "x=x.append(y)\n",
    "x=Series(x.unique())\n",
    "x.sort_values()"
   ]
  },
  {
   "cell_type": "code",
   "execution_count": 14,
   "metadata": {
    "collapsed": false
   },
   "outputs": [
    {
     "data": {
      "text/html": [
       "<div>\n",
       "<table border=\"1\" class=\"dataframe\">\n",
       "  <thead>\n",
       "    <tr style=\"text-align: right;\">\n",
       "      <th></th>\n",
       "      <th>IsDraw</th>\n",
       "      <th>Winteam</th>\n",
       "      <th>Lossteam</th>\n",
       "      <th>gameplayed</th>\n",
       "    </tr>\n",
       "  </thead>\n",
       "  <tbody>\n",
       "    <tr>\n",
       "      <th>0</th>\n",
       "      <td>False</td>\n",
       "      <td>Chick Park</td>\n",
       "      <td>Applecross Dressers</td>\n",
       "      <td>1</td>\n",
       "    </tr>\n",
       "    <tr>\n",
       "      <th>1</th>\n",
       "      <td>False</td>\n",
       "      <td>Fremantle Cappuccino Strippers</td>\n",
       "      <td>Cottesloe's Hottest Hoes</td>\n",
       "      <td>1</td>\n",
       "    </tr>\n",
       "    <tr>\n",
       "      <th>2</th>\n",
       "      <td>False</td>\n",
       "      <td>Nedlands Yung Puccbois</td>\n",
       "      <td>Dalkeith Dalqueefs</td>\n",
       "      <td>1</td>\n",
       "    </tr>\n",
       "    <tr>\n",
       "      <th>3</th>\n",
       "      <td>False</td>\n",
       "      <td>Perth On Heat</td>\n",
       "      <td>Attafail Whales</td>\n",
       "      <td>1</td>\n",
       "    </tr>\n",
       "    <tr>\n",
       "      <th>4</th>\n",
       "      <td>True</td>\n",
       "      <td>Bicton Bath Salts</td>\n",
       "      <td>South Perth Puckaneers</td>\n",
       "      <td>1</td>\n",
       "    </tr>\n",
       "  </tbody>\n",
       "</table>\n",
       "</div>"
      ],
      "text/plain": [
       "  IsDraw                         Winteam                  Lossteam  gameplayed\n",
       "0  False                      Chick Park       Applecross Dressers           1\n",
       "1  False  Fremantle Cappuccino Strippers  Cottesloe's Hottest Hoes           1\n",
       "2  False          Nedlands Yung Puccbois        Dalkeith Dalqueefs           1\n",
       "3  False                   Perth On Heat           Attafail Whales           1\n",
       "4   True               Bicton Bath Salts    South Perth Puckaneers           1"
      ]
     },
     "execution_count": 14,
     "metadata": {},
     "output_type": "execute_result"
    }
   ],
   "source": [
    "results = results.drop(results.columns[[0,1,2,3,4,5]],axis=1)\n",
    "winloss = results[results[\"gameplayed\"] == 1]\n",
    "winloss.head()"
   ]
  },
  {
   "cell_type": "code",
   "execution_count": 50,
   "metadata": {
    "collapsed": false
   },
   "outputs": [
    {
     "ename": "AttributeError",
     "evalue": "'float' object has no attribute 'lower'",
     "output_type": "error",
     "traceback": [
      "\u001b[1;31m---------------------------------------------------------------------------\u001b[0m",
      "\u001b[1;31mAttributeError\u001b[0m                            Traceback (most recent call last)",
      "\u001b[1;32m<ipython-input-50-c74512e3160e>\u001b[0m in \u001b[0;36m<module>\u001b[1;34m()\u001b[0m\n\u001b[0;32m      7\u001b[0m \u001b[1;33m\u001b[0m\u001b[0m\n\u001b[0;32m      8\u001b[0m \u001b[1;32mfor\u001b[0m \u001b[0mi\u001b[0m \u001b[1;32min\u001b[0m \u001b[0mrange\u001b[0m\u001b[1;33m(\u001b[0m\u001b[1;36m0\u001b[0m\u001b[1;33m,\u001b[0m\u001b[0mlen\u001b[0m\u001b[1;33m(\u001b[0m\u001b[0mteams\u001b[0m\u001b[1;33m)\u001b[0m\u001b[1;33m)\u001b[0m\u001b[1;33m:\u001b[0m\u001b[1;33m\u001b[0m\u001b[0m\n\u001b[1;32m----> 9\u001b[1;33m     \u001b[0mteams_lower\u001b[0m\u001b[1;33m[\u001b[0m\u001b[0mi\u001b[0m\u001b[1;33m]\u001b[0m \u001b[1;33m=\u001b[0m \u001b[0mteams\u001b[0m\u001b[1;33m[\u001b[0m\u001b[0mi\u001b[0m\u001b[1;33m]\u001b[0m\u001b[1;33m.\u001b[0m\u001b[0mlower\u001b[0m\u001b[1;33m(\u001b[0m\u001b[1;33m)\u001b[0m\u001b[1;33m\u001b[0m\u001b[0m\n\u001b[0m",
      "\u001b[1;31mAttributeError\u001b[0m: 'float' object has no attribute 'lower'"
     ]
    }
   ],
   "source": [
    "teams_lower = Series([])\n",
    "x = Series(winloss['Winteam'].unique())\n",
    "y = Series(winloss['Lossteam'].unique())\n",
    "x=x.append(y)\n",
    "x=Series(x.unique())\n",
    "teams = x.sort_values()"
   ]
  },
  {
   "cell_type": "code",
   "execution_count": 39,
   "metadata": {
    "collapsed": false
   },
   "outputs": [
    {
     "data": {
      "text/plain": [
       "array(['50 shades of graylands', 'applecross dressers', 'Attafail Whales',\n",
       "       'balcatta bandits', 'bicton banter lords', 'bicton bath salts',\n",
       "       'booragoonbags', 'bull creek buttchuggers', 'chick park',\n",
       "       'churchlands hellraisers', 'city beach groins', 'city beach kooks',\n",
       "       'claremont cereal killahs', 'como at me bro', 'Como At Me bro',\n",
       "       'como mo co', \"cottesloe's hottest hoes\", 'cotteslowbros',\n",
       "       'Creepy Crawleys', 'daglish dhe moisties', 'dalkeith dalqueefs',\n",
       "       'dianella demons', 'dog swamp swamp dogs',\n",
       "       'doubleview double yewws', 'fremantle cappuccino strippers',\n",
       "       'freo fussy puckers', 'gmla angels', 'gmla guardians',\n",
       "       'gmla jurassic pucks', 'greenmount doom', 'hillarys humpbacks',\n",
       "       'hungry spot heroes', 'inglewood coldcuts', 'innaloominati',\n",
       "       'karrakatta grim jobs', 'kensington kermits', 'lake mongrels',\n",
       "       'leederphiles rolferhockey', 'maylands muthapuckas',\n",
       "       'melville massiv', 'mindarie molotovs', 'mosman mooseknuckles',\n",
       "       'mount lawless', 'mt lawley chai lattes', 'mt pleasant mounties',\n",
       "       'mullaloozers', 'nedlands yung puccbois',\n",
       "       'north perth bald beavers', 'ocean beef', 'perth glory holez',\n",
       "       'perth on heat', 'rosemount rinsers', 'scarbra streisands',\n",
       "       'shenton park speed dealers', 'south perth puckaneers',\n",
       "       'subiaco silkworms', 'swanbourne nudists',\n",
       "       'wembley blue light discos', 'wembley food caughts',\n",
       "       'wembley food courts', 'west coast spastic eagles',\n",
       "       'west stirling banjo breakers', 'whitfords city wristies',\n",
       "       'whorebin grovers', 'willo wonkas', nan], dtype=object)"
      ]
     },
     "execution_count": 39,
     "metadata": {},
     "output_type": "execute_result"
    }
   ],
   "source": [
    "teams.unique()"
   ]
  },
  {
   "cell_type": "code",
   "execution_count": 29,
   "metadata": {
    "collapsed": false
   },
   "outputs": [
    {
     "data": {
      "text/plain": [
       "pandas.core.series.Series"
      ]
     },
     "execution_count": 29,
     "metadata": {},
     "output_type": "execute_result"
    }
   ],
   "source": [
    "type(teams)"
   ]
  },
  {
   "cell_type": "code",
   "execution_count": 34,
   "metadata": {
    "collapsed": false
   },
   "outputs": [
    {
     "data": {
      "text/plain": [
       "67"
      ]
     },
     "execution_count": 34,
     "metadata": {},
     "output_type": "execute_result"
    }
   ],
   "source": [
    "len(teams)"
   ]
  },
  {
   "cell_type": "code",
   "execution_count": 40,
   "metadata": {
    "collapsed": false
   },
   "outputs": [],
   "source": [
    "teams.to_csv('2015a teams.csv')"
   ]
  },
  {
   "cell_type": "code",
   "execution_count": 56,
   "metadata": {
    "collapsed": false
   },
   "outputs": [
    {
     "data": {
      "text/plain": [
       "array(['50 shades of graylands', 'applecross dressers', 'attafail whales',\n",
       "       'balcatta bandits', 'bicton banter lords', 'bicton bath salts',\n",
       "       'booragoonbags', 'bull creek buttchuggers', 'chick park',\n",
       "       'churchlands hellraisers', 'city beach groins', 'city beach kooks',\n",
       "       'claremont cereal killahs', 'como at me bro', 'como mo co',\n",
       "       \"cottesloe's hottest hoes\", 'cotteslowbros', 'creepy crawleys',\n",
       "       'daglish dhe moisties', 'dalkeith dalqueefs', 'dianella demons',\n",
       "       'dog swamp swamp dogs', 'doubleview double yewws',\n",
       "       'fremantle cappuccino strippers', 'freo fussy puckers',\n",
       "       'gmla angels', 'gmla guardians', 'gmla jurassic pucks',\n",
       "       'greenmount doom', 'hillarys humpbacks', 'hungry spot heroes',\n",
       "       'inglewood coldcuts', 'innaloominati', 'karrakatta grim jobs',\n",
       "       'kensington kermits', 'lake mongrels', 'leederphiles rolferhockey',\n",
       "       'maylands muthapuckas', 'melville massiv', 'mindarie molotovs',\n",
       "       'mosman mooseknuckles', 'mount lawless', 'mt lawley chai lattes',\n",
       "       'mt pleasant mounties', 'mullaloozers', 'nedlands yung puccbois',\n",
       "       'north perth bald beavers', 'ocean beef', 'perth glory holez',\n",
       "       'perth on heat', 'rosemount rinsers', 'scarbra streisands',\n",
       "       'shenton park speed dealers', 'south perth puckaneers',\n",
       "       'subiaco silkworms', 'swanbourne nudists',\n",
       "       'wembley blue light discos', 'wembley food caughts',\n",
       "       'wembley food courts', 'west coast spastic eagles',\n",
       "       'west stirling banjo breakers', 'whitfords city wristies',\n",
       "       'whorebin grovers', 'willo wonkas'], dtype=object)"
      ]
     },
     "execution_count": 56,
     "metadata": {},
     "output_type": "execute_result"
    }
   ],
   "source": [
    "teams = pd.read_csv('2015a teams.csv')\n",
    "teams_list = Series(teams['Team Lower']).unique()\n",
    "teams_list"
   ]
  },
  {
   "cell_type": "code",
   "execution_count": 58,
   "metadata": {
    "collapsed": false
   },
   "outputs": [
    {
     "data": {
      "text/plain": [
       "array(['Chick Park', 'Fremantle Cappuccino Strippers',\n",
       "       'Nedlands Yung Puccbois', 'Perth On Heat', 'Bicton Bath Salts',\n",
       "       'Whorebin Grovers', 'Lake Mongrels', 'City Beach Groins',\n",
       "       'Mosman Mooseknuckles', 'Mount Lawless',\n",
       "       'West Coast Spastic Eagles', 'Rosemount Rinsers',\n",
       "       'Bull Creek Buttchuggers', 'City Beach Kooks', 'Cotteslowbros',\n",
       "       'Ocean Beef', 'Wembley Food Courts', 'Doubleview Double Yewws',\n",
       "       'Shenton Park Speed Dealers', 'Hungry Spot Heroes',\n",
       "       'Claremont Cereal Killahs', 'Mt Pleasant Mounties',\n",
       "       'Churchlands Hellraisers', 'Greenmount Doom',\n",
       "       'Daglish Dhe Moisties', 'Willo Wonkas', 'Dog Swamp Swamp Dogs',\n",
       "       'Scarbra Streisands', 'GMLA Guardians', 'Como Mo Co',\n",
       "       'Dianella Demons', 'Hillarys Humpbacks', 'Dalkeith Dalqueefs',\n",
       "       'Swanbourne Nudists', 'GMLA Jurassic Pucks',\n",
       "       'North Perth Bald Beavers', 'Balcatta Bandits', 'Melville Massiv',\n",
       "       'Wembley Food Caughts', 'Whitfords City Wristies',\n",
       "       'Mindarie Molotovs', 'Freo Fussy Puckers', 'Kensington Kermits',\n",
       "       'Wembley Blue Light Discos', 'Perth Glory Holez',\n",
       "       'Applecross Dressers', \"Cottesloe's Hottest Hoes\", 'Innaloominati',\n",
       "       'Bicton Banter Lords', 'Leederphiles Rolferhockey',\n",
       "       'Karrakatta Grim Jobs', '50 Shades of Graylands', 'GMLA Angels',\n",
       "       'West Stirling Banjo Breakers', 'Como At Me Bro', 'Booragoonbags',\n",
       "       'Maylands Muthapuckas', 'Inglewood Coldcuts',\n",
       "       'South Perth Puckaneers', 'Mt Lawley Chai Lattes', 'Mullaloozers',\n",
       "       'Subiaco SIlkworms', 'Subiaco Silkworms', nan], dtype=object)"
      ]
     },
     "execution_count": 58,
     "metadata": {},
     "output_type": "execute_result"
    }
   ],
   "source": [
    "winloss['Winteam'].unique()"
   ]
  },
  {
   "cell_type": "code",
   "execution_count": 60,
   "metadata": {
    "collapsed": false
   },
   "outputs": [
    {
     "name": "stderr",
     "output_type": "stream",
     "text": [
      "C:\\Anaconda2\\lib\\site-packages\\ipykernel\\__main__.py:2: SettingWithCopyWarning: \n",
      "A value is trying to be set on a copy of a slice from a DataFrame\n",
      "\n",
      "See the caveats in the documentation: http://pandas.pydata.org/pandas-docs/stable/indexing.html#indexing-view-versus-copy\n",
      "  from ipykernel import kernelapp as app\n",
      "C:\\Anaconda2\\lib\\site-packages\\ipykernel\\__main__.py:3: SettingWithCopyWarning: \n",
      "A value is trying to be set on a copy of a slice from a DataFrame\n",
      "\n",
      "See the caveats in the documentation: http://pandas.pydata.org/pandas-docs/stable/indexing.html#indexing-view-versus-copy\n",
      "  app.launch_new_instance()\n"
     ]
    },
    {
     "ename": "KeyError",
     "evalue": "200L",
     "output_type": "error",
     "traceback": [
      "\u001b[1;31m---------------------------------------------------------------------------\u001b[0m",
      "\u001b[1;31mKeyError\u001b[0m                                  Traceback (most recent call last)",
      "\u001b[1;32m<ipython-input-60-f970c13aff61>\u001b[0m in \u001b[0;36m<module>\u001b[1;34m()\u001b[0m\n\u001b[0;32m      1\u001b[0m \u001b[1;32mfor\u001b[0m \u001b[0mi\u001b[0m \u001b[1;32min\u001b[0m \u001b[0mrange\u001b[0m\u001b[1;33m(\u001b[0m\u001b[1;36m0\u001b[0m\u001b[1;33m,\u001b[0m\u001b[0mlen\u001b[0m\u001b[1;33m(\u001b[0m\u001b[0mwinloss\u001b[0m\u001b[1;33m)\u001b[0m\u001b[1;33m)\u001b[0m\u001b[1;33m:\u001b[0m\u001b[1;33m\u001b[0m\u001b[0m\n\u001b[1;32m----> 2\u001b[1;33m     \u001b[0mwinloss\u001b[0m\u001b[1;33m[\u001b[0m\u001b[1;34m'Winteam'\u001b[0m\u001b[1;33m]\u001b[0m\u001b[1;33m[\u001b[0m\u001b[0mi\u001b[0m\u001b[1;33m]\u001b[0m \u001b[1;33m=\u001b[0m \u001b[0mwinloss\u001b[0m\u001b[1;33m[\u001b[0m\u001b[1;34m'Winteam'\u001b[0m\u001b[1;33m]\u001b[0m\u001b[1;33m[\u001b[0m\u001b[0mi\u001b[0m\u001b[1;33m]\u001b[0m\u001b[1;33m.\u001b[0m\u001b[0mlower\u001b[0m\u001b[1;33m(\u001b[0m\u001b[1;33m)\u001b[0m\u001b[1;33m\u001b[0m\u001b[0m\n\u001b[0m\u001b[0;32m      3\u001b[0m     \u001b[0mwinloss\u001b[0m\u001b[1;33m[\u001b[0m\u001b[1;34m'Lossteam'\u001b[0m\u001b[1;33m]\u001b[0m\u001b[1;33m[\u001b[0m\u001b[0mi\u001b[0m\u001b[1;33m]\u001b[0m \u001b[1;33m=\u001b[0m \u001b[0mwinloss\u001b[0m\u001b[1;33m[\u001b[0m\u001b[1;34m'Lossteam'\u001b[0m\u001b[1;33m]\u001b[0m\u001b[1;33m[\u001b[0m\u001b[0mi\u001b[0m\u001b[1;33m]\u001b[0m\u001b[1;33m.\u001b[0m\u001b[0mlower\u001b[0m\u001b[1;33m(\u001b[0m\u001b[1;33m)\u001b[0m\u001b[1;33m\u001b[0m\u001b[0m\n\u001b[0;32m      4\u001b[0m \u001b[1;33m\u001b[0m\u001b[0m\n\u001b[0;32m      5\u001b[0m \u001b[0mwinloss\u001b[0m\u001b[1;33m.\u001b[0m\u001b[0mhead\u001b[0m\u001b[1;33m(\u001b[0m\u001b[1;33m)\u001b[0m\u001b[1;33m\u001b[0m\u001b[0m\n",
      "\u001b[1;32mC:\\Anaconda2\\lib\\site-packages\\pandas\\core\\series.pyc\u001b[0m in \u001b[0;36m__getitem__\u001b[1;34m(self, key)\u001b[0m\n\u001b[0;32m    555\u001b[0m     \u001b[1;32mdef\u001b[0m \u001b[0m__getitem__\u001b[0m\u001b[1;33m(\u001b[0m\u001b[0mself\u001b[0m\u001b[1;33m,\u001b[0m \u001b[0mkey\u001b[0m\u001b[1;33m)\u001b[0m\u001b[1;33m:\u001b[0m\u001b[1;33m\u001b[0m\u001b[0m\n\u001b[0;32m    556\u001b[0m         \u001b[1;32mtry\u001b[0m\u001b[1;33m:\u001b[0m\u001b[1;33m\u001b[0m\u001b[0m\n\u001b[1;32m--> 557\u001b[1;33m             \u001b[0mresult\u001b[0m \u001b[1;33m=\u001b[0m \u001b[0mself\u001b[0m\u001b[1;33m.\u001b[0m\u001b[0mindex\u001b[0m\u001b[1;33m.\u001b[0m\u001b[0mget_value\u001b[0m\u001b[1;33m(\u001b[0m\u001b[0mself\u001b[0m\u001b[1;33m,\u001b[0m \u001b[0mkey\u001b[0m\u001b[1;33m)\u001b[0m\u001b[1;33m\u001b[0m\u001b[0m\n\u001b[0m\u001b[0;32m    558\u001b[0m \u001b[1;33m\u001b[0m\u001b[0m\n\u001b[0;32m    559\u001b[0m             \u001b[1;32mif\u001b[0m \u001b[1;32mnot\u001b[0m \u001b[0mnp\u001b[0m\u001b[1;33m.\u001b[0m\u001b[0misscalar\u001b[0m\u001b[1;33m(\u001b[0m\u001b[0mresult\u001b[0m\u001b[1;33m)\u001b[0m\u001b[1;33m:\u001b[0m\u001b[1;33m\u001b[0m\u001b[0m\n",
      "\u001b[1;32mC:\\Anaconda2\\lib\\site-packages\\pandas\\core\\index.pyc\u001b[0m in \u001b[0;36mget_value\u001b[1;34m(self, series, key)\u001b[0m\n\u001b[0;32m   1788\u001b[0m \u001b[1;33m\u001b[0m\u001b[0m\n\u001b[0;32m   1789\u001b[0m         \u001b[1;32mtry\u001b[0m\u001b[1;33m:\u001b[0m\u001b[1;33m\u001b[0m\u001b[0m\n\u001b[1;32m-> 1790\u001b[1;33m             \u001b[1;32mreturn\u001b[0m \u001b[0mself\u001b[0m\u001b[1;33m.\u001b[0m\u001b[0m_engine\u001b[0m\u001b[1;33m.\u001b[0m\u001b[0mget_value\u001b[0m\u001b[1;33m(\u001b[0m\u001b[0ms\u001b[0m\u001b[1;33m,\u001b[0m \u001b[0mk\u001b[0m\u001b[1;33m)\u001b[0m\u001b[1;33m\u001b[0m\u001b[0m\n\u001b[0m\u001b[0;32m   1791\u001b[0m         \u001b[1;32mexcept\u001b[0m \u001b[0mKeyError\u001b[0m \u001b[1;32mas\u001b[0m \u001b[0me1\u001b[0m\u001b[1;33m:\u001b[0m\u001b[1;33m\u001b[0m\u001b[0m\n\u001b[0;32m   1792\u001b[0m             \u001b[1;32mif\u001b[0m \u001b[0mlen\u001b[0m\u001b[1;33m(\u001b[0m\u001b[0mself\u001b[0m\u001b[1;33m)\u001b[0m \u001b[1;33m>\u001b[0m \u001b[1;36m0\u001b[0m \u001b[1;32mand\u001b[0m \u001b[0mself\u001b[0m\u001b[1;33m.\u001b[0m\u001b[0minferred_type\u001b[0m \u001b[1;32min\u001b[0m \u001b[1;33m[\u001b[0m\u001b[1;34m'integer'\u001b[0m\u001b[1;33m,\u001b[0m\u001b[1;34m'boolean'\u001b[0m\u001b[1;33m]\u001b[0m\u001b[1;33m:\u001b[0m\u001b[1;33m\u001b[0m\u001b[0m\n",
      "\u001b[1;32mpandas\\index.pyx\u001b[0m in \u001b[0;36mpandas.index.IndexEngine.get_value (pandas\\index.c:3204)\u001b[1;34m()\u001b[0m\n",
      "\u001b[1;32mpandas\\index.pyx\u001b[0m in \u001b[0;36mpandas.index.IndexEngine.get_value (pandas\\index.c:2903)\u001b[1;34m()\u001b[0m\n",
      "\u001b[1;32mpandas\\index.pyx\u001b[0m in \u001b[0;36mpandas.index.IndexEngine.get_loc (pandas\\index.c:3843)\u001b[1;34m()\u001b[0m\n",
      "\u001b[1;32mpandas\\hashtable.pyx\u001b[0m in \u001b[0;36mpandas.hashtable.Int64HashTable.get_item (pandas\\hashtable.c:6525)\u001b[1;34m()\u001b[0m\n",
      "\u001b[1;32mpandas\\hashtable.pyx\u001b[0m in \u001b[0;36mpandas.hashtable.Int64HashTable.get_item (pandas\\hashtable.c:6463)\u001b[1;34m()\u001b[0m\n",
      "\u001b[1;31mKeyError\u001b[0m: 200L"
     ]
    }
   ],
   "source": [
    "for i in range(0,len(winloss)):\n",
    "    winloss['Winteam'][i] = winloss['Winteam'][i].lower()\n",
    "    winloss['Lossteam'][i] = winloss['Lossteam'][i].lower()\n",
    "    \n",
    "winloss.head()"
   ]
  },
  {
   "cell_type": "code",
   "execution_count": 65,
   "metadata": {
    "collapsed": false
   },
   "outputs": [],
   "source": [
    "winloss = pd.read_csv('winloss 2015a.csv')\n",
    "winloss.head()\n",
    "winloss['Winteam'].unique()\n",
    "winteams = Series(winloss['Winteam'])\n",
    "lossteams = Series(winloss['Lossteam'])\n",
    "winteams.append(lossteams)\n",
    "teams = Series(winteams.unique())"
   ]
  },
  {
   "cell_type": "code",
   "execution_count": 67,
   "metadata": {
    "collapsed": false
   },
   "outputs": [
    {
     "data": {
      "text/html": [
       "<div>\n",
       "<table border=\"1\" class=\"dataframe\">\n",
       "  <thead>\n",
       "    <tr style=\"text-align: right;\">\n",
       "      <th></th>\n",
       "      <th>Unnamed: 0</th>\n",
       "      <th>IsDraw</th>\n",
       "      <th>Winteam</th>\n",
       "      <th>Lossteam</th>\n",
       "      <th>gameplayed</th>\n",
       "    </tr>\n",
       "  </thead>\n",
       "  <tbody>\n",
       "    <tr>\n",
       "      <th>0</th>\n",
       "      <td>0</td>\n",
       "      <td>False</td>\n",
       "      <td>chick park</td>\n",
       "      <td>applecross dressers</td>\n",
       "      <td>1</td>\n",
       "    </tr>\n",
       "    <tr>\n",
       "      <th>1</th>\n",
       "      <td>1</td>\n",
       "      <td>False</td>\n",
       "      <td>fremantle cappuccino strippers</td>\n",
       "      <td>cottesloe's hottest hoes</td>\n",
       "      <td>1</td>\n",
       "    </tr>\n",
       "    <tr>\n",
       "      <th>2</th>\n",
       "      <td>2</td>\n",
       "      <td>False</td>\n",
       "      <td>nedlands yung puccbois</td>\n",
       "      <td>dalkeith dalqueefs</td>\n",
       "      <td>1</td>\n",
       "    </tr>\n",
       "    <tr>\n",
       "      <th>3</th>\n",
       "      <td>3</td>\n",
       "      <td>False</td>\n",
       "      <td>perth on heat</td>\n",
       "      <td>attafail whales</td>\n",
       "      <td>1</td>\n",
       "    </tr>\n",
       "    <tr>\n",
       "      <th>4</th>\n",
       "      <td>4</td>\n",
       "      <td>True</td>\n",
       "      <td>bicton bath salts</td>\n",
       "      <td>south perth puckaneers</td>\n",
       "      <td>1</td>\n",
       "    </tr>\n",
       "  </tbody>\n",
       "</table>\n",
       "</div>"
      ],
      "text/plain": [
       "   Unnamed: 0 IsDraw                         Winteam  \\\n",
       "0           0  False                      chick park   \n",
       "1           1  False  fremantle cappuccino strippers   \n",
       "2           2  False          nedlands yung puccbois   \n",
       "3           3  False                   perth on heat   \n",
       "4           4   True               bicton bath salts   \n",
       "\n",
       "                   Lossteam  gameplayed  \n",
       "0       applecross dressers           1  \n",
       "1  cottesloe's hottest hoes           1  \n",
       "2        dalkeith dalqueefs           1  \n",
       "3           attafail whales           1  \n",
       "4    south perth puckaneers           1  "
      ]
     },
     "execution_count": 67,
     "metadata": {},
     "output_type": "execute_result"
    }
   ],
   "source": [
    "winloss.head()"
   ]
  },
  {
   "cell_type": "code",
   "execution_count": null,
   "metadata": {
    "collapsed": false
   },
   "outputs": [],
   "source": []
  }
 ],
 "metadata": {
  "kernelspec": {
   "display_name": "Python 2",
   "language": "python",
   "name": "python2"
  },
  "language_info": {
   "codemirror_mode": {
    "name": "ipython",
    "version": 2
   },
   "file_extension": ".py",
   "mimetype": "text/x-python",
   "name": "python",
   "nbconvert_exporter": "python",
   "pygments_lexer": "ipython2",
   "version": "2.7.12"
  },
  "nav_menu": {},
  "toc": {
   "navigate_menu": true,
   "number_sections": true,
   "sideBar": true,
   "threshold": 6,
   "toc_cell": true,
   "toc_section_display": "block",
   "toc_window_display": false
  }
 },
 "nbformat": 4,
 "nbformat_minor": 0
}
