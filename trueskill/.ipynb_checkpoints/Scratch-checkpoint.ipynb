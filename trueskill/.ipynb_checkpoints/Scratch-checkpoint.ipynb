{
 "cells": [
  {
   "cell_type": "code",
   "execution_count": 4,
   "metadata": {
    "collapsed": false
   },
   "outputs": [],
   "source": [
    "import numpy as np\n",
    "import pandas as pd\n",
    "from pandas import Series,DataFrame\n",
    "\n",
    "import trueskill as ts\n",
    "\n",
    "import warnings\n",
    "from time import gmtime, strftime\n",
    "\n",
    "#path to datafile\n",
    "path = \"/home/jovyan/work/_core/projects/datasets/\""
   ]
  },
  {
   "cell_type": "code",
   "execution_count": 5,
   "metadata": {
    "collapsed": false
   },
   "outputs": [],
   "source": [
    "raw_csv = pd.read_csv(path+'afl.csv')"
   ]
  },
  {
   "cell_type": "code",
   "execution_count": 6,
   "metadata": {
    "collapsed": false
   },
   "outputs": [
    {
     "data": {
      "text/html": [
       "<div>\n",
       "<table border=\"1\" class=\"dataframe\">\n",
       "  <thead>\n",
       "    <tr style=\"text-align: right;\">\n",
       "      <th></th>\n",
       "      <th>Season</th>\n",
       "      <th>Round</th>\n",
       "      <th>Date</th>\n",
       "      <th>Home team</th>\n",
       "      <th>Home score</th>\n",
       "      <th>Away team</th>\n",
       "      <th>Away score</th>\n",
       "      <th>Playing for</th>\n",
       "      <th>Time on Ground %</th>\n",
       "      <th>Player Name</th>\n",
       "      <th>Is draw</th>\n",
       "      <th>Player win</th>\n",
       "      <th>Game Code</th>\n",
       "      <th>Home win</th>\n",
       "      <th>WinTeam</th>\n",
       "      <th>LossTeam</th>\n",
       "    </tr>\n",
       "  </thead>\n",
       "  <tbody>\n",
       "    <tr>\n",
       "      <th>0</th>\n",
       "      <td>2006</td>\n",
       "      <td>1</td>\n",
       "      <td>30/03/2006</td>\n",
       "      <td>West Coast</td>\n",
       "      <td>84</td>\n",
       "      <td>St Kilda</td>\n",
       "      <td>66</td>\n",
       "      <td>West Coast</td>\n",
       "      <td>73</td>\n",
       "      <td>Michael Braun</td>\n",
       "      <td>False</td>\n",
       "      <td>True</td>\n",
       "      <td>2006-03-30West CoastSt Kilda</td>\n",
       "      <td>True</td>\n",
       "      <td>West Coast</td>\n",
       "      <td>St Kilda</td>\n",
       "    </tr>\n",
       "    <tr>\n",
       "      <th>1</th>\n",
       "      <td>2006</td>\n",
       "      <td>1</td>\n",
       "      <td>30/03/2006</td>\n",
       "      <td>West Coast</td>\n",
       "      <td>84</td>\n",
       "      <td>St Kilda</td>\n",
       "      <td>66</td>\n",
       "      <td>West Coast</td>\n",
       "      <td>90</td>\n",
       "      <td>Daniel Chick</td>\n",
       "      <td>False</td>\n",
       "      <td>True</td>\n",
       "      <td>2006-03-30West CoastSt Kilda</td>\n",
       "      <td>True</td>\n",
       "      <td>West Coast</td>\n",
       "      <td>St Kilda</td>\n",
       "    </tr>\n",
       "    <tr>\n",
       "      <th>2</th>\n",
       "      <td>2006</td>\n",
       "      <td>1</td>\n",
       "      <td>30/03/2006</td>\n",
       "      <td>West Coast</td>\n",
       "      <td>84</td>\n",
       "      <td>St Kilda</td>\n",
       "      <td>66</td>\n",
       "      <td>West Coast</td>\n",
       "      <td>88</td>\n",
       "      <td>Ben Cousins</td>\n",
       "      <td>False</td>\n",
       "      <td>True</td>\n",
       "      <td>2006-03-30West CoastSt Kilda</td>\n",
       "      <td>True</td>\n",
       "      <td>West Coast</td>\n",
       "      <td>St Kilda</td>\n",
       "    </tr>\n",
       "    <tr>\n",
       "      <th>3</th>\n",
       "      <td>2006</td>\n",
       "      <td>1</td>\n",
       "      <td>30/03/2006</td>\n",
       "      <td>West Coast</td>\n",
       "      <td>84</td>\n",
       "      <td>St Kilda</td>\n",
       "      <td>66</td>\n",
       "      <td>West Coast</td>\n",
       "      <td>71</td>\n",
       "      <td>Dean Cox</td>\n",
       "      <td>False</td>\n",
       "      <td>True</td>\n",
       "      <td>2006-03-30West CoastSt Kilda</td>\n",
       "      <td>True</td>\n",
       "      <td>West Coast</td>\n",
       "      <td>St Kilda</td>\n",
       "    </tr>\n",
       "    <tr>\n",
       "      <th>4</th>\n",
       "      <td>2006</td>\n",
       "      <td>1</td>\n",
       "      <td>30/03/2006</td>\n",
       "      <td>West Coast</td>\n",
       "      <td>84</td>\n",
       "      <td>St Kilda</td>\n",
       "      <td>66</td>\n",
       "      <td>West Coast</td>\n",
       "      <td>84</td>\n",
       "      <td>Andrew Embley</td>\n",
       "      <td>False</td>\n",
       "      <td>True</td>\n",
       "      <td>2006-03-30West CoastSt Kilda</td>\n",
       "      <td>True</td>\n",
       "      <td>West Coast</td>\n",
       "      <td>St Kilda</td>\n",
       "    </tr>\n",
       "  </tbody>\n",
       "</table>\n",
       "</div>"
      ],
      "text/plain": [
       "   Season  Round        Date   Home team  Home score Away team  Away score  \\\n",
       "0    2006      1  30/03/2006  West Coast          84  St Kilda          66   \n",
       "1    2006      1  30/03/2006  West Coast          84  St Kilda          66   \n",
       "2    2006      1  30/03/2006  West Coast          84  St Kilda          66   \n",
       "3    2006      1  30/03/2006  West Coast          84  St Kilda          66   \n",
       "4    2006      1  30/03/2006  West Coast          84  St Kilda          66   \n",
       "\n",
       "  Playing for  Time on Ground %    Player Name Is draw Player win  \\\n",
       "0  West Coast                73  Michael Braun   False       True   \n",
       "1  West Coast                90   Daniel Chick   False       True   \n",
       "2  West Coast                88    Ben Cousins   False       True   \n",
       "3  West Coast                71       Dean Cox   False       True   \n",
       "4  West Coast                84  Andrew Embley   False       True   \n",
       "\n",
       "                      Game Code Home win     WinTeam  LossTeam  \n",
       "0  2006-03-30West CoastSt Kilda     True  West Coast  St Kilda  \n",
       "1  2006-03-30West CoastSt Kilda     True  West Coast  St Kilda  \n",
       "2  2006-03-30West CoastSt Kilda     True  West Coast  St Kilda  \n",
       "3  2006-03-30West CoastSt Kilda     True  West Coast  St Kilda  \n",
       "4  2006-03-30West CoastSt Kilda     True  West Coast  St Kilda  "
      ]
     },
     "execution_count": 6,
     "metadata": {},
     "output_type": "execute_result"
    }
   ],
   "source": [
    "raw_csv.head()"
   ]
  },
  {
   "cell_type": "code",
   "execution_count": 7,
   "metadata": {
    "collapsed": false
   },
   "outputs": [
    {
     "name": "stdout",
     "output_type": "stream",
     "text": [
      "44 rows\n",
      "16 columns\n",
      "Column names are:\n",
      "['Season', 'Round', 'Date', 'Home team', 'Home score', 'Away team', 'Away score', 'Playing for', 'Time on Ground %', 'Player Name', 'Is draw', 'Player win', 'Game Code', 'Home win', 'WinTeam', 'LossTeam']\n"
     ]
    }
   ],
   "source": [
    "# How big of a dataset are we talking here?\n",
    "print len(raw_csv.index), 'rows'\n",
    "raw_headers = list(raw_csv.columns.values)\n",
    "print len(raw_headers), 'columns'\n",
    "print 'Column names are:'\n",
    "print raw_headers"
   ]
  },
  {
   "cell_type": "markdown",
   "metadata": {
    "collapsed": true
   },
   "source": [
    "So just under 100k player records. 65 or so attributes for each player, but plenty of duplication.\n",
    "What do we need for TrueSkill? Well, we need:\n",
    " - Game info (season, round, date, winner, loser)\n",
    " - Player info (First Name, Surname - possibly in one string or maybe just use player ID)\n",
    " - Play info (time on ground is pretty useful for TrueSkill)"
   ]
  },
  {
   "cell_type": "code",
   "execution_count": null,
   "metadata": {
    "collapsed": false
   },
   "outputs": [],
   "source": [
    "# Make a new DataFrame with just the info we need\n",
    "data_cut = raw_csv.drop(['Local start time', 'Venue', 'Attendance', 'HQ1G', ' HQ1B', ' HQ2G', ' HQ2B', ' HQ3G', ' HQ3B', 'HQ4G', 'HQ4B',\n",
    "                        'Home coach DOB','AQ1G', ' AQ1B', ' AQ2G', ' AQ2B', ' AQ3G', 'AQ3B', 'AQ4G', 'AQ4B','Away coach DOB','DOB', \n",
    "                         'Height', 'Weight', 'Jumper No.','Kicks', 'Marks', 'Handballs', 'Goals', 'Behinds', 'Hit Outs', 'Tackles', \n",
    "                         'Rebounds', 'Inside 50s', 'Clearances', 'Clangers', 'Frees For', 'Frees Against', 'Brownlow Votes', \n",
    "                         'Contested Possessions', 'Uncontested Possessions', 'Contested Marks', 'Marks Inside 50', 'One Percenters', \n",
    "                         'Bounces', 'Goal Assists', 'Substitute', 'Umpire 1', 'Umpire 2', 'Umpire 3', 'Umpire 4'],inplace = False,axis=1)\n",
    "data_cut.head()"
   ]
  },
  {
   "cell_type": "code",
   "execution_count": null,
   "metadata": {
    "collapsed": false
   },
   "outputs": [],
   "source": [
    "# Make a column with the player names from the first and last names of the players\n",
    "data_cut['Player Name'] = data_cut['First name']+' ' + data_cut['Surname']\n",
    "data_cut.head()"
   ]
  },
  {
   "cell_type": "code",
   "execution_count": null,
   "metadata": {
    "collapsed": true
   },
   "outputs": [],
   "source": [
    "# Write to csv so we don't have to process and cut down the data again\n",
    "data_cut.to_csv('cut down data.csv')"
   ]
  },
  {
   "cell_type": "code",
   "execution_count": null,
   "metadata": {
    "collapsed": true
   },
   "outputs": [],
   "source": [
    "players = data_cut['Player Name']"
   ]
  },
  {
   "cell_type": "code",
   "execution_count": null,
   "metadata": {
    "collapsed": false
   },
   "outputs": [],
   "source": [
    "# How many players?\n",
    "len(players.unique())"
   ]
  },
  {
   "cell_type": "code",
   "execution_count": null,
   "metadata": {
    "collapsed": false
   },
   "outputs": [],
   "source": [
    "# If we take the lower case of all the players in the league, how many unique values are there?\n",
    "players_lower = players.str.lower()\n",
    "print len(players_lower.unique()), 'players in lower(players)'\n",
    "# This doesn't differ from the non-lower case value, so it would seem that there aren't any \n",
    "# typing/input issues in the Player Name column\n",
    "print len(data_cut['ID'].unique()), 'unique player IDs'\n",
    "# Somehow there are more unique player IDs than unique players\n",
    "# Put this down to a change in the player ID system?\n",
    "# This means we can't use player ID as the unique identifier - must use player name"
   ]
  },
  {
   "cell_type": "code",
   "execution_count": null,
   "metadata": {
    "collapsed": false
   },
   "outputs": [],
   "source": [
    "# Create skill values for all players in the league\n",
    "playerskill = {name:ts.Rating() for name in players.unique()}\n",
    "playerskill;"
   ]
  },
  {
   "cell_type": "code",
   "execution_count": null,
   "metadata": {
    "collapsed": false
   },
   "outputs": [],
   "source": [
    "data_cut.sort_values(['Date', 'Home team','Playing for'])\n",
    "data_cut.head()"
   ]
  },
  {
   "cell_type": "code",
   "execution_count": null,
   "metadata": {
    "collapsed": false
   },
   "outputs": [],
   "source": [
    "# If player1 and player2 beat player3 and player4 then:\n",
    "# trueskill.rate([(player1,player2),(player3,player4)],weights=[(player1%,player2%),(player3%,player4%)])\n",
    "# Assuming player1 spent player1% of the game playing, etc.\n",
    "\n",
    "data_cut['Played at home'] = (data_cut['Playing for']==data_cut['Home team'])\n",
    "data_cut['Home win'] = (data_cut['Home score']>data_cut['Away score'])\n",
    "data_cut['Is draw'] = (data_cut['Home score']==data_cut['Away score'])\n",
    "data_cut.head()"
   ]
  },
  {
   "cell_type": "code",
   "execution_count": null,
   "metadata": {
    "collapsed": false
   },
   "outputs": [],
   "source": [
    "# If the player played at home and the home team won, the player won\n",
    "# If the player did not play at home and the home team did not win, the player won\n",
    "data_cut['Player win'] = data_cut['Played at home'] == data_cut['Home win']\n",
    "data_cut.drop(['Played at home','Home win'], axis = 1, inplace = True)"
   ]
  },
  {
   "cell_type": "code",
   "execution_count": null,
   "metadata": {
    "collapsed": false
   },
   "outputs": [],
   "source": [
    "data_cut.drop(['First name','Surname','ID','Home coach','Away coach'],axis = 1, inplace = True)\n",
    "data_cut.head()"
   ]
  },
  {
   "cell_type": "code",
   "execution_count": null,
   "metadata": {
    "collapsed": false
   },
   "outputs": [],
   "source": [
    "data_cut['Game Code'] = data_cut['Date']+data_cut['Home team']+data_cut['Away team']"
   ]
  },
  {
   "cell_type": "code",
   "execution_count": null,
   "metadata": {
    "collapsed": false
   },
   "outputs": [],
   "source": [
    "len(data_cut['Game Code'].unique())\n",
    "# Data for 2148 games?\n",
    "# 8 games per round, 22 rounds, 10 years gives 1760 games\n",
    "# Finals must be included?"
   ]
  },
  {
   "cell_type": "code",
   "execution_count": null,
   "metadata": {
    "collapsed": false
   },
   "outputs": [],
   "source": [
    "data_cut['Round'].unique()\n",
    "# Confirms finals are included, need to find out what the 1L:23L are? Not sure"
   ]
  },
  {
   "cell_type": "code",
   "execution_count": null,
   "metadata": {
    "collapsed": false
   },
   "outputs": [],
   "source": [
    "data_cut['Home win'] = (data_cut['Home score']>data_cut['Away score'])\n",
    "data_cut.head()"
   ]
  },
  {
   "cell_type": "code",
   "execution_count": null,
   "metadata": {
    "collapsed": false
   },
   "outputs": [],
   "source": []
  },
  {
   "cell_type": "markdown",
   "metadata": {
    "collapsed": false
   },
   "source": [
    "# data_cut['WinTeam'] = np.NaN\n",
    "data_cut['LossTeam'] = np.NaN\n",
    "# Use df.loc[row,column] for setting values \n",
    "# instead of the pleb way (df[column][row])\n",
    "# pleb way can give unpredictable results\n",
    "data_len = len(data_cut.index)\n",
    "tenpercent = int(0.1*data_len)\n",
    "\n",
    "# This is bad, should be using .apply()\n",
    "for i in range(0,data_len):\n",
    "    if data_cut.loc[i,'Home win']:\n",
    "        data_cut.loc[i,'WinTeam'] = data_cut.loc[i,'Home team']\n",
    "        data_cut.loc[i,'LossTeam'] = data_cut.loc[i,'Away team']\n",
    "    else:\n",
    "        data_cut.loc[i,'WinTeam'] = data_cut.loc[i,'Away team']\n",
    "        data_cut.loc[i,'LossTeam'] = data_cut.loc[i,'Home team']\n",
    "    # Use this shitty large if statement to print how far through the processing it is, and whether it's stopped or not\n",
    "    if i == tenpercent:\n",
    "        print 'Approximately 10% complete'\n",
    "    elif i == 2*tenpercent:\n",
    "        print 'Approximately 20% complete'\n",
    "    elif i == 3*tenpercent:\n",
    "        print 'Approximately 30% complete'\n",
    "    elif i == 4*tenpercent:\n",
    "        print 'Approximately 40% complete'\n",
    "    elif i == 5*tenpercent:\n",
    "        print 'Approximately 50% complete' \n",
    "    elif i == 6*tenpercent:\n",
    "        print 'Approximately 60% complete'\n",
    "    elif i == 7*tenpercent:\n",
    "        print 'Approximately 70% complete'\n",
    "    elif i == 8*tenpercent:\n",
    "        print 'Approximately 80% complete'\n",
    "    elif i == 9*tenpercent:\n",
    "        print 'Approximately 90% complete'\n",
    "    else:\n",
    "        None\n",
    "\n",
    "# Write it to csv because this takes fucking ages\n",
    "data_cut.to_csv('data cleaned stage 1.csv')\n",
    "\n",
    "# This cell is markdown so it doesn't get executed again, but the code is here so that I can see what I did (and how badly)\n",
    "# Seriously kids use df.apply()"
   ]
  },
  {
   "cell_type": "code",
   "execution_count": null,
   "metadata": {
    "collapsed": false
   },
   "outputs": [],
   "source": []
  },
  {
   "cell_type": "code",
   "execution_count": null,
   "metadata": {
    "collapsed": false
   },
   "outputs": [],
   "source": [
    "data_cut = pd.read_csv('data cleaned stage 1.csv')\n",
    "data_cut.head()"
   ]
  },
  {
   "cell_type": "code",
   "execution_count": null,
   "metadata": {
    "collapsed": false
   },
   "outputs": [],
   "source": [
    "data_wrangled = pd.DataFrame(columns=['Game Code','Winteam Players', 'Lossteam Players','GameDraw','Winteam Players %time','Lossteam Players %time'])\n",
    "data_wrangled.head()"
   ]
  },
  {
   "cell_type": "markdown",
   "metadata": {},
   "source": []
  },
  {
   "cell_type": "code",
   "execution_count": null,
   "metadata": {
    "collapsed": false
   },
   "outputs": [],
   "source": [
    "data_wrangled['Game Code'] = data_cut['Game Code'].unique()"
   ]
  },
  {
   "cell_type": "code",
   "execution_count": null,
   "metadata": {
    "collapsed": false
   },
   "outputs": [],
   "source": [
    "data_wrangled.head()"
   ]
  },
  {
   "cell_type": "code",
   "execution_count": null,
   "metadata": {
    "collapsed": true
   },
   "outputs": [],
   "source": []
  }
 ],
 "metadata": {
  "anaconda-cloud": {},
  "kernelspec": {
   "display_name": "Python 2",
   "language": "python",
   "name": "python2"
  },
  "language_info": {
   "codemirror_mode": {
    "name": "ipython",
    "version": 2
   },
   "file_extension": ".py",
   "mimetype": "text/x-python",
   "name": "python",
   "nbconvert_exporter": "python",
   "pygments_lexer": "ipython2",
   "version": "2.7.12"
  },
  "notify_time": "30"
 },
 "nbformat": 4,
 "nbformat_minor": 0
}
