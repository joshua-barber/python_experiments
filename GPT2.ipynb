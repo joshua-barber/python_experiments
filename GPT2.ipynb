{
  "nbformat": 4,
  "nbformat_minor": 0,
  "metadata": {
    "colab": {
      "name": "Untitled1.ipynb",
      "version": "0.3.2",
      "provenance": [],
      "include_colab_link": true
    },
    "kernelspec": {
      "name": "python3",
      "display_name": "Python 3"
    }
  },
  "cells": [
    {
      "cell_type": "markdown",
      "metadata": {
        "id": "view-in-github",
        "colab_type": "text"
      },
      "source": [
        "<a href=\"https://colab.research.google.com/github/joshua-barber/python_experiments/blob/master/GPT2.ipynb\" target=\"_parent\"><img src=\"https://colab.research.google.com/assets/colab-badge.svg\" alt=\"Open In Colab\"/></a>"
      ]
    },
    {
      "cell_type": "code",
      "metadata": {
        "id": "zGUj3U-42VPq",
        "colab_type": "code",
        "colab": {}
      },
      "source": [
        "# Download GPT-2 (small 117M model)\n",
        "!git clone https://github.com/openai/gpt-2\n",
        "%cd gpt-2\n",
        "!python ./download_model.py 345M\n",
        "!pip3 install -r requirements.txt\n",
        "!sed -i 's/top_k=0/top_k=40/g' src/interactive_conditional_samples.py\n",
        "!sed -i 's/117M/345M/g' src/interactive_conditional_samples.py\n",
        "!python3 src/interactive_conditional_samples.py"
      ],
      "execution_count": 0,
      "outputs": []
    }
  ]
}