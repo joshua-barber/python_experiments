{
 "cells": [
  {
   "cell_type": "markdown",
   "metadata": {},
   "source": [
    "### Standalone HTML file generation  \n",
    "http://bokeh.pydata.org/en/latest/docs/user_guide/embed.html  "
   ]
  },
  {
   "cell_type": "code",
   "execution_count": 43,
   "metadata": {
    "collapsed": false
   },
   "outputs": [],
   "source": [
    "from bokeh.plotting import figure\n",
    "from bokeh.resources import CDN\n",
    "from bokeh.embed import file_html\n",
    "\n",
    "plot = figure()\n",
    "plot.circle([1,2], [3,4])\n",
    "\n",
    "html = file_html(plot, CDN, \"my plot\")"
   ]
  },
  {
   "cell_type": "code",
   "execution_count": 44,
   "metadata": {
    "collapsed": false
   },
   "outputs": [],
   "source": [
    "Html_file= open(\"test.html\",\"w\")\n",
    "Html_file.write(html)\n",
    "Html_file.close()"
   ]
  },
  {
   "cell_type": "code",
   "execution_count": 45,
   "metadata": {
    "collapsed": false
   },
   "outputs": [
    {
     "name": "stdout",
     "output_type": "stream",
     "text": [
      "\u001b[0m\u001b[01;32mBokeh testing.ipynb\u001b[0m*  \u001b[01;32mhello.txt\u001b[0m*  \u001b[01;32mtest.html\u001b[0m*\r\n"
     ]
    }
   ],
   "source": [
    "ls"
   ]
  },
  {
   "cell_type": "markdown",
   "metadata": {},
   "source": [
    "### HTML Components"
   ]
  },
  {
   "cell_type": "code",
   "execution_count": 46,
   "metadata": {
    "collapsed": true
   },
   "outputs": [],
   "source": [
    "from bokeh.plotting import figure\n",
    "from bokeh.embed import components\n",
    "\n",
    "plot = figure()\n",
    "plot.circle([1,2], [3,4])\n",
    "\n",
    "script, div = components(plot)"
   ]
  },
  {
   "cell_type": "markdown",
   "metadata": {},
   "source": [
    "### Component 2"
   ]
  },
  {
   "cell_type": "code",
   "execution_count": 47,
   "metadata": {
    "collapsed": false
   },
   "outputs": [
    {
     "name": "stdout",
     "output_type": "stream",
     "text": [
      "\n",
      "<script type=\"text/javascript\">\n",
      "    Bokeh.$(function() {\n",
      "    Bokeh.safely(function() {\n",
      "        var docs_json = {\"8eb5f21e-7339-437e-a5d1-488f0879a869\":{\"roots\":{\"references\":[{\"attributes\":{\"formatter\":{\"id\":\"8e3e8b94-3355-43f8-91d6-8e9bca3e8db3\",\"type\":\"BasicTickFormatter\"},\"plot\":{\"id\":\"a6521c49-0574-4edc-882a-d8165bf8658c\",\"subtype\":\"Figure\",\"type\":\"Plot\"},\"ticker\":{\"id\":\"d2b8ee67-837b-44a9-a401-e099c7e16061\",\"type\":\"BasicTicker\"}},\"id\":\"f3659d8f-3401-4980-8574-8e6a35b71a8f\",\"type\":\"LinearAxis\"},{\"attributes\":{\"data_source\":{\"id\":\"f4e946a9-ff9b-4d08-886b-b34897fecb1d\",\"type\":\"ColumnDataSource\"},\"glyph\":{\"id\":\"4ed2e0ce-80b5-4752-9147-0398a89341e7\",\"type\":\"Circle\"},\"hover_glyph\":null,\"nonselection_glyph\":{\"id\":\"b8c5a19a-2e2d-44e9-a8cb-d8b2dac60a5d\",\"type\":\"Circle\"},\"selection_glyph\":null},\"id\":\"d2e12c39-bbe1-42c7-a666-0ebe5a446c5f\",\"type\":\"GlyphRenderer\"},{\"attributes\":{\"bottom_units\":\"screen\",\"fill_alpha\":{\"value\":0.5},\"fill_color\":{\"value\":\"lightgrey\"},\"left_units\":\"screen\",\"level\":\"overlay\",\"line_alpha\":{\"value\":1.0},\"line_color\":{\"value\":\"black\"},\"line_dash\":[4,4],\"line_width\":{\"value\":2},\"plot\":null,\"render_mode\":\"css\",\"right_units\":\"screen\",\"top_units\":\"screen\"},\"id\":\"70b0a575-0b4f-4d00-85d3-f238c0dd33ff\",\"type\":\"BoxAnnotation\"},{\"attributes\":{\"plot\":{\"id\":\"863826db-cae8-4359-ba8f-dc7919a991e5\",\"subtype\":\"Figure\",\"type\":\"Plot\"}},\"id\":\"ef0b7a04-3ab8-43d5-b620-95e7e2f329ba\",\"type\":\"ResetTool\"},{\"attributes\":{},\"id\":\"8e3e8b94-3355-43f8-91d6-8e9bca3e8db3\",\"type\":\"BasicTickFormatter\"},{\"attributes\":{\"callback\":null,\"column_names\":[\"y\",\"x\"],\"data\":{\"x\":[0,1,2,3,4,5,6,7,8,9,10],\"y\":[0,8,2,4,6,9,5,6,25,28,4,7]}},\"id\":\"f4e946a9-ff9b-4d08-886b-b34897fecb1d\",\"type\":\"ColumnDataSource\"},{\"attributes\":{},\"id\":\"8d9abb1a-1a95-490f-8a32-31c48e5f5525\",\"type\":\"BasicTicker\"},{\"attributes\":{\"dimension\":1,\"plot\":{\"id\":\"a6521c49-0574-4edc-882a-d8165bf8658c\",\"subtype\":\"Figure\",\"type\":\"Plot\"},\"ticker\":{\"id\":\"6545bf1b-4f5e-438e-835b-8d598c54b789\",\"type\":\"BasicTicker\"}},\"id\":\"58c9804b-4c11-4043-8ec3-23f3426b24b2\",\"type\":\"Grid\"},{\"attributes\":{\"callback\":null,\"column_names\":[\"y\",\"x\"],\"data\":{\"x\":[2,5,7,15,18,19,25,28,9,10,4],\"y\":[2,4,6,9,15,18,0,8,2,25,28]}},\"id\":\"855cfa07-9821-4836-8ef8-92f21ae3bc71\",\"type\":\"ColumnDataSource\"},{\"attributes\":{\"dimension\":1,\"plot\":{\"id\":\"863826db-cae8-4359-ba8f-dc7919a991e5\",\"subtype\":\"Figure\",\"type\":\"Plot\"},\"ticker\":{\"id\":\"59ebdadd-b4ea-47a8-8f09-5bc155b941d2\",\"type\":\"BasicTicker\"}},\"id\":\"c27dc396-ee01-44f6-9697-50df7194df43\",\"type\":\"Grid\"},{\"attributes\":{\"plot\":{\"id\":\"b1314c9b-061a-4714-bf2b-b4460ff21bb4\",\"subtype\":\"Figure\",\"type\":\"Plot\"}},\"id\":\"8babc36f-4568-4d03-a859-714f9dda6a6f\",\"type\":\"PanTool\"},{\"attributes\":{\"plot\":{\"id\":\"a6521c49-0574-4edc-882a-d8165bf8658c\",\"subtype\":\"Figure\",\"type\":\"Plot\"}},\"id\":\"0325b453-1c1f-4d80-9f22-67a6c40ee4d3\",\"type\":\"SaveTool\"},{\"attributes\":{\"formatter\":{\"id\":\"607844b4-da66-4246-9835-9254a55c0579\",\"type\":\"BasicTickFormatter\"},\"plot\":{\"id\":\"b1314c9b-061a-4714-bf2b-b4460ff21bb4\",\"subtype\":\"Figure\",\"type\":\"Plot\"},\"ticker\":{\"id\":\"adb20a5f-dd3d-4f56-82f4-739e899a32bf\",\"type\":\"BasicTicker\"}},\"id\":\"038e87c3-f064-4ee3-a022-b7a4eece05de\",\"type\":\"LinearAxis\"},{\"attributes\":{\"fill_alpha\":{\"value\":0.5},\"fill_color\":{\"value\":\"blue\"},\"line_alpha\":{\"value\":0.5},\"line_color\":{\"value\":\"blue\"},\"size\":{\"units\":\"screen\",\"value\":12},\"x\":{\"field\":\"x\"},\"y\":{\"field\":\"y\"}},\"id\":\"33463310-bd72-444c-851d-14909a754418\",\"type\":\"Circle\"},{\"attributes\":{\"data_source\":{\"id\":\"3d2f870e-1da0-44c2-a3bf-e2eba57b8eed\",\"type\":\"ColumnDataSource\"},\"glyph\":{\"id\":\"11852e53-ee50-4840-a432-1008c87686f8\",\"type\":\"Circle\"},\"hover_glyph\":null,\"nonselection_glyph\":{\"id\":\"7bac62ba-1aff-498e-9831-54bb78121f3c\",\"type\":\"Circle\"},\"selection_glyph\":null},\"id\":\"4a6a12a5-6b21-4274-a98a-5f32d8ec0b97\",\"type\":\"GlyphRenderer\"},{\"attributes\":{\"plot\":{\"id\":\"b1314c9b-061a-4714-bf2b-b4460ff21bb4\",\"subtype\":\"Figure\",\"type\":\"Plot\"}},\"id\":\"037fef40-6611-444d-b207-21ca6040921a\",\"type\":\"SaveTool\"},{\"attributes\":{\"bottom_units\":\"screen\",\"fill_alpha\":{\"value\":0.5},\"fill_color\":{\"value\":\"lightgrey\"},\"left_units\":\"screen\",\"level\":\"overlay\",\"line_alpha\":{\"value\":1.0},\"line_color\":{\"value\":\"black\"},\"line_dash\":[4,4],\"line_width\":{\"value\":2},\"plot\":null,\"render_mode\":\"css\",\"right_units\":\"screen\",\"top_units\":\"screen\"},\"id\":\"9e438358-23f4-470a-9b2c-fc1dc885a12a\",\"type\":\"BoxAnnotation\"},{\"attributes\":{\"overlay\":{\"id\":\"9e438358-23f4-470a-9b2c-fc1dc885a12a\",\"type\":\"BoxAnnotation\"},\"plot\":{\"id\":\"b1314c9b-061a-4714-bf2b-b4460ff21bb4\",\"subtype\":\"Figure\",\"type\":\"Plot\"}},\"id\":\"cedfeeb2-3f06-41ab-b695-7b4e2f84e593\",\"type\":\"BoxZoomTool\"},{\"attributes\":{\"bottom_units\":\"screen\",\"fill_alpha\":{\"value\":0.5},\"fill_color\":{\"value\":\"lightgrey\"},\"left_units\":\"screen\",\"level\":\"overlay\",\"line_alpha\":{\"value\":1.0},\"line_color\":{\"value\":\"black\"},\"line_dash\":[4,4],\"line_width\":{\"value\":2},\"plot\":null,\"render_mode\":\"css\",\"right_units\":\"screen\",\"top_units\":\"screen\"},\"id\":\"7cd319ea-3a04-42c4-8c9d-c8642c7f2ec1\",\"type\":\"BoxAnnotation\"},{\"attributes\":{},\"id\":\"42b4c1f6-6441-43e8-9de9-33ea5c9f1b13\",\"type\":\"BasicTickFormatter\"},{\"attributes\":{\"callback\":null,\"column_names\":[\"y\",\"x\"],\"data\":{\"x\":[0,1,0,8,2,4,6,9,7,8,9],\"y\":[0,8,4,6,9,15,18,19,19,25,28]}},\"id\":\"3d2f870e-1da0-44c2-a3bf-e2eba57b8eed\",\"type\":\"ColumnDataSource\"},{\"attributes\":{\"plot\":null,\"text\":null},\"id\":\"6425b75c-51d8-423f-861a-9155cdd5c666\",\"type\":\"Title\"},{\"attributes\":{\"plot\":{\"id\":\"863826db-cae8-4359-ba8f-dc7919a991e5\",\"subtype\":\"Figure\",\"type\":\"Plot\"}},\"id\":\"cbc73654-3325-4229-917a-5b2e4a55971d\",\"type\":\"SaveTool\"},{\"attributes\":{\"plot\":{\"id\":\"a6521c49-0574-4edc-882a-d8165bf8658c\",\"subtype\":\"Figure\",\"type\":\"Plot\"}},\"id\":\"5e0e403f-9b50-427d-9a30-8cd014f879d8\",\"type\":\"ResetTool\"},{\"attributes\":{\"active_drag\":\"auto\",\"active_scroll\":\"auto\",\"active_tap\":\"auto\",\"tools\":[{\"id\":\"8babc36f-4568-4d03-a859-714f9dda6a6f\",\"type\":\"PanTool\"},{\"id\":\"bcbf1d48-b1f6-406f-abbc-a7349bab0287\",\"type\":\"WheelZoomTool\"},{\"id\":\"cedfeeb2-3f06-41ab-b695-7b4e2f84e593\",\"type\":\"BoxZoomTool\"},{\"id\":\"f818b961-c27a-4546-9678-a4ed6d7e926b\",\"type\":\"ResetTool\"},{\"id\":\"037fef40-6611-444d-b207-21ca6040921a\",\"type\":\"SaveTool\"}]},\"id\":\"c748ab45-538f-4407-b778-9fd896a227ba\",\"type\":\"Toolbar\"},{\"attributes\":{\"formatter\":{\"id\":\"1e830641-bd3a-4e0e-9cd6-b434ce37d577\",\"type\":\"BasicTickFormatter\"},\"plot\":{\"id\":\"863826db-cae8-4359-ba8f-dc7919a991e5\",\"subtype\":\"Figure\",\"type\":\"Plot\"},\"ticker\":{\"id\":\"66bce0ad-3004-4406-90f0-02d4a0f50e49\",\"type\":\"BasicTicker\"}},\"id\":\"880c5edf-4c02-4f83-863b-f618db6a906d\",\"type\":\"LinearAxis\"},{\"attributes\":{\"callback\":null,\"end\":30},\"id\":\"3596332f-a459-4c97-b8f9-11636a8757f5\",\"type\":\"Range1d\"},{\"attributes\":{\"fill_alpha\":{\"value\":0.1},\"fill_color\":{\"value\":\"#1f77b4\"},\"line_alpha\":{\"value\":0.1},\"line_color\":{\"value\":\"#1f77b4\"},\"size\":{\"units\":\"screen\",\"value\":12},\"x\":{\"field\":\"x\"},\"y\":{\"field\":\"y\"}},\"id\":\"b8c5a19a-2e2d-44e9-a8cb-d8b2dac60a5d\",\"type\":\"Circle\"},{\"attributes\":{},\"id\":\"626fae4c-21a5-44c3-812b-a83d2ed435c9\",\"type\":\"BasicTickFormatter\"},{\"attributes\":{\"callback\":null,\"end\":30},\"id\":\"edd1cd82-c36b-4797-9f85-15b95793adad\",\"type\":\"Range1d\"},{\"attributes\":{},\"id\":\"607844b4-da66-4246-9835-9254a55c0579\",\"type\":\"BasicTickFormatter\"},{\"attributes\":{\"data_source\":{\"id\":\"855cfa07-9821-4836-8ef8-92f21ae3bc71\",\"type\":\"ColumnDataSource\"},\"glyph\":{\"id\":\"33463310-bd72-444c-851d-14909a754418\",\"type\":\"Circle\"},\"hover_glyph\":null,\"nonselection_glyph\":{\"id\":\"4083754a-6979-41a2-bd06-294e5eef506d\",\"type\":\"Circle\"},\"selection_glyph\":null},\"id\":\"2b64e5de-92f2-4034-8336-6acf328a54ff\",\"type\":\"GlyphRenderer\"},{\"attributes\":{\"callback\":null,\"end\":30},\"id\":\"7fa523f2-3a6b-489c-ba98-f1e3d8213a0c\",\"type\":\"Range1d\"},{\"attributes\":{\"active_drag\":\"auto\",\"active_scroll\":\"auto\",\"active_tap\":\"auto\",\"tools\":[{\"id\":\"0a7d5cf8-cda5-4887-9898-b71044811840\",\"type\":\"PanTool\"},{\"id\":\"4b820023-d47b-46b5-b46d-eb0a3d495b2d\",\"type\":\"WheelZoomTool\"},{\"id\":\"776ef055-a1d3-4217-8de5-6e456b6abeea\",\"type\":\"BoxZoomTool\"},{\"id\":\"ef0b7a04-3ab8-43d5-b620-95e7e2f329ba\",\"type\":\"ResetTool\"},{\"id\":\"cbc73654-3325-4229-917a-5b2e4a55971d\",\"type\":\"SaveTool\"}]},\"id\":\"41cc62b8-9bd7-4856-98eb-b273799bba9c\",\"type\":\"Toolbar\"},{\"attributes\":{},\"id\":\"4e4e6908-c512-4a6e-a86d-5ad16a854ca7\",\"type\":\"ToolEvents\"},{\"attributes\":{\"below\":[{\"id\":\"3412a730-75c7-4f7f-8dab-4a33ed2554ac\",\"type\":\"LinearAxis\"}],\"left\":[{\"id\":\"038e87c3-f064-4ee3-a022-b7a4eece05de\",\"type\":\"LinearAxis\"}],\"plot_height\":300,\"plot_width\":300,\"renderers\":[{\"id\":\"3412a730-75c7-4f7f-8dab-4a33ed2554ac\",\"type\":\"LinearAxis\"},{\"id\":\"cf6d4bba-889b-4065-91f1-7c53da8e1a2e\",\"type\":\"Grid\"},{\"id\":\"038e87c3-f064-4ee3-a022-b7a4eece05de\",\"type\":\"LinearAxis\"},{\"id\":\"ae7b3d2c-00e6-49f5-b842-cec877ac5e41\",\"type\":\"Grid\"},{\"id\":\"9e438358-23f4-470a-9b2c-fc1dc885a12a\",\"type\":\"BoxAnnotation\"},{\"id\":\"2b64e5de-92f2-4034-8336-6acf328a54ff\",\"type\":\"GlyphRenderer\"}],\"title\":{\"id\":\"6425b75c-51d8-423f-861a-9155cdd5c666\",\"type\":\"Title\"},\"tool_events\":{\"id\":\"389fc359-08cc-4204-8dd0-243e051ab78b\",\"type\":\"ToolEvents\"},\"toolbar\":{\"id\":\"c748ab45-538f-4407-b778-9fd896a227ba\",\"type\":\"Toolbar\"},\"x_range\":{\"id\":\"edd1cd82-c36b-4797-9f85-15b95793adad\",\"type\":\"Range1d\"},\"y_range\":{\"id\":\"544ed339-6e67-4619-84d7-1b152dec7362\",\"type\":\"Range1d\"}},\"id\":\"b1314c9b-061a-4714-bf2b-b4460ff21bb4\",\"subtype\":\"Figure\",\"type\":\"Plot\"},{\"attributes\":{\"overlay\":{\"id\":\"70b0a575-0b4f-4d00-85d3-f238c0dd33ff\",\"type\":\"BoxAnnotation\"},\"plot\":{\"id\":\"a6521c49-0574-4edc-882a-d8165bf8658c\",\"subtype\":\"Figure\",\"type\":\"Plot\"}},\"id\":\"8a3b7ab6-28c3-4a9c-92d5-b430b162bdbe\",\"type\":\"BoxZoomTool\"},{\"attributes\":{\"formatter\":{\"id\":\"42b4c1f6-6441-43e8-9de9-33ea5c9f1b13\",\"type\":\"BasicTickFormatter\"},\"plot\":{\"id\":\"b1314c9b-061a-4714-bf2b-b4460ff21bb4\",\"subtype\":\"Figure\",\"type\":\"Plot\"},\"ticker\":{\"id\":\"8d9abb1a-1a95-490f-8a32-31c48e5f5525\",\"type\":\"BasicTicker\"}},\"id\":\"3412a730-75c7-4f7f-8dab-4a33ed2554ac\",\"type\":\"LinearAxis\"},{\"attributes\":{\"below\":[{\"id\":\"f3659d8f-3401-4980-8574-8e6a35b71a8f\",\"type\":\"LinearAxis\"}],\"left\":[{\"id\":\"4041f0c2-afe4-4c01-8217-53045abc660c\",\"type\":\"LinearAxis\"}],\"plot_height\":300,\"plot_width\":300,\"renderers\":[{\"id\":\"f3659d8f-3401-4980-8574-8e6a35b71a8f\",\"type\":\"LinearAxis\"},{\"id\":\"04ccfe18-5faf-4413-8173-4f804b15df39\",\"type\":\"Grid\"},{\"id\":\"4041f0c2-afe4-4c01-8217-53045abc660c\",\"type\":\"LinearAxis\"},{\"id\":\"58c9804b-4c11-4043-8ec3-23f3426b24b2\",\"type\":\"Grid\"},{\"id\":\"70b0a575-0b4f-4d00-85d3-f238c0dd33ff\",\"type\":\"BoxAnnotation\"},{\"id\":\"d2e12c39-bbe1-42c7-a666-0ebe5a446c5f\",\"type\":\"GlyphRenderer\"}],\"title\":{\"id\":\"a29eda3e-16b2-45a6-946e-e26e66965ed5\",\"type\":\"Title\"},\"tool_events\":{\"id\":\"d6e2e5af-3290-42de-9053-7bfdf416005e\",\"type\":\"ToolEvents\"},\"toolbar\":{\"id\":\"eb0dfbac-7df1-4c9e-9d34-604a17fe8f65\",\"type\":\"Toolbar\"},\"x_range\":{\"id\":\"edd1cd82-c36b-4797-9f85-15b95793adad\",\"type\":\"Range1d\"},\"y_range\":{\"id\":\"544ed339-6e67-4619-84d7-1b152dec7362\",\"type\":\"Range1d\"}},\"id\":\"a6521c49-0574-4edc-882a-d8165bf8658c\",\"subtype\":\"Figure\",\"type\":\"Plot\"},{\"attributes\":{\"plot\":{\"id\":\"b1314c9b-061a-4714-bf2b-b4460ff21bb4\",\"subtype\":\"Figure\",\"type\":\"Plot\"}},\"id\":\"f818b961-c27a-4546-9678-a4ed6d7e926b\",\"type\":\"ResetTool\"},{\"attributes\":{\"active_drag\":\"auto\",\"active_scroll\":\"auto\",\"active_tap\":\"auto\",\"tools\":[{\"id\":\"5c9d10ee-b7fc-4033-a62d-cf26549c3db4\",\"type\":\"PanTool\"},{\"id\":\"21a6575b-d2d1-4b54-9c8b-15b49070e5cf\",\"type\":\"WheelZoomTool\"},{\"id\":\"8a3b7ab6-28c3-4a9c-92d5-b430b162bdbe\",\"type\":\"BoxZoomTool\"},{\"id\":\"5e0e403f-9b50-427d-9a30-8cd014f879d8\",\"type\":\"ResetTool\"},{\"id\":\"0325b453-1c1f-4d80-9f22-67a6c40ee4d3\",\"type\":\"SaveTool\"}]},\"id\":\"eb0dfbac-7df1-4c9e-9d34-604a17fe8f65\",\"type\":\"Toolbar\"},{\"attributes\":{},\"id\":\"3e084ba6-a1ca-4e55-92db-39839470fa91\",\"type\":\"BasicTickFormatter\"},{\"attributes\":{\"plot\":{\"id\":\"a6521c49-0574-4edc-882a-d8165bf8658c\",\"subtype\":\"Figure\",\"type\":\"Plot\"}},\"id\":\"5c9d10ee-b7fc-4033-a62d-cf26549c3db4\",\"type\":\"PanTool\"},{\"attributes\":{\"below\":[{\"id\":\"880c5edf-4c02-4f83-863b-f618db6a906d\",\"type\":\"LinearAxis\"}],\"left\":[{\"id\":\"0b4ec502-2712-4b48-a31f-d84ecffe6884\",\"type\":\"LinearAxis\"}],\"plot_height\":300,\"plot_width\":300,\"renderers\":[{\"id\":\"880c5edf-4c02-4f83-863b-f618db6a906d\",\"type\":\"LinearAxis\"},{\"id\":\"e3b5f3b6-eb7b-4b15-9561-77157bb4672a\",\"type\":\"Grid\"},{\"id\":\"0b4ec502-2712-4b48-a31f-d84ecffe6884\",\"type\":\"LinearAxis\"},{\"id\":\"c27dc396-ee01-44f6-9697-50df7194df43\",\"type\":\"Grid\"},{\"id\":\"7cd319ea-3a04-42c4-8c9d-c8642c7f2ec1\",\"type\":\"BoxAnnotation\"},{\"id\":\"4a6a12a5-6b21-4274-a98a-5f32d8ec0b97\",\"type\":\"GlyphRenderer\"}],\"title\":{\"id\":\"28d60fd5-c2c5-45e2-8e75-f5309d131cc0\",\"type\":\"Title\"},\"tool_events\":{\"id\":\"4e4e6908-c512-4a6e-a86d-5ad16a854ca7\",\"type\":\"ToolEvents\"},\"toolbar\":{\"id\":\"41cc62b8-9bd7-4856-98eb-b273799bba9c\",\"type\":\"Toolbar\"},\"x_range\":{\"id\":\"3596332f-a459-4c97-b8f9-11636a8757f5\",\"type\":\"Range1d\"},\"y_range\":{\"id\":\"7fa523f2-3a6b-489c-ba98-f1e3d8213a0c\",\"type\":\"Range1d\"}},\"id\":\"863826db-cae8-4359-ba8f-dc7919a991e5\",\"subtype\":\"Figure\",\"type\":\"Plot\"},{\"attributes\":{\"overlay\":{\"id\":\"7cd319ea-3a04-42c4-8c9d-c8642c7f2ec1\",\"type\":\"BoxAnnotation\"},\"plot\":{\"id\":\"863826db-cae8-4359-ba8f-dc7919a991e5\",\"subtype\":\"Figure\",\"type\":\"Plot\"}},\"id\":\"776ef055-a1d3-4217-8de5-6e456b6abeea\",\"type\":\"BoxZoomTool\"},{\"attributes\":{\"fill_alpha\":{\"value\":0.1},\"fill_color\":{\"value\":\"#1f77b4\"},\"line_alpha\":{\"value\":0.1},\"line_color\":{\"value\":\"#1f77b4\"},\"size\":{\"units\":\"screen\",\"value\":12},\"x\":{\"field\":\"x\"},\"y\":{\"field\":\"y\"}},\"id\":\"4083754a-6979-41a2-bd06-294e5eef506d\",\"type\":\"Circle\"},{\"attributes\":{\"callback\":null,\"end\":30},\"id\":\"544ed339-6e67-4619-84d7-1b152dec7362\",\"type\":\"Range1d\"},{\"attributes\":{\"plot\":{\"id\":\"a6521c49-0574-4edc-882a-d8165bf8658c\",\"subtype\":\"Figure\",\"type\":\"Plot\"}},\"id\":\"21a6575b-d2d1-4b54-9c8b-15b49070e5cf\",\"type\":\"WheelZoomTool\"},{\"attributes\":{\"plot\":{\"id\":\"b1314c9b-061a-4714-bf2b-b4460ff21bb4\",\"subtype\":\"Figure\",\"type\":\"Plot\"}},\"id\":\"bcbf1d48-b1f6-406f-abbc-a7349bab0287\",\"type\":\"WheelZoomTool\"},{\"attributes\":{\"plot\":{\"id\":\"863826db-cae8-4359-ba8f-dc7919a991e5\",\"subtype\":\"Figure\",\"type\":\"Plot\"}},\"id\":\"4b820023-d47b-46b5-b46d-eb0a3d495b2d\",\"type\":\"WheelZoomTool\"},{\"attributes\":{},\"id\":\"d6e2e5af-3290-42de-9053-7bfdf416005e\",\"type\":\"ToolEvents\"},{\"attributes\":{},\"id\":\"66bce0ad-3004-4406-90f0-02d4a0f50e49\",\"type\":\"BasicTicker\"},{\"attributes\":{\"plot\":{\"id\":\"863826db-cae8-4359-ba8f-dc7919a991e5\",\"subtype\":\"Figure\",\"type\":\"Plot\"},\"ticker\":{\"id\":\"66bce0ad-3004-4406-90f0-02d4a0f50e49\",\"type\":\"BasicTicker\"}},\"id\":\"e3b5f3b6-eb7b-4b15-9561-77157bb4672a\",\"type\":\"Grid\"},{\"attributes\":{\"formatter\":{\"id\":\"3e084ba6-a1ca-4e55-92db-39839470fa91\",\"type\":\"BasicTickFormatter\"},\"plot\":{\"id\":\"a6521c49-0574-4edc-882a-d8165bf8658c\",\"subtype\":\"Figure\",\"type\":\"Plot\"},\"ticker\":{\"id\":\"6545bf1b-4f5e-438e-835b-8d598c54b789\",\"type\":\"BasicTicker\"}},\"id\":\"4041f0c2-afe4-4c01-8217-53045abc660c\",\"type\":\"LinearAxis\"},{\"attributes\":{\"dimension\":1,\"plot\":{\"id\":\"b1314c9b-061a-4714-bf2b-b4460ff21bb4\",\"subtype\":\"Figure\",\"type\":\"Plot\"},\"ticker\":{\"id\":\"adb20a5f-dd3d-4f56-82f4-739e899a32bf\",\"type\":\"BasicTicker\"}},\"id\":\"ae7b3d2c-00e6-49f5-b842-cec877ac5e41\",\"type\":\"Grid\"},{\"attributes\":{\"plot\":null,\"text\":null},\"id\":\"28d60fd5-c2c5-45e2-8e75-f5309d131cc0\",\"type\":\"Title\"},{\"attributes\":{},\"id\":\"d2b8ee67-837b-44a9-a401-e099c7e16061\",\"type\":\"BasicTicker\"},{\"attributes\":{\"plot\":{\"id\":\"a6521c49-0574-4edc-882a-d8165bf8658c\",\"subtype\":\"Figure\",\"type\":\"Plot\"},\"ticker\":{\"id\":\"d2b8ee67-837b-44a9-a401-e099c7e16061\",\"type\":\"BasicTicker\"}},\"id\":\"04ccfe18-5faf-4413-8173-4f804b15df39\",\"type\":\"Grid\"},{\"attributes\":{\"fill_alpha\":{\"value\":0.1},\"fill_color\":{\"value\":\"#1f77b4\"},\"line_alpha\":{\"value\":0.1},\"line_color\":{\"value\":\"#1f77b4\"},\"size\":{\"units\":\"screen\",\"value\":12},\"x\":{\"field\":\"x\"},\"y\":{\"field\":\"y\"}},\"id\":\"7bac62ba-1aff-498e-9831-54bb78121f3c\",\"type\":\"Circle\"},{\"attributes\":{},\"id\":\"59ebdadd-b4ea-47a8-8f09-5bc155b941d2\",\"type\":\"BasicTicker\"},{\"attributes\":{},\"id\":\"6545bf1b-4f5e-438e-835b-8d598c54b789\",\"type\":\"BasicTicker\"},{\"attributes\":{\"plot\":null,\"text\":null},\"id\":\"a29eda3e-16b2-45a6-946e-e26e66965ed5\",\"type\":\"Title\"},{\"attributes\":{},\"id\":\"1e830641-bd3a-4e0e-9cd6-b434ce37d577\",\"type\":\"BasicTickFormatter\"},{\"attributes\":{\"plot\":{\"id\":\"863826db-cae8-4359-ba8f-dc7919a991e5\",\"subtype\":\"Figure\",\"type\":\"Plot\"}},\"id\":\"0a7d5cf8-cda5-4887-9898-b71044811840\",\"type\":\"PanTool\"},{\"attributes\":{\"fill_alpha\":{\"value\":0.5},\"fill_color\":{\"value\":\"red\"},\"line_alpha\":{\"value\":0.5},\"line_color\":{\"value\":\"red\"},\"size\":{\"units\":\"screen\",\"value\":12},\"x\":{\"field\":\"x\"},\"y\":{\"field\":\"y\"}},\"id\":\"4ed2e0ce-80b5-4752-9147-0398a89341e7\",\"type\":\"Circle\"},{\"attributes\":{},\"id\":\"adb20a5f-dd3d-4f56-82f4-739e899a32bf\",\"type\":\"BasicTicker\"},{\"attributes\":{\"fill_alpha\":{\"value\":0.5},\"fill_color\":{\"value\":\"green\"},\"line_alpha\":{\"value\":0.5},\"line_color\":{\"value\":\"green\"},\"size\":{\"units\":\"screen\",\"value\":12},\"x\":{\"field\":\"x\"},\"y\":{\"field\":\"y\"}},\"id\":\"11852e53-ee50-4840-a432-1008c87686f8\",\"type\":\"Circle\"},{\"attributes\":{\"plot\":{\"id\":\"b1314c9b-061a-4714-bf2b-b4460ff21bb4\",\"subtype\":\"Figure\",\"type\":\"Plot\"},\"ticker\":{\"id\":\"8d9abb1a-1a95-490f-8a32-31c48e5f5525\",\"type\":\"BasicTicker\"}},\"id\":\"cf6d4bba-889b-4065-91f1-7c53da8e1a2e\",\"type\":\"Grid\"},{\"attributes\":{},\"id\":\"389fc359-08cc-4204-8dd0-243e051ab78b\",\"type\":\"ToolEvents\"},{\"attributes\":{\"formatter\":{\"id\":\"626fae4c-21a5-44c3-812b-a83d2ed435c9\",\"type\":\"BasicTickFormatter\"},\"plot\":{\"id\":\"863826db-cae8-4359-ba8f-dc7919a991e5\",\"subtype\":\"Figure\",\"type\":\"Plot\"},\"ticker\":{\"id\":\"59ebdadd-b4ea-47a8-8f09-5bc155b941d2\",\"type\":\"BasicTicker\"}},\"id\":\"0b4ec502-2712-4b48-a31f-d84ecffe6884\",\"type\":\"LinearAxis\"}],\"root_ids\":[\"863826db-cae8-4359-ba8f-dc7919a991e5\",\"b1314c9b-061a-4714-bf2b-b4460ff21bb4\",\"a6521c49-0574-4edc-882a-d8165bf8658c\"]},\"title\":\"Bokeh Application\",\"version\":\"0.12.3\"}};\n",
      "        var render_items = [{\"docid\":\"8eb5f21e-7339-437e-a5d1-488f0879a869\",\"elementid\":\"4aa6e683-1bba-4998-a2a3-3d35519f3044\",\"modelid\":\"863826db-cae8-4359-ba8f-dc7919a991e5\"},{\"docid\":\"8eb5f21e-7339-437e-a5d1-488f0879a869\",\"elementid\":\"b300f7d0-a467-4666-a696-f0bafbe38c29\",\"modelid\":\"b1314c9b-061a-4714-bf2b-b4460ff21bb4\"},{\"docid\":\"8eb5f21e-7339-437e-a5d1-488f0879a869\",\"elementid\":\"90c5f723-f0da-4e1b-a6e7-7a65e8c27d79\",\"modelid\":\"a6521c49-0574-4edc-882a-d8165bf8658c\"}];\n",
      "        \n",
      "        Bokeh.embed.embed_items(docs_json, render_items);\n",
      "    });\n",
      "});\n",
      "</script>\n",
      "{'Green': '\\n<div class=\"bk-root\">\\n    <div class=\"plotdiv\" id=\"4aa6e683-1bba-4998-a2a3-3d35519f3044\"></div>\\n</div>', 'Red': '\\n<div class=\"bk-root\">\\n    <div class=\"plotdiv\" id=\"90c5f723-f0da-4e1b-a6e7-7a65e8c27d79\"></div>\\n</div>', 'Blue': '\\n<div class=\"bk-root\">\\n    <div class=\"plotdiv\" id=\"b300f7d0-a467-4666-a696-f0bafbe38c29\"></div>\\n</div>'}\n"
     ]
    }
   ],
   "source": [
    "# scatter.py\n",
    "\n",
    "from bokeh.plotting import figure\n",
    "from bokeh.models import Range1d\n",
    "from bokeh.embed import components\n",
    "\n",
    "# create some data\n",
    "x1 = [0, 1, 2, 3, 4, 5, 6, 7, 8, 9, 10]\n",
    "y1 = [0, 8, 2, 4, 6, 9, 5, 6, 25, 28, 4, 7]\n",
    "x2 = [2, 5, 7, 15, 18, 19, 25, 28, 9, 10, 4]\n",
    "y2 = [2, 4, 6, 9, 15, 18, 0, 8, 2, 25, 28]\n",
    "x3 = [0, 1, 0, 8, 2, 4, 6, 9, 7, 8, 9]\n",
    "y3 = [0, 8, 4, 6, 9, 15, 18, 19, 19, 25, 28]\n",
    "\n",
    "# select the tools we want\n",
    "TOOLS=\"pan,wheel_zoom,box_zoom,reset,save\"\n",
    "\n",
    "# the red and blue graphs will share this data range\n",
    "xr1 = Range1d(start=0, end=30)\n",
    "yr1 = Range1d(start=0, end=30)\n",
    "\n",
    "# only the green will use this data range\n",
    "xr2 = Range1d(start=0, end=30)\n",
    "yr2 = Range1d(start=0, end=30)\n",
    "\n",
    "# build our figures\n",
    "p1 = figure(x_range=xr1, y_range=yr1, tools=TOOLS, plot_width=300, plot_height=300)\n",
    "p1.scatter(x1, y1, size=12, color=\"red\", alpha=0.5)\n",
    "\n",
    "p2 = figure(x_range=xr1, y_range=yr1, tools=TOOLS, plot_width=300, plot_height=300)\n",
    "p2.scatter(x2, y2, size=12, color=\"blue\", alpha=0.5)\n",
    "\n",
    "p3 = figure(x_range=xr2, y_range=yr2, tools=TOOLS, plot_width=300, plot_height=300)\n",
    "p3.scatter(x3, y3, size=12, color=\"green\", alpha=0.5)\n",
    "\n",
    "# plots can be a single Bokeh Model, a list/tuple, or even a dictionary\n",
    "plots = {'Red': p1, 'Blue': p2, 'Green': p3}\n",
    "\n",
    "script, div = components(plots)\n",
    "print(script)\n",
    "print(div)"
   ]
  },
  {
   "cell_type": "markdown",
   "metadata": {},
   "source": [
    "### Autoload"
   ]
  },
  {
   "cell_type": "code",
   "execution_count": 50,
   "metadata": {
    "collapsed": false
   },
   "outputs": [
    {
     "name": "stdout",
     "output_type": "stream",
     "text": [
      "/home/jovyan/work\n"
     ]
    }
   ],
   "source": [
    "cd ..\n"
   ]
  },
  {
   "cell_type": "code",
   "execution_count": 48,
   "metadata": {
    "collapsed": false
   },
   "outputs": [
    {
     "ename": "OSError",
     "evalue": "Cannot push session document because we failed to connect to the server (to start the server, try the 'bokeh serve' command)",
     "output_type": "error",
     "traceback": [
      "\u001b[0;31m---------------------------------------------------------------------------\u001b[0m",
      "\u001b[0;31mOSError\u001b[0m                                   Traceback (most recent call last)",
      "\u001b[0;32m<ipython-input-48-39ae0722668a>\u001b[0m in \u001b[0;36m<module>\u001b[0;34m()\u001b[0m\n\u001b[1;32m      7\u001b[0m \u001b[0mplot\u001b[0m\u001b[0;34m.\u001b[0m\u001b[0mcircle\u001b[0m\u001b[0;34m(\u001b[0m\u001b[0;34m[\u001b[0m\u001b[0;36m1\u001b[0m\u001b[0;34m,\u001b[0m\u001b[0;36m2\u001b[0m\u001b[0;34m]\u001b[0m\u001b[0;34m,\u001b[0m \u001b[0;34m[\u001b[0m\u001b[0;36m3\u001b[0m\u001b[0;34m,\u001b[0m\u001b[0;36m4\u001b[0m\u001b[0;34m]\u001b[0m\u001b[0;34m)\u001b[0m\u001b[0;34m\u001b[0m\u001b[0m\n\u001b[1;32m      8\u001b[0m \u001b[0;34m\u001b[0m\u001b[0m\n\u001b[0;32m----> 9\u001b[0;31m \u001b[0msession\u001b[0m \u001b[0;34m=\u001b[0m \u001b[0mpush_session\u001b[0m\u001b[0;34m(\u001b[0m\u001b[0mcurdoc\u001b[0m\u001b[0;34m(\u001b[0m\u001b[0;34m)\u001b[0m\u001b[0;34m)\u001b[0m\u001b[0;34m\u001b[0m\u001b[0m\n\u001b[0m\u001b[1;32m     10\u001b[0m \u001b[0mscript\u001b[0m \u001b[0;34m=\u001b[0m \u001b[0mautoload_server\u001b[0m\u001b[0;34m(\u001b[0m\u001b[0mplot\u001b[0m\u001b[0;34m,\u001b[0m \u001b[0msession_id\u001b[0m\u001b[0;34m=\u001b[0m\u001b[0msession\u001b[0m\u001b[0;34m.\u001b[0m\u001b[0mid\u001b[0m\u001b[0;34m)\u001b[0m\u001b[0;34m\u001b[0m\u001b[0m\n",
      "\u001b[0;32m/opt/conda/lib/python3.5/site-packages/bokeh/client/session.py\u001b[0m in \u001b[0;36mpush_session\u001b[0;34m(document, session_id, url, app_path, io_loop)\u001b[0m\n\u001b[1;32m     58\u001b[0m     \u001b[0mcoords\u001b[0m \u001b[0;34m=\u001b[0m \u001b[0m_SessionCoordinates\u001b[0m\u001b[0;34m(\u001b[0m\u001b[0mdict\u001b[0m\u001b[0;34m(\u001b[0m\u001b[0msession_id\u001b[0m\u001b[0;34m=\u001b[0m\u001b[0msession_id\u001b[0m\u001b[0;34m,\u001b[0m \u001b[0murl\u001b[0m\u001b[0;34m=\u001b[0m\u001b[0murl\u001b[0m\u001b[0;34m,\u001b[0m \u001b[0mapp_path\u001b[0m\u001b[0;34m=\u001b[0m\u001b[0mapp_path\u001b[0m\u001b[0;34m)\u001b[0m\u001b[0;34m)\u001b[0m\u001b[0;34m\u001b[0m\u001b[0m\n\u001b[1;32m     59\u001b[0m     \u001b[0msession\u001b[0m \u001b[0;34m=\u001b[0m \u001b[0mClientSession\u001b[0m\u001b[0;34m(\u001b[0m\u001b[0msession_id\u001b[0m\u001b[0;34m=\u001b[0m\u001b[0mcoords\u001b[0m\u001b[0;34m.\u001b[0m\u001b[0msession_id\u001b[0m\u001b[0;34m,\u001b[0m \u001b[0mwebsocket_url\u001b[0m\u001b[0;34m=\u001b[0m\u001b[0mcoords\u001b[0m\u001b[0;34m.\u001b[0m\u001b[0mwebsocket_url\u001b[0m\u001b[0;34m,\u001b[0m \u001b[0mio_loop\u001b[0m\u001b[0;34m=\u001b[0m\u001b[0mio_loop\u001b[0m\u001b[0;34m)\u001b[0m\u001b[0;34m\u001b[0m\u001b[0m\n\u001b[0;32m---> 60\u001b[0;31m     \u001b[0msession\u001b[0m\u001b[0;34m.\u001b[0m\u001b[0mpush\u001b[0m\u001b[0;34m(\u001b[0m\u001b[0mdocument\u001b[0m\u001b[0;34m)\u001b[0m\u001b[0;34m\u001b[0m\u001b[0m\n\u001b[0m\u001b[1;32m     61\u001b[0m     \u001b[0;32mreturn\u001b[0m \u001b[0msession\u001b[0m\u001b[0;34m\u001b[0m\u001b[0m\n\u001b[1;32m     62\u001b[0m \u001b[0;34m\u001b[0m\u001b[0m\n",
      "\u001b[0;32m/opt/conda/lib/python3.5/site-packages/bokeh/client/session.py\u001b[0m in \u001b[0;36mpush\u001b[0;34m(self, document)\u001b[0m\n\u001b[1;32m    266\u001b[0m         \u001b[0mself\u001b[0m\u001b[0;34m.\u001b[0m\u001b[0mconnect\u001b[0m\u001b[0;34m(\u001b[0m\u001b[0;34m)\u001b[0m\u001b[0;34m\u001b[0m\u001b[0m\n\u001b[1;32m    267\u001b[0m         \u001b[0;32mif\u001b[0m \u001b[0;32mnot\u001b[0m \u001b[0mself\u001b[0m\u001b[0;34m.\u001b[0m\u001b[0m_connection\u001b[0m\u001b[0;34m.\u001b[0m\u001b[0mconnected\u001b[0m\u001b[0;34m:\u001b[0m\u001b[0;34m\u001b[0m\u001b[0m\n\u001b[0;32m--> 268\u001b[0;31m             \u001b[0;32mraise\u001b[0m \u001b[0mIOError\u001b[0m\u001b[0;34m(\u001b[0m\u001b[0;34m\"Cannot push session document because we failed to connect to the server (to start the server, try the 'bokeh serve' command)\"\u001b[0m\u001b[0;34m)\u001b[0m\u001b[0;34m\u001b[0m\u001b[0m\n\u001b[0m\u001b[1;32m    269\u001b[0m         \u001b[0mself\u001b[0m\u001b[0;34m.\u001b[0m\u001b[0m_connection\u001b[0m\u001b[0;34m.\u001b[0m\u001b[0mpush_doc\u001b[0m\u001b[0;34m(\u001b[0m\u001b[0mdoc\u001b[0m\u001b[0;34m)\u001b[0m\u001b[0;34m\u001b[0m\u001b[0m\n\u001b[1;32m    270\u001b[0m         \u001b[0;32mif\u001b[0m \u001b[0mself\u001b[0m\u001b[0;34m.\u001b[0m\u001b[0m_document\u001b[0m \u001b[0;32mis\u001b[0m \u001b[0;32mNone\u001b[0m\u001b[0;34m:\u001b[0m\u001b[0;34m\u001b[0m\u001b[0m\n",
      "\u001b[0;31mOSError\u001b[0m: Cannot push session document because we failed to connect to the server (to start the server, try the 'bokeh serve' command)"
     ]
    }
   ],
   "source": [
    "from bokeh.client import push_session\n",
    "from bokeh.embed import autoload_server\n",
    "from bokeh.plotting import figure, curdoc\n",
    "\n",
    "# figure() function auto-adds the figure to curdoc()\n",
    "plot = figure()\n",
    "plot.circle([1,2], [3,4])\n",
    "\n",
    "session = push_session(curdoc())\n",
    "script = autoload_server(plot, session_id=session.id)"
   ]
  },
  {
   "cell_type": "code",
   "execution_count": null,
   "metadata": {
    "collapsed": true
   },
   "outputs": [],
   "source": []
  }
 ],
 "metadata": {
  "kernelspec": {
   "display_name": "Python 3",
   "language": "python",
   "name": "python3"
  },
  "language_info": {
   "codemirror_mode": {
    "name": "ipython",
    "version": 3
   },
   "file_extension": ".py",
   "mimetype": "text/x-python",
   "name": "python",
   "nbconvert_exporter": "python",
   "pygments_lexer": "ipython3",
   "version": "3.5.2"
  }
 },
 "nbformat": 4,
 "nbformat_minor": 0
}
